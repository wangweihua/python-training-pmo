{
 "cells": [
  {
   "cell_type": "markdown",
   "metadata": {
    "slideshow": {
     "slide_type": "slide"
    }
   },
   "source": [
    "# 猜数字游戏\n",
    "\n",
    "猜一个1到100之内数字，看看猜几次能猜中。"
   ]
  },
  {
   "cell_type": "markdown",
   "metadata": {
    "slideshow": {
     "slide_type": "slide"
    }
   },
   "source": [
    "## 第1步\n",
    "\n",
    "需要产生一个 1 到 100 之内的随机整数。可以使用`random.randint()`函数来产生："
   ]
  },
  {
   "cell_type": "code",
   "execution_count": 1,
   "metadata": {
    "slideshow": {
     "slide_type": "-"
    }
   },
   "outputs": [],
   "source": [
    "import random\n",
    "\n",
    "target_number = random.randint(1, 100)"
   ]
  },
  {
   "cell_type": "markdown",
   "metadata": {
    "slideshow": {
     "slide_type": "slide"
    }
   },
   "source": [
    "## 第2步\n",
    "\n",
    "提示用户猜一个数字，使用`input()`函数获取用户输入："
   ]
  },
  {
   "cell_type": "code",
   "execution_count": 2,
   "metadata": {
    "slideshow": {
     "slide_type": "-"
    }
   },
   "outputs": [
    {
     "name": "stdout",
     "output_type": "stream",
     "text": [
      "猜一个数字：12\n"
     ]
    },
    {
     "data": {
      "text/plain": [
       "'12'"
      ]
     },
     "execution_count": 2,
     "metadata": {},
     "output_type": "execute_result"
    }
   ],
   "source": [
    "guess_number = input('猜一个数字：')\n",
    "guess_number"
   ]
  },
  {
   "cell_type": "markdown",
   "metadata": {
    "slideshow": {
     "slide_type": "slide"
    }
   },
   "source": [
    "`input()`返回的是字符串数字，需要把它转换为整数，使用`int()`函数进行转换："
   ]
  },
  {
   "cell_type": "code",
   "execution_count": 3,
   "metadata": {
    "slideshow": {
     "slide_type": "-"
    }
   },
   "outputs": [
    {
     "data": {
      "text/plain": [
       "12"
      ]
     },
     "execution_count": 3,
     "metadata": {},
     "output_type": "execute_result"
    }
   ],
   "source": [
    "guess_number = int(guess_number)\n",
    "guess_number"
   ]
  },
  {
   "cell_type": "markdown",
   "metadata": {
    "slideshow": {
     "slide_type": "slide"
    }
   },
   "source": [
    "## 判断整数\n",
    "\n",
    "判断用户是否猜对了，使用条件语句进行判断："
   ]
  },
  {
   "cell_type": "code",
   "execution_count": 4,
   "metadata": {
    "slideshow": {
     "slide_type": "-"
    }
   },
   "outputs": [
    {
     "name": "stdout",
     "output_type": "stream",
     "text": [
      "猜大了\n"
     ]
    }
   ],
   "source": [
    "if guess_number == target_number:\n",
    "    print('猜对了', target_number)\n",
    "elif guess_number > target_number:\n",
    "    print('猜大了')\n",
    "else:\n",
    "    print('猜小了')    "
   ]
  },
  {
   "cell_type": "markdown",
   "metadata": {
    "slideshow": {
     "slide_type": "slide"
    }
   },
   "source": [
    "## 反复地猜\n",
    "\n",
    "如果猜不中的话，还得继续猜。需要再次输入和判断："
   ]
  },
  {
   "cell_type": "code",
   "execution_count": 5,
   "metadata": {
    "slideshow": {
     "slide_type": "-"
    }
   },
   "outputs": [
    {
     "name": "stdout",
     "output_type": "stream",
     "text": [
      "猜一个数字：12\n",
      "猜大了\n"
     ]
    }
   ],
   "source": [
    "guess_number = input('猜一个数字：')\n",
    "guess_number = int(guess_number)\n",
    "if guess_number == target_number:\n",
    "    print('猜对了', target_number)\n",
    "elif guess_number > target_number:\n",
    "    print('猜大了')\n",
    "else:\n",
    "    print('猜小了')    "
   ]
  },
  {
   "cell_type": "markdown",
   "metadata": {
    "slideshow": {
     "slide_type": "slide"
    }
   },
   "source": [
    "这个过程要进行很多次，需要使用 `for` 循环语句，这里限定最多猜 8 次:"
   ]
  },
  {
   "cell_type": "code",
   "execution_count": 6,
   "metadata": {
    "slideshow": {
     "slide_type": "-"
    }
   },
   "outputs": [
    {
     "name": "stdout",
     "output_type": "stream",
     "text": [
      "猜一个数字：12\n",
      "猜大了\n",
      "猜一个数字：12\n",
      "猜大了\n",
      "猜一个数字：12\n",
      "猜大了\n",
      "猜一个数字：12\n",
      "猜大了\n",
      "猜一个数字：12\n",
      "猜大了\n",
      "猜一个数字：12\n",
      "猜大了\n",
      "猜一个数字：12\n",
      "猜大了\n",
      "猜一个数字：12\n",
      "猜大了\n"
     ]
    }
   ],
   "source": [
    "for i in range(8):\n",
    "    guess_number = input('猜一个数字：')\n",
    "    guess_number = int(guess_number)\n",
    "    if guess_number == target_number:\n",
    "        print('猜对了', target_number)\n",
    "    elif guess_number > target_number:\n",
    "        print('猜大了')\n",
    "    else:\n",
    "        print('猜小了')    "
   ]
  },
  {
   "cell_type": "markdown",
   "metadata": {
    "slideshow": {
     "slide_type": "slide"
    }
   },
   "source": [
    "# 当猜对了，应该跳出循环，可以使用 `break` 语句实现:"
   ]
  },
  {
   "cell_type": "code",
   "execution_count": 7,
   "metadata": {
    "slideshow": {
     "slide_type": "-"
    }
   },
   "outputs": [
    {
     "name": "stdout",
     "output_type": "stream",
     "text": [
      "猜一个数字：12\n",
      "猜大了\n",
      "猜一个数字：1\n",
      "猜小了\n",
      "猜一个数字：1\n",
      "猜小了\n",
      "猜一个数字：1\n",
      "猜小了\n",
      "猜一个数字：1\n",
      "猜小了\n",
      "猜一个数字：1\n",
      "猜小了\n",
      "猜一个数字：1\n",
      "猜小了\n",
      "猜一个数字：1\n",
      "猜小了\n"
     ]
    }
   ],
   "source": [
    "for i in range(8):\n",
    "    guess_number = input('猜一个数字：')\n",
    "    guess_number = int(guess_number)\n",
    "    if guess_number == target_number:\n",
    "        break\n",
    "    elif guess_number > target_number:\n",
    "        print('猜大了')\n",
    "    else:\n",
    "        print('猜小了')    "
   ]
  },
  {
   "cell_type": "markdown",
   "metadata": {
    "slideshow": {
     "slide_type": "slide"
    }
   },
   "source": [
    "猜对会跳出循环，但也可能循环结束也猜不对。在最后还要进行判断并总结发言："
   ]
  },
  {
   "cell_type": "code",
   "execution_count": 10,
   "metadata": {
    "slideshow": {
     "slide_type": "-"
    }
   },
   "outputs": [
    {
     "name": "stdout",
     "output_type": "stream",
     "text": [
      "您需要努力啊\n",
      "要猜的数字是 2\n"
     ]
    }
   ],
   "source": [
    "if guess_number == target_number:\n",
    "    print('您太厉害了！猜了', i+1, '次')        \n",
    "else:\n",
    "    print('您需要努力啊')            \n",
    "    print('要猜的数字是', target_number)  "
   ]
  },
  {
   "cell_type": "markdown",
   "metadata": {
    "slideshow": {
     "slide_type": "slide"
    }
   },
   "source": [
    "## 把语句合在一起放\n",
    "\n",
    "最后把上面的语句合在一起："
   ]
  },
  {
   "cell_type": "code",
   "execution_count": 11,
   "metadata": {
    "slideshow": {
     "slide_type": "-"
    }
   },
   "outputs": [
    {
     "name": "stdout",
     "output_type": "stream",
     "text": [
      "猜一个数字：50\n",
      "猜小了\n",
      "猜一个数字：75\n",
      "猜小了\n",
      "猜一个数字：87\n",
      "猜小了\n",
      "猜一个数字：93\n",
      "猜大了\n",
      "猜一个数字：90\n",
      "猜大了\n",
      "猜一个数字：89\n",
      "您太厉害了！猜了 6 次\n"
     ]
    }
   ],
   "source": [
    "import random\n",
    "\n",
    "target_number = random.randint(1, 100)\n",
    "for i in range(8):\n",
    "    guess_number = input('猜一个数字：')\n",
    "    guess_number = int(guess_number)\n",
    "    if guess_number == target_number:\n",
    "        break\n",
    "    elif guess_number > target_number:\n",
    "        print('猜大了')\n",
    "    else:\n",
    "        print('猜小了')       \n",
    "        \n",
    "if guess_number == target_number:\n",
    "    print('您太厉害了！猜了', i+1, '次')        \n",
    "else:\n",
    "    print('您需要努力啊')            \n",
    "    print('要猜的数字是', target_number)  "
   ]
  },
  {
   "cell_type": "markdown",
   "metadata": {
    "slideshow": {
     "slide_type": "skip"
    }
   },
   "source": [
    "## 最后\n",
    "\n",
    "把语句输出到一个文件中去写，使用注释行增加一些Shebang、文件格式说明等说明语句。"
   ]
  },
  {
   "cell_type": "code",
   "execution_count": 12,
   "metadata": {
    "slideshow": {
     "slide_type": "slide"
    }
   },
   "outputs": [
    {
     "name": "stdout",
     "output_type": "stream",
     "text": [
      "Writing guess_number.py\n"
     ]
    }
   ],
   "source": [
    "%%writefile guess_number.py \n",
    "#!/usr/bin/env python\n",
    "# -*- coding: utf-8 -*-\n",
    "# Copyright (c) 2018--2023, Wang Weihua.\n",
    "# All rights reserved.\n",
    "import random\n",
    "\n",
    "name = input(\"请问阁下尊姓大名？\")\n",
    "print('您好！', name)\n",
    "print('欢迎来到猜数字游戏，数字范围在1到100之间')\n",
    "\n",
    "target_number = random.randint(1, 100)\n",
    "for i in range(8):\n",
    "    guess_number = input('猜一个数字：')\n",
    "    guess_number = int(guess_number)\n",
    "    if guess_number == target_number:\n",
    "        break\n",
    "    elif guess_number > target_number:\n",
    "        print('猜大了')\n",
    "    else:\n",
    "        print('猜小了')       \n",
    "        \n",
    "if guess_number == target_number:\n",
    "    print('您太厉害了！猜了', i+1, '次')        \n",
    "else:\n",
    "    print('您需要努力啊')            \n",
    "    print('要猜的数字是', target_number)  "
   ]
  },
  {
   "cell_type": "markdown",
   "metadata": {
    "slideshow": {
     "slide_type": "slide"
    }
   },
   "source": [
    "以后就可以运行这个猜数字程序："
   ]
  },
  {
   "cell_type": "code",
   "execution_count": 13,
   "metadata": {
    "slideshow": {
     "slide_type": "-"
    }
   },
   "outputs": [
    {
     "name": "stdout",
     "output_type": "stream",
     "text": [
      "请问阁下尊姓大名？xx\n",
      "您好！ xx\n",
      "欢迎来到猜数字游戏，数字范围在1到100之间\n",
      "猜一个数字：50\n",
      "猜小了\n",
      "猜一个数字：75\n",
      "猜大了\n",
      "猜一个数字：62\n",
      "猜大了\n",
      "猜一个数字：56\n",
      "猜大了\n",
      "猜一个数字：53\n",
      "猜小了\n",
      "猜一个数字：55\n",
      "猜大了\n",
      "猜一个数字：54\n",
      "您太厉害了！猜了 7 次\n"
     ]
    }
   ],
   "source": [
    "%run guess_number.py"
   ]
  }
 ],
 "metadata": {
  "celltoolbar": "幻灯片",
  "kernelspec": {
   "display_name": "Python 3",
   "language": "python",
   "name": "python3"
  },
  "language_info": {
   "codemirror_mode": {
    "name": "ipython",
    "version": 3
   },
   "file_extension": ".py",
   "mimetype": "text/x-python",
   "name": "python",
   "nbconvert_exporter": "python",
   "pygments_lexer": "ipython3",
   "version": "3.7.3"
  },
  "toc": {
   "base_numbering": 1,
   "nav_menu": {},
   "number_sections": true,
   "sideBar": true,
   "skip_h1_title": false,
   "title_cell": "Table of Contents",
   "title_sidebar": "Contents",
   "toc_cell": false,
   "toc_position": {},
   "toc_section_display": true,
   "toc_window_display": false
  }
 },
 "nbformat": 4,
 "nbformat_minor": 2
}
