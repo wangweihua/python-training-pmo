{
 "cells": [
  {
   "cell_type": "markdown",
   "metadata": {
    "slideshow": {
     "slide_type": "slide"
    }
   },
   "source": [
    "# 基本数据类型-字符串(str)\n",
    "\n",
    "![到此一游](../images/real_word_string.gif)\n",
    "\n",
    "在 Python 中，对于这类文本信息，通常使用字符串(str)对象来实现。"
   ]
  },
  {
   "cell_type": "markdown",
   "metadata": {
    "slideshow": {
     "slide_type": "slide"
    }
   },
   "source": [
    "## 创建对象\n",
    "\n",
    "字面字符串常数有三种定义方法：\n",
    "- 单引号(`'`)\n",
    "- 双引号(`\"`)\n",
    "- 三引号(`'''`或`\"\"\"`)"
   ]
  },
  {
   "cell_type": "markdown",
   "metadata": {
    "slideshow": {
     "slide_type": "slide"
    }
   },
   "source": [
    "例如，使用单引号来定义字符串变量："
   ]
  },
  {
   "cell_type": "code",
   "execution_count": 1,
   "metadata": {
    "slideshow": {
     "slide_type": "-"
    }
   },
   "outputs": [
    {
     "name": "stdout",
     "output_type": "stream",
     "text": [
      "spam eggs\n"
     ]
    }
   ],
   "source": [
    "s1 = 'spam eggs'\n",
    "print(s1)"
   ]
  },
  {
   "cell_type": "markdown",
   "metadata": {
    "slideshow": {
     "slide_type": "slide"
    }
   },
   "source": [
    "有人会问，字符串包含单引号咋办？用双引号来定义："
   ]
  },
  {
   "cell_type": "code",
   "execution_count": 2,
   "metadata": {
    "slideshow": {
     "slide_type": "-"
    }
   },
   "outputs": [
    {
     "name": "stdout",
     "output_type": "stream",
     "text": [
      "I doesn't like it\n"
     ]
    }
   ],
   "source": [
    "s2 = \"I doesn't like it\"\n",
    "print(s2)"
   ]
  },
  {
   "cell_type": "markdown",
   "metadata": {
    "slideshow": {
     "slide_type": "slide"
    }
   },
   "source": [
    "反过来，如果字符串包含双引号，还是使用单引号来定义："
   ]
  },
  {
   "cell_type": "code",
   "execution_count": 3,
   "metadata": {
    "slideshow": {
     "slide_type": "-"
    }
   },
   "outputs": [
    {
     "name": "stdout",
     "output_type": "stream",
     "text": [
      "\"Yes, Sir\", he said\n"
     ]
    }
   ],
   "source": [
    "s3 = '\"Yes, Sir\", he said'\n",
    "print(s3)"
   ]
  },
  {
   "cell_type": "markdown",
   "metadata": {
    "slideshow": {
     "slide_type": "slide"
    }
   },
   "source": [
    "有人又问，如果字符串中包含单引号和双引号，那又咋办呢？没关系，可以使用三引号定义："
   ]
  },
  {
   "cell_type": "code",
   "execution_count": 4,
   "metadata": {
    "slideshow": {
     "slide_type": "-"
    }
   },
   "outputs": [
    {
     "name": "stdout",
     "output_type": "stream",
     "text": [
      " \"It isn't true\", she said.\n"
     ]
    }
   ],
   "source": [
    "s4 = ''' \"It isn't true\", she said.'''\n",
    "print(s4)"
   ]
  },
  {
   "cell_type": "markdown",
   "metadata": {
    "slideshow": {
     "slide_type": "slide"
    }
   },
   "source": [
    "三引号最大的优势是方便输入多行字符串，下面用`\"\"\"`来存放 Python 之禅文本："
   ]
  },
  {
   "cell_type": "code",
   "execution_count": 5,
   "metadata": {
    "slideshow": {
     "slide_type": "-"
    }
   },
   "outputs": [],
   "source": [
    "s5 = \"\"\"\n",
    "The Zen of Python, by Tim Peters\n",
    "\n",
    "Beautiful is better than ugly.\n",
    "Explicit is better than implicit.\n",
    "Simple is better than complex.\n",
    "Complex is better than complicated.\n",
    "Flat is better than nested.\n",
    "Sparse is better than dense.\n",
    "Readability counts.\n",
    "Special cases aren't special enough to break the rules.\n",
    "Although practicality beats purity.\n",
    "Errors should never pass silently.\n",
    "Unless explicitly silenced.\n",
    "In the face of ambiguity, refuse the temptation to guess.\n",
    "There should be one-- and preferably only one --obvious way to do it.\n",
    "Although that way may not be obvious at first unless you're Dutch.\n",
    "Now is better than never.\n",
    "Although never is often better than *right* now.\n",
    "If the implementation is hard to explain, it's a bad idea.\n",
    "If the implementation is easy to explain, it may be a good idea.\n",
    "Namespaces are one honking great idea -- let's do more of those!\n",
    "\"\"\""
   ]
  },
  {
   "cell_type": "code",
   "execution_count": 6,
   "metadata": {
    "slideshow": {
     "slide_type": "slide"
    }
   },
   "outputs": [
    {
     "name": "stdout",
     "output_type": "stream",
     "text": [
      "\n",
      "The Zen of Python, by Tim Peters\n",
      "\n",
      "Beautiful is better than ugly.\n",
      "Explicit is better than implicit.\n",
      "Simple is better than complex.\n",
      "Complex is better than complicated.\n",
      "Flat is better than nested.\n",
      "Sparse is better than dense.\n",
      "Readability counts.\n",
      "Special cases aren't special enough to break the rules.\n",
      "Although practicality beats purity.\n",
      "Errors should never pass silently.\n",
      "Unless explicitly silenced.\n",
      "In the face of ambiguity, refuse the temptation to guess.\n",
      "There should be one-- and preferably only one --obvious way to do it.\n",
      "Although that way may not be obvious at first unless you're Dutch.\n",
      "Now is better than never.\n",
      "Although never is often better than *right* now.\n",
      "If the implementation is hard to explain, it's a bad idea.\n",
      "If the implementation is easy to explain, it may be a good idea.\n",
      "Namespaces are one honking great idea -- let's do more of those!\n",
      "\n"
     ]
    }
   ],
   "source": [
    "print(s5)"
   ]
  },
  {
   "cell_type": "markdown",
   "metadata": {
    "slideshow": {
     "slide_type": "slide"
    }
   },
   "source": [
    "**转义符**\n",
    "\n",
    "在字符中有时会包含一些特殊字符时，这是可以用反斜杠(`\\`)转义字符，下表列出一些常见转义符：\n",
    "\n",
    "| 转义字符   |     含义   |\n",
    "|:------------|:--------------|\n",
    "|`\\newline`  | 忽略换行     |\n",
    "|`\\\\`      | 反斜杠（`\\`）  |\n",
    "|`\\'`      | 单引号（`'`）  |\n",
    "|`\\\"`      | 双引号（`\"`）  |\n",
    "|`\\a`      | 响铃       |\n",
    "|`\\b`      | 退格(Backspace) |\n",
    "|`\\e`      |转义   |\n",
    "|`\\000`    | 空   |\n",
    "|`\\n`      | 换行  |\n",
    "|`\\v`      | 垂直制表符 |\n",
    "|`\\t`      | 水平制表符 |\n",
    "|`\\r`      | 回车符 |\n",
    "|`\\f`      | 换页 |"
   ]
  },
  {
   "cell_type": "markdown",
   "metadata": {
    "slideshow": {
     "slide_type": "slide"
    }
   },
   "source": [
    "反斜杠(\\)是转义字符，如果字符串中要使用反斜杠，就可以使用转义符号`\\\\`来实现："
   ]
  },
  {
   "cell_type": "code",
   "execution_count": 7,
   "metadata": {
    "slideshow": {
     "slide_type": "-"
    }
   },
   "outputs": [
    {
     "name": "stdout",
     "output_type": "stream",
     "text": [
      "\\,',\",\u0007,2xx\b\\e\u0000\n",
      "\u000b",
      "\t\r",
      "\f",
      "\n"
     ]
    }
   ],
   "source": [
    "s8 = '\\\\,\\',\\\",\\a,2xx\\b\\e\\000\\n\\v\\t\\r\\f'\n",
    "print(s8)"
   ]
  },
  {
   "cell_type": "code",
   "execution_count": 8,
   "metadata": {
    "slideshow": {
     "slide_type": "-"
    }
   },
   "outputs": [
    {
     "data": {
      "text/plain": [
       "'\\\\,\\',\",\\x07,2xx\\x08\\\\e\\x00\\n\\x0b\\t\\r\\x0c'"
      ]
     },
     "execution_count": 8,
     "metadata": {},
     "output_type": "execute_result"
    }
   ],
   "source": [
    "s8"
   ]
  },
  {
   "cell_type": "markdown",
   "metadata": {
    "slideshow": {
     "slide_type": "slide"
    }
   },
   "source": [
    "有时候字符串中的转义符号太多，嫌输入转义符麻烦，可以使用原始字符串`r`或`R`来表示："
   ]
  },
  {
   "cell_type": "code",
   "execution_count": 9,
   "metadata": {
    "slideshow": {
     "slide_type": "-"
    }
   },
   "outputs": [
    {
     "name": "stdout",
     "output_type": "stream",
     "text": [
      "C:\\Windows\\System32 C:\\Windows\\System32\n"
     ]
    }
   ],
   "source": [
    "s9a = 'C:\\\\Windows\\\\System32'\n",
    "s9b = r'C:\\Windows\\System32'\n",
    "print(s9a, s9b)"
   ]
  },
  {
   "cell_type": "markdown",
   "metadata": {
    "slideshow": {
     "slide_type": "slide"
    }
   },
   "source": [
    "## 自省\n",
    "\n",
    "### 对象的特性\n",
    "\n",
    "字符串对象是 Python 内置类`str`的实例："
   ]
  },
  {
   "cell_type": "code",
   "execution_count": 10,
   "metadata": {
    "slideshow": {
     "slide_type": "-"
    }
   },
   "outputs": [
    {
     "name": "stdout",
     "output_type": "stream",
     "text": [
      "<class 'str'> <class 'str'> <class 'str'> <class 'str'>\n"
     ]
    }
   ],
   "source": [
    "print(type('spam eggs'), type(s1), type(s2), type(s3))"
   ]
  },
  {
   "cell_type": "markdown",
   "metadata": {
    "slideshow": {
     "slide_type": "-"
    }
   },
   "source": [
    "字符串对象是不可变对象，意味着不能改变对象。"
   ]
  },
  {
   "cell_type": "markdown",
   "metadata": {
    "slideshow": {
     "slide_type": "slide"
    }
   },
   "source": [
    "### 属性和方法\n",
    "\n",
    "使用`dir()`函数列出字符串的属性与方法："
   ]
  },
  {
   "cell_type": "code",
   "execution_count": 11,
   "metadata": {
    "slideshow": {
     "slide_type": "-"
    }
   },
   "outputs": [
    {
     "name": "stdout",
     "output_type": "stream",
     "text": [
      "['__add__', '__class__', '__contains__', '__delattr__', '__dir__', '__doc__', '__eq__', '__format__', '__ge__', '__getattribute__', '__getitem__', '__getnewargs__', '__gt__', '__hash__', '__init__', '__init_subclass__', '__iter__', '__le__', '__len__', '__lt__', '__mod__', '__mul__', '__ne__', '__new__', '__reduce__', '__reduce_ex__', '__repr__', '__rmod__', '__rmul__', '__setattr__', '__sizeof__', '__str__', '__subclasshook__', 'capitalize', 'casefold', 'center', 'count', 'encode', 'endswith', 'expandtabs', 'find', 'format', 'format_map', 'index', 'isalnum', 'isalpha', 'isascii', 'isdecimal', 'isdigit', 'isidentifier', 'islower', 'isnumeric', 'isprintable', 'isspace', 'istitle', 'isupper', 'join', 'ljust', 'lower', 'lstrip', 'maketrans', 'partition', 'replace', 'rfind', 'rindex', 'rjust', 'rpartition', 'rsplit', 'rstrip', 'split', 'splitlines', 'startswith', 'strip', 'swapcase', 'title', 'translate', 'upper', 'zfill']\n"
     ]
    }
   ],
   "source": [
    "print(dir(s1))"
   ]
  },
  {
   "cell_type": "markdown",
   "metadata": {
    "slideshow": {
     "slide_type": "slide"
    }
   },
   "source": [
    "#### 魔术方法\n",
    "\n",
    "字符串定义了`__add__`等魔术方法，尽管字符串不是数值，但照样可以使用`+`、`*`等操作，这就是Python 一致性的体现。"
   ]
  },
  {
   "cell_type": "markdown",
   "metadata": {
    "slideshow": {
     "slide_type": "slide"
    }
   },
   "source": [
    "**算术操作**\n",
    "\n",
    "|运算符 | 魔术方法    |  说明   |\n",
    "| :----:|:-------------| -------: |\n",
    "| `+`  | `__add__`    | 连接字符串 |\n",
    "| `*`  | `__mul__`    | 重复字符串 |"
   ]
  },
  {
   "cell_type": "code",
   "execution_count": 12,
   "metadata": {
    "slideshow": {
     "slide_type": "-"
    }
   },
   "outputs": [
    {
     "name": "stdout",
     "output_type": "stream",
     "text": [
      "I love Python\n"
     ]
    }
   ],
   "source": [
    "print('I love ' + 'Python')"
   ]
  },
  {
   "cell_type": "code",
   "execution_count": 13,
   "metadata": {
    "slideshow": {
     "slide_type": "-"
    }
   },
   "outputs": [
    {
     "name": "stdout",
     "output_type": "stream",
     "text": [
      "I love Python\n",
      "I love Python\n",
      "I love Python\n",
      "\n"
     ]
    }
   ],
   "source": [
    "print('I love Python\\n' * 3)"
   ]
  },
  {
   "cell_type": "markdown",
   "metadata": {
    "slideshow": {
     "slide_type": "slide"
    }
   },
   "source": [
    "**比较运算**\n",
    "\n",
    "字符串是由多个字符有序组成，支持比较运算。在进行比较运算时，会依次对每个元素进行比较："
   ]
  },
  {
   "cell_type": "code",
   "execution_count": 14,
   "metadata": {
    "slideshow": {
     "slide_type": "-"
    }
   },
   "outputs": [
    {
     "name": "stdout",
     "output_type": "stream",
     "text": [
      "True False False\n",
      "False True\n"
     ]
    }
   ],
   "source": [
    "print('abc' == 'abc', 'Abc' == 'abc', ' ' == '')\n",
    "print('abc' != 'abc', 'Abc' != 'abc')"
   ]
  },
  {
   "cell_type": "markdown",
   "metadata": {
    "slideshow": {
     "slide_type": "slide"
    }
   },
   "source": [
    "#### 序列操作\n",
    "\n",
    "字符串是一个序列（Sequence）对象。字符串是由多个字符组成，每个字符为序列的元素，字符串的字符是按照一定顺序存放的且不能更改。当一个对象实现了`__getitem__()`魔术方法，就称其为序列对象。与序列有关的魔术方法及其对应操作如下：\n",
    "\n",
    "|运算符  | 魔术方法    |  说明   |\n",
    "| :-----:|:-------------| -------: |\n",
    "|`len()` | `__len__`    | 获得字符串长度  |\n",
    "|`in`   | `__contains__` | 成员 |\n",
    "|`s[k]`  | `__getitem__`  | 返回序列内容  |"
   ]
  },
  {
   "cell_type": "markdown",
   "metadata": {
    "slideshow": {
     "slide_type": "slide"
    }
   },
   "source": [
    "使用Python内置的 `len()` 函数来返回序列元素的数目："
   ]
  },
  {
   "cell_type": "code",
   "execution_count": 15,
   "metadata": {
    "slideshow": {
     "slide_type": "-"
    }
   },
   "outputs": [
    {
     "name": "stdout",
     "output_type": "stream",
     "text": [
      "11\n",
      "10\n"
     ]
    }
   ],
   "source": [
    "s = 'Hello World'\n",
    "print(len(s))\n",
    "print(len('0123456789'))"
   ]
  },
  {
   "cell_type": "markdown",
   "metadata": {
    "slideshow": {
     "slide_type": "slide"
    }
   },
   "source": [
    "对于序列，可以使用成员操作符`in`来检查当字符或子字符串是否属于字符串："
   ]
  },
  {
   "cell_type": "code",
   "execution_count": 16,
   "metadata": {
    "slideshow": {
     "slide_type": "-"
    }
   },
   "outputs": [
    {
     "name": "stdout",
     "output_type": "stream",
     "text": [
      "True True False\n"
     ]
    }
   ],
   "source": [
    "s = '0123456789'\n",
    "print('0' in s, '123' in s, '245' in s)"
   ]
  },
  {
   "cell_type": "markdown",
   "metadata": {
    "slideshow": {
     "slide_type": "slide"
    }
   },
   "source": [
    "字符串是个序列（Sequence），其元素是按照一定顺序进行存储的。例如对于字符串`Hello World`，各个元素的排列如下如下图。\n",
    "![字符串序列](../images/positive_and_negative_indices_of_strings.png)\n",
    "\n",
    "在 Python 中，可以按照序号来访问该字符。要记住，序号是从 0 开始。为了方便，Python 还用负数来提供倒数的方法，例如`-1`表示倒数第1个，也就是最后一个字符。例如下面示例代码："
   ]
  },
  {
   "cell_type": "code",
   "execution_count": 17,
   "metadata": {
    "slideshow": {
     "slide_type": "-"
    }
   },
   "outputs": [
    {
     "ename": "IndexError",
     "evalue": "string index out of range",
     "output_type": "error",
     "traceback": [
      "\u001b[0;31m---------------------------------------------------------------------------\u001b[0m",
      "\u001b[0;31mIndexError\u001b[0m                                Traceback (most recent call last)",
      "\u001b[0;32m<ipython-input-17-0dfc1141fd8e>\u001b[0m in \u001b[0;36m<module>\u001b[0;34m\u001b[0m\n\u001b[0;32m----> 1\u001b[0;31m \u001b[0mprint\u001b[0m\u001b[0;34m(\u001b[0m\u001b[0ms\u001b[0m\u001b[0;34m[\u001b[0m\u001b[0;36m0\u001b[0m\u001b[0;34m]\u001b[0m\u001b[0;34m,\u001b[0m \u001b[0ms\u001b[0m\u001b[0;34m[\u001b[0m\u001b[0;36m5\u001b[0m\u001b[0;34m]\u001b[0m\u001b[0;34m,\u001b[0m \u001b[0ms\u001b[0m\u001b[0;34m[\u001b[0m\u001b[0;36m6\u001b[0m\u001b[0;34m]\u001b[0m\u001b[0;34m,\u001b[0m \u001b[0ms\u001b[0m\u001b[0;34m[\u001b[0m\u001b[0;36m10\u001b[0m\u001b[0;34m]\u001b[0m\u001b[0;34m)\u001b[0m\u001b[0;34m\u001b[0m\u001b[0;34m\u001b[0m\u001b[0m\n\u001b[0m\u001b[1;32m      2\u001b[0m \u001b[0mprint\u001b[0m\u001b[0;34m(\u001b[0m\u001b[0ms\u001b[0m\u001b[0;34m[\u001b[0m\u001b[0;34m-\u001b[0m\u001b[0;36m1\u001b[0m\u001b[0;34m]\u001b[0m\u001b[0;34m,\u001b[0m \u001b[0ms\u001b[0m\u001b[0;34m[\u001b[0m\u001b[0;34m-\u001b[0m\u001b[0;36m5\u001b[0m\u001b[0;34m]\u001b[0m\u001b[0;34m,\u001b[0m \u001b[0ms\u001b[0m\u001b[0;34m[\u001b[0m\u001b[0;34m-\u001b[0m\u001b[0;36m11\u001b[0m\u001b[0;34m]\u001b[0m\u001b[0;34m)\u001b[0m\u001b[0;34m\u001b[0m\u001b[0;34m\u001b[0m\u001b[0m\n",
      "\u001b[0;31mIndexError\u001b[0m: string index out of range"
     ]
    }
   ],
   "source": [
    "print(s[0], s[5], s[6], s[10])\n",
    "print(s[-1], s[-5], s[-11])"
   ]
  },
  {
   "cell_type": "markdown",
   "metadata": {
    "slideshow": {
     "slide_type": "slide"
    }
   },
   "source": [
    "**序列的分片**\n",
    "\n",
    "除了使用序号来访问某个位置的字符外，还可以使用切片的方式获得从指定序号到某个序号之间的子字符串，同时还提供了跳着选择的方法，切片的语法有如下：\n",
    "```\n",
    "seq[start]\n",
    "seq[start:end]\n",
    "seq[start:end:step]\n",
    "```"
   ]
  },
  {
   "cell_type": "code",
   "execution_count": 20,
   "metadata": {
    "slideshow": {
     "slide_type": "slide"
    }
   },
   "outputs": [
    {
     "name": "stdout",
     "output_type": "stream",
     "text": [
      "234 23456789 2345678 23456789\n",
      "24 2468 2468 258\n"
     ]
    }
   ],
   "source": [
    "s = '0123456789'\n",
    "print(s[2:5], s[2:10], s[2:-1], s[2:])\n",
    "print(s[2:5:2], s[2:10:2], s[2:-1:2], s[2::3])"
   ]
  },
  {
   "cell_type": "markdown",
   "metadata": {
    "slideshow": {
     "slide_type": "-"
    }
   },
   "source": [
    "> 注意，切片范围是左闭右开！"
   ]
  },
  {
   "cell_type": "markdown",
   "metadata": {
    "slideshow": {
     "slide_type": "slide"
    }
   },
   "source": [
    "一个序列有一定的范围，故用超出范围的序号来查看字符时，会报索引错误(`IndexError`):"
   ]
  },
  {
   "cell_type": "code",
   "execution_count": 21,
   "metadata": {
    "slideshow": {
     "slide_type": "-"
    }
   },
   "outputs": [
    {
     "ename": "IndexError",
     "evalue": "string index out of range",
     "output_type": "error",
     "traceback": [
      "\u001b[0;31m---------------------------------------------------------------------------\u001b[0m",
      "\u001b[0;31mIndexError\u001b[0m                                Traceback (most recent call last)",
      "\u001b[0;32m<ipython-input-21-bd4abce8a00e>\u001b[0m in \u001b[0;36m<module>\u001b[0;34m\u001b[0m\n\u001b[1;32m      1\u001b[0m \u001b[0;31m# IndexError: index out of range\u001b[0m\u001b[0;34m\u001b[0m\u001b[0;34m\u001b[0m\u001b[0;34m\u001b[0m\u001b[0m\n\u001b[0;32m----> 2\u001b[0;31m \u001b[0mprint\u001b[0m\u001b[0;34m(\u001b[0m\u001b[0ms\u001b[0m\u001b[0;34m[\u001b[0m\u001b[0;36m11\u001b[0m\u001b[0;34m]\u001b[0m\u001b[0;34m)\u001b[0m\u001b[0;34m\u001b[0m\u001b[0;34m\u001b[0m\u001b[0m\n\u001b[0m",
      "\u001b[0;31mIndexError\u001b[0m: string index out of range"
     ]
    }
   ],
   "source": [
    "# IndexError: index out of range\n",
    "print(s[11])"
   ]
  },
  {
   "cell_type": "markdown",
   "metadata": {
    "slideshow": {
     "slide_type": "slide"
    }
   },
   "source": [
    "字符串对象是不可变对象（immutable），这意味着字符串中的内容不能更改。例如下面代码试图修改指定序号的字符，结果会报类型异常（`TypeError`），即字符串类型不支持序列元素更改："
   ]
  },
  {
   "cell_type": "code",
   "execution_count": null,
   "metadata": {
    "slideshow": {
     "slide_type": "-"
    }
   },
   "outputs": [],
   "source": [
    "# 更改字符串值会报错\n",
    "s = 'Hello World'\n",
    "s[0] = 'x'"
   ]
  },
  {
   "cell_type": "markdown",
   "metadata": {
    "slideshow": {
     "slide_type": "slide"
    }
   },
   "source": [
    "字符串对象是不可变对象，当执行字符串连接，倒序时会创建新的字符串对象；不过使用`s[:]`操作时，变量会引用原对象。使用下面代码来查看Python 对字符串的操作："
   ]
  },
  {
   "cell_type": "code",
   "execution_count": null,
   "metadata": {
    "slideshow": {
     "slide_type": "-"
    }
   },
   "outputs": [],
   "source": [
    "s = 'Hello World'\n",
    "s2 = s[:]\n",
    "s3 = s[:6] + 'Python'\n",
    "s4 = s[::-1]"
   ]
  },
  {
   "cell_type": "markdown",
   "metadata": {
    "slideshow": {
     "slide_type": "-"
    }
   },
   "source": [
    "![可视化字符串对象](../images/visual_str01.png)"
   ]
  },
  {
   "cell_type": "markdown",
   "metadata": {
    "slideshow": {
     "slide_type": "slide"
    }
   },
   "source": [
    "#### 常规方法\n",
    "\n",
    "字符串提供了一些常规方法，实现字符串的大小写转换、输出对齐，搜索、替换、合并、分隔与检查等操作。"
   ]
  },
  {
   "cell_type": "markdown",
   "metadata": {
    "slideshow": {
     "slide_type": "slide"
    }
   },
   "source": [
    "##### 字符串中字符大小写的变换\n",
    "\n",
    "|方法         |  说明      |\n",
    "|:--------------:|-------------: |\n",
    "|`s.lower()`    | 转换字符为小写 |\n",
    "|`s.upper()`    | 转换字符为大写 |\n",
    "|`s.swapcase()`  | 大小写互换 |\n",
    "|`s.capitalize()`| 首字母大写 |\n",
    "|`s.title()`    | 对字符串标题化 |"
   ]
  },
  {
   "cell_type": "markdown",
   "metadata": {
    "slideshow": {
     "slide_type": "slide"
    }
   },
   "source": [
    "##### 字符串在输出时的对齐\n",
    "\n",
    "\n",
    "|方法         |  说明      |\n",
    "|:--------------:|-------------: |\n",
    "|`s.ljust()`     | 左对齐 |\n",
    "|`s.rjust()`     | 右对齐 |\n",
    "|`s.center()`     |居中 |\n",
    "|`s.zfill()`     | 右对齐，用0补齐 |"
   ]
  },
  {
   "cell_type": "markdown",
   "metadata": {
    "slideshow": {
     "slide_type": "slide"
    }
   },
   "source": [
    "##### 字符串中的搜索\n",
    "\n",
    "|方法         |  说明      |\n",
    "|:--------------:|-------------: |\n",
    "|`s.find()`     | 搜索字符串 |\n",
    "|`s.rfind()`    | 从右边搜索字符串 |\n",
    "|`s.index()`    | 搜索字符串 |\n",
    "|`s.rindex()`    | 从右边搜索字符串 |\n",
    "|`s.count()`    | 计算子字符串出现次数 |"
   ]
  },
  {
   "cell_type": "markdown",
   "metadata": {
    "slideshow": {
     "slide_type": "slide"
    }
   },
   "source": [
    "##### 字符串中的替换\n",
    "\n",
    "|方法         |  说明      |\n",
    "|:--------------:|-------------: |\n",
    "|`s.strip()`    | 去除首尾字符 |\n",
    "|`s.lstrip()`    | 去除首字符 |\n",
    "|`s.rstrip()`    | 去除尾字符 |\n",
    "|`s.replace()`   | 替换字符串  |\n",
    "|`s.expandtabs()` | 替换Tab符  |"
   ]
  },
  {
   "cell_type": "markdown",
   "metadata": {
    "slideshow": {
     "slide_type": "slide"
    }
   },
   "source": [
    "##### 字符串分割和合并\n",
    "\n",
    "|方法         |  说明      |\n",
    "|:--------------:|-------------: |\n",
    "|`s.split()`    | 拆分字符串 |\n",
    "|`s.rsplit()`    | 从右拆分字符串 |\n",
    "|`s.splitlines()` | 拆分行 |\n",
    "|`s.partition()` |  分割字符串 |\n",
    "|`s.rpartition()` | 从右分割字符串 |\n",
    "|`s.join()`    | 连接序列 |"
   ]
  },
  {
   "cell_type": "markdown",
   "metadata": {
    "slideshow": {
     "slide_type": "slide"
    }
   },
   "source": [
    "##### 字符串的测试方法\n",
    "\n",
    "\n",
    "|方法         |  说明      |\n",
    "|:--------------:|-------------: |\n",
    "|`s.startswith()`| 检查字符串开头 |\n",
    "|`s.endswith()`  | 检查字符串结尾 |\n",
    "|`s.isalpha()`  | 检查是否全是字母 |\n",
    "|`s.isdigit()`  | 检查是否全是数字 |\n",
    "|`s.isalnum()`  | 检查是否全是字母和数字 |\n",
    "|`s.isspace()`  | 检查是否全是空白字符|\n",
    "|`s.ispritable()`  | 检查是否全是可打印字符|\n",
    "|`s.islower()`  | 检查字符是否全是小写 |\n",
    "|`s.isupper()`  | 检查字符全是大写 |\n",
    "|`s.istitle()`  | 检查是否是标题 |"
   ]
  },
  {
   "cell_type": "markdown",
   "metadata": {
    "slideshow": {
     "slide_type": "slide"
    }
   },
   "source": [
    "**字符串的mapping**\n",
    "\n",
    "|方法         |  说明      |\n",
    "|:--------------:|-------------: |\n",
    "|`s.maketrans()`    | |\n",
    "|`s.translate()`    | |"
   ]
  },
  {
   "cell_type": "markdown",
   "metadata": {
    "slideshow": {
     "slide_type": "slide"
    }
   },
   "source": [
    "##### 字符串编码和解码\n",
    "\n",
    "|方法         |  说明      |\n",
    "|:--------------:|-------------: |\n",
    "|`s.encode()`    | |\n",
    "|`s.decode()`    | |"
   ]
  },
  {
   "cell_type": "markdown",
   "metadata": {
    "slideshow": {
     "slide_type": "slide"
    }
   },
   "source": [
    "## 字符串操作和方法示例\n",
    "\n",
    "对于数据结构来说，常用的操作有：\n",
    "- 增加\n",
    "- 删除\n",
    "- 修改\n",
    "- 查询"
   ]
  },
  {
   "cell_type": "markdown",
   "metadata": {
    "slideshow": {
     "slide_type": "slide"
    }
   },
   "source": [
    "#### 转换字符为小写\n",
    "```\n",
    "    S.lower() -> str\n",
    "```"
   ]
  },
  {
   "cell_type": "code",
   "execution_count": null,
   "metadata": {
    "slideshow": {
     "slide_type": "-"
    }
   },
   "outputs": [],
   "source": [
    "# String Lower Method\n",
    "s = \"THIS IS STRING EXAMPLE....WOW!!!\"\n",
    "print(s.lower())"
   ]
  },
  {
   "cell_type": "markdown",
   "metadata": {
    "slideshow": {
     "slide_type": "slide"
    }
   },
   "source": [
    "搜索字符串是否包含指定子字符串，可以指定搜索范围，成功返回开始的索引值，否则返回-1\n",
    "```\n",
    "    S.find(sub[, start[, end]]) -> int\n",
    "```    "
   ]
  },
  {
   "cell_type": "code",
   "execution_count": 22,
   "metadata": {
    "slideshow": {
     "slide_type": "-"
    }
   },
   "outputs": [
    {
     "name": "stdout",
     "output_type": "stream",
     "text": [
      "17\n",
      "17\n",
      "-1\n"
     ]
    }
   ],
   "source": [
    "# string find method\n",
    "s1 = 'this is a string example...wow!!!'\n",
    "s2 = 'exam'\n",
    "print(s1.find(s2))\n",
    "print(s1.find(s2, 10))\n",
    "print(s1.find(s2, 40))"
   ]
  },
  {
   "cell_type": "markdown",
   "metadata": {
    "slideshow": {
     "slide_type": "slide"
    }
   },
   "source": [
    "删除字符串前后的空格，也可以指定字符\n",
    "```\n",
    "   S.strip([chars]) -> str\n",
    "    \n",
    "    Return a copy of the string S with leading and trailing\n",
    "    whitespace removed.\n",
    "    If chars is given and not None, remove characters in chars instead.\n",
    "```"
   ]
  },
  {
   "cell_type": "code",
   "execution_count": 23,
   "metadata": {
    "slideshow": {
     "slide_type": "slide"
    }
   },
   "outputs": [
    {
     "name": "stdout",
     "output_type": "stream",
     "text": [
      "this is string example....wow!!!\n",
      "this is string example....wow!!!\n"
     ]
    }
   ],
   "source": [
    "# String Strip Method\n",
    "s = \"    this is string example....wow!!!   \"\n",
    "print(s.strip())\n",
    "\n",
    "s = \"*****this is string example....wow!!!*****\"\n",
    "print(s.strip('*'))"
   ]
  },
  {
   "cell_type": "markdown",
   "metadata": {
    "slideshow": {
     "slide_type": "slide"
    }
   },
   "source": [
    "替换指定子字符串，可以指定替换次数。\n",
    "```\n",
    "    S.replace(old, new[, count]) -> str\n",
    "    \n",
    "    Return a copy of S with all occurrences of substring\n",
    "    old replaced by new.  If the optional argument count is\n",
    "    given, only the first count occurrences are replaced.\n",
    "```"
   ]
  },
  {
   "cell_type": "code",
   "execution_count": 24,
   "metadata": {
    "slideshow": {
     "slide_type": "-"
    }
   },
   "outputs": [
    {
     "name": "stdout",
     "output_type": "stream",
     "text": [
      "thwas was string example....wow!!! thwas was really string\n",
      "thwas was string example....wow!!! thwas is really string\n"
     ]
    }
   ],
   "source": [
    "# String Replace Method\n",
    "s = \"this is string example....wow!!! this is really string\"\n",
    "print(s.replace(\"is\", \"was\"))\n",
    "print(s.replace(\"is\", \"was\", 3))"
   ]
  },
  {
   "cell_type": "markdown",
   "metadata": {
    "slideshow": {
     "slide_type": "slide"
    }
   },
   "source": [
    "通过指定分隔符对字符串进行拆分，返回分割后的字符串列表（见后续章节）。可指定拆分最大数。\n",
    "```\n",
    "    S.split(sep=None, maxsplit=-1) -> list of strings\n",
    "```    "
   ]
  },
  {
   "cell_type": "code",
   "execution_count": 25,
   "metadata": {
    "slideshow": {
     "slide_type": "-"
    }
   },
   "outputs": [
    {
     "name": "stdout",
     "output_type": "stream",
     "text": [
      "['this', 'is', 'string', 'example....wow!!!']\n",
      "['this is string example....', 'o', '!!!']\n",
      "['300302', '10.0', '12.0']\n"
     ]
    }
   ],
   "source": [
    "# String Split Method\n",
    "s = \"this is string example....wow!!!\"\n",
    "print(s.split())\n",
    "print(s.split('w'))\n",
    "s = \"300302,10.0,12.0\"\n",
    "print(s.split(','))"
   ]
  },
  {
   "cell_type": "markdown",
   "metadata": {
    "slideshow": {
     "slide_type": "slide"
    }
   },
   "source": [
    "与`s.split()`类似，只是从右边开始拆分\n",
    "```\n",
    "    S.rsplit(sep=None, maxsplit=-1) -> list of strings\n",
    "```"
   ]
  },
  {
   "cell_type": "code",
   "execution_count": 26,
   "metadata": {
    "scrolled": true,
    "slideshow": {
     "slide_type": "-"
    }
   },
   "outputs": [
    {
     "name": "stdout",
     "output_type": "stream",
     "text": [
      "['this', 'is', 'string', 'example....wow!!!']\n",
      "['this is string example....', 'o', '!!!']\n",
      "['this is str', 'ng example....wow!!!']\n"
     ]
    }
   ],
   "source": [
    "# String Rsplit Method\n",
    "s = \"this is string example....wow!!!\"\n",
    "print(s.rsplit())\n",
    "print(s.rsplit('w'))\n",
    "print(s.rsplit('i', 1))"
   ]
  },
  {
   "cell_type": "markdown",
   "metadata": {
    "slideshow": {
     "slide_type": "slide"
    }
   },
   "source": [
    "把字符串作为分隔符，将序列中的所有元素(字符串表示)合并为新字符串\n",
    "```\n",
    "    S.join(iterable) -> str\n",
    "```    "
   ]
  },
  {
   "cell_type": "code",
   "execution_count": 27,
   "metadata": {
    "slideshow": {
     "slide_type": "-"
    }
   },
   "outputs": [
    {
     "name": "stdout",
     "output_type": "stream",
     "text": [
      "I Love Python\n",
      "I-Love-Python\n"
     ]
    }
   ],
   "source": [
    "# String Join Method\n",
    "seq = ('I', 'Love', 'Python')\n",
    "print(' '.join(seq))\n",
    "print('-'.join(seq))"
   ]
  },
  {
   "cell_type": "markdown",
   "metadata": {
    "slideshow": {
     "slide_type": "slide"
    }
   },
   "source": [
    "## 字符串格式化\n",
    "\n",
    "- `str.format`方法格式化\n",
    "- `f-string`格式化"
   ]
  },
  {
   "cell_type": "markdown",
   "metadata": {
    "slideshow": {
     "slide_type": "slide"
    }
   },
   "source": [
    "### `str.format()`方法\n",
    "\n",
    "\n",
    "在Python中，可以使用字符串的方法`str.format()`来实现字符串的格式化"
   ]
  },
  {
   "cell_type": "markdown",
   "metadata": {
    "slideshow": {
     "slide_type": "-"
    }
   },
   "source": [
    "对于`str.format()`格式化方法，其占位符形式为`{0}`、`{1}`,把传入的参数进行适当格式化，然后替换对应的占位符，最后返回一个新的字符串。"
   ]
  },
  {
   "cell_type": "code",
   "execution_count": 28,
   "metadata": {
    "slideshow": {
     "slide_type": "-"
    }
   },
   "outputs": [
    {
     "name": "stdout",
     "output_type": "stream",
     "text": [
      "Hello Python\n"
     ]
    }
   ],
   "source": [
    "print('Hello {0}'.format('Python'))"
   ]
  },
  {
   "cell_type": "markdown",
   "metadata": {
    "slideshow": {
     "slide_type": "slide"
    }
   },
   "source": [
    "字符串中有多个占位符，那么值必须是元组形式。参数多了不影响，少了参数就会抛出索引异常IndexError。"
   ]
  },
  {
   "cell_type": "code",
   "execution_count": 29,
   "metadata": {
    "slideshow": {
     "slide_type": "-"
    }
   },
   "outputs": [
    {
     "name": "stdout",
     "output_type": "stream",
     "text": [
      "我是老王,学历是博士，已婚\n"
     ]
    }
   ],
   "source": [
    "print('我是{0},学历是{1}，{2}'.format('老王', '博士', '已婚'))"
   ]
  },
  {
   "cell_type": "code",
   "execution_count": 30,
   "metadata": {
    "slideshow": {
     "slide_type": "slide"
    }
   },
   "outputs": [
    {
     "ename": "IndexError",
     "evalue": "tuple index out of range",
     "output_type": "error",
     "traceback": [
      "\u001b[0;31m---------------------------------------------------------------------------\u001b[0m",
      "\u001b[0;31mIndexError\u001b[0m                                Traceback (most recent call last)",
      "\u001b[0;32m<ipython-input-30-41f16d8985a3>\u001b[0m in \u001b[0;36m<module>\u001b[0;34m\u001b[0m\n\u001b[0;32m----> 1\u001b[0;31m \u001b[0mprint\u001b[0m\u001b[0;34m(\u001b[0m\u001b[0;34m'我是{0},学历是{1}，{2}'\u001b[0m\u001b[0;34m.\u001b[0m\u001b[0mformat\u001b[0m\u001b[0;34m(\u001b[0m\u001b[0;34m'老王'\u001b[0m\u001b[0;34m,\u001b[0m \u001b[0;34m'博士'\u001b[0m\u001b[0;34m)\u001b[0m\u001b[0;34m)\u001b[0m\u001b[0;34m\u001b[0m\u001b[0;34m\u001b[0m\u001b[0m\n\u001b[0m",
      "\u001b[0;31mIndexError\u001b[0m: tuple index out of range"
     ]
    }
   ],
   "source": [
    "print('我是{0},学历是{1}，{2}'.format('老王', '博士'))"
   ]
  },
  {
   "cell_type": "markdown",
   "metadata": {
    "slideshow": {
     "slide_type": "slide"
    }
   },
   "source": [
    "对于整数、浮点数、字符串，可以使用辅助指令，实现更多格式化。语法约定：\n",
    "```\n",
    ":[[fill]align][sign][#][0][width][grouping_option][.precision][type]\n",
    "```\n",
    "- `fill`，填充字符，任意字符\n",
    "- `align`，对齐字符，`\"<\" | \">\" | \"=\" | \"^\"`；\n",
    "- `sign`，符号，` \"+\" | \"-\" | \" \"`\n",
    "- `width`，宽度，数字\n",
    "- `precision`，精度，数字\n",
    "- `type`，类型，`b,c,d,e,E,f,F,g,G,n,o,s,x,X,%`，参见上节介绍"
   ]
  },
  {
   "cell_type": "code",
   "execution_count": 31,
   "metadata": {
    "slideshow": {
     "slide_type": "slide"
    }
   },
   "outputs": [
    {
     "name": "stdout",
     "output_type": "stream",
     "text": [
      "Format type: 12345, 3.141593\n",
      "Format width:            12345,         3.141593\n",
      "Format precision:            12345,       3.14159265\n",
      "Format precision: 0b11111111, 0o377, 0xff, 0XFF\n"
     ]
    }
   ],
   "source": [
    "num = 12345\n",
    "pi = 3.1415926535\n",
    "print('Format type: {0:d}, {1:f}'.format(num, pi))\n",
    "print('Format width: {0:16d}, {1:16f}'.format(num, pi))\n",
    "print('Format precision: {0:16d}, {1:16.8f}'.format(num, pi))\n",
    "print('Format precision: {0:#b}, {1:#o}, {2:#x}, {2:#X}'.format(0o377, 0o377, 0xff))"
   ]
  },
  {
   "cell_type": "markdown",
   "metadata": {
    "slideshow": {
     "slide_type": "slide"
    }
   },
   "source": [
    "参数除了按照位置传入外，还可以按照名字来传入："
   ]
  },
  {
   "cell_type": "code",
   "execution_count": 32,
   "metadata": {
    "slideshow": {
     "slide_type": "-"
    }
   },
   "outputs": [
    {
     "name": "stdout",
     "output_type": "stream",
     "text": [
      "当前坐标：37.24N, -115.81W\n"
     ]
    }
   ],
   "source": [
    "print('当前坐标：{latitude}, {longitude}'.format(longitude='-115.81W', latitude='37.24N'))"
   ]
  },
  {
   "cell_type": "code",
   "execution_count": 33,
   "metadata": {
    "slideshow": {
     "slide_type": "-"
    }
   },
   "outputs": [
    {
     "name": "stdout",
     "output_type": "stream",
     "text": [
      "当前坐标：37.24N, -115.81W\n"
     ]
    }
   ],
   "source": [
    "coord = {'latitude': '37.24N', 'longitude': '-115.81W'}\n",
    "print('当前坐标：{latitude}, {longitude}'.format(**coord))"
   ]
  },
  {
   "cell_type": "markdown",
   "metadata": {
    "slideshow": {
     "slide_type": "slide"
    }
   },
   "source": [
    "## 转换\n",
    "\n",
    "- 使用内置`str`类构造对象"
   ]
  },
  {
   "cell_type": "code",
   "execution_count": 34,
   "metadata": {
    "slideshow": {
     "slide_type": "-"
    }
   },
   "outputs": [
    {
     "name": "stdout",
     "output_type": "stream",
     "text": [
      "\n",
      "True\n",
      "1024\n",
      "3.1416926\n"
     ]
    }
   ],
   "source": [
    "print(str())\n",
    "print(str(True))\n",
    "print(str(1024))\n",
    "print(str(3.1416926))"
   ]
  },
  {
   "cell_type": "markdown",
   "metadata": {
    "slideshow": {
     "slide_type": "slide"
    }
   },
   "source": [
    "调用`str(obj)`时，该对象对应有`__str__`特殊方法:\n",
    "\n",
    "|操作符 | 特殊方法    |  说明   |\n",
    "| :----:|:-------------| -------: |\n",
    "| `str()`  | `__str__`    | 返回字符串表示   |"
   ]
  },
  {
   "cell_type": "markdown",
   "metadata": {
    "slideshow": {
     "slide_type": "slide"
    }
   },
   "source": [
    "Python 中还提供了`repr()`函数来显示对象，调用`repr(obj)`时，该对象对应有`__repr__`模式方法:\n",
    "\n",
    "|操作符 | 特殊方法    |  说明   |\n",
    "| :----:|:-------------| -------: |\n",
    "| `repr()`  | `__repr__`    | 返回字符串表示   |"
   ]
  },
  {
   "cell_type": "markdown",
   "metadata": {
    "slideshow": {
     "slide_type": "-"
    }
   },
   "source": [
    "对于一些对象来说，使用`str()`与`repr()`没有什么差别，有时候显示也不同，这取决于`__str__`与`__repr__`的实现。通常前者面向用户，显示的简单一些，后者则面向开发人员，显示的内容更多。"
   ]
  },
  {
   "cell_type": "markdown",
   "metadata": {
    "slideshow": {
     "slide_type": "slide"
    }
   },
   "source": [
    "## 与现实世界的差异\n",
    "\n",
    "世界上大多数名族都有哦自己的语言和文字，而计算机尝试来抽象表现这些语言文字和文本。同样，要完美表现还是要付出努力的，有时候并不那么完美。"
   ]
  },
  {
   "cell_type": "markdown",
   "metadata": {
    "slideshow": {
     "slide_type": "slide"
    }
   },
   "source": [
    "### 编码格式\n",
    "\n",
    "- 计算机内部是二进制\n",
    "\n",
    "- 二进制与文本之间使用映射表来编码\n",
    "\n",
    "- ASCII编码（American Standard Code for Information Interchange，美国信息交换标准代码）。"
   ]
  },
  {
   "cell_type": "markdown",
   "metadata": {
    "slideshow": {
     "slide_type": "-"
    }
   },
   "source": [
    "在[ASCII](https://baike.baidu.com/item/ASCII/309296)表中，从0到127分别代表不同的字符。\n",
    "- 内置函数`chr()`可以得到数字对应字符，下面打印出所有ASCII字符：\n",
    "- 内置函数`ord()`用来获取单个字符对应编码的整数"
   ]
  },
  {
   "cell_type": "code",
   "execution_count": 35,
   "metadata": {
    "scrolled": false,
    "slideshow": {
     "slide_type": "slide"
    }
   },
   "outputs": [
    {
     "name": "stdout",
     "output_type": "stream",
     "text": [
      "0 0b0 \u0000\n",
      "1 0b1 \u0001\n",
      "2 0b10 \u0002\n",
      "3 0b11 \u0003\n",
      "4 0b100 \u0004\n",
      "5 0b101 \u0005\n",
      "6 0b110 \u0006\n",
      "7 0b111 \u0007\n",
      "8 0b1000 \b\n",
      "9 0b1001 \t\n",
      "10 0b1010 \n",
      "\n",
      "11 0b1011 \u000b",
      "\n",
      "12 0b1100 \f",
      "\n",
      "13 0b1101 \r\n",
      "14 0b1110 \u000e\n",
      "15 0b1111 \u000f\n",
      "16 0b10000 \u0010\n",
      "17 0b10001 \u0011\n",
      "18 0b10010 \u0012\n",
      "19 0b10011 \u0013\n",
      "20 0b10100 \u0014\n",
      "21 0b10101 \u0015\n",
      "22 0b10110 \u0016\n",
      "23 0b10111 \u0017\n",
      "24 0b11000 \u0018\n",
      "25 0b11001 \u0019\n",
      "26 0b11010 \u001a\n",
      "27 0b11011 \u001b\n",
      "28 0b11100 \u001c",
      "\n",
      "29 0b11101 \u001d",
      "\n",
      "30 0b11110 \u001e",
      "\n",
      "31 0b11111 \u001f\n",
      "32 0b100000  \n",
      "33 0b100001 !\n",
      "34 0b100010 \"\n",
      "35 0b100011 #\n",
      "36 0b100100 $\n",
      "37 0b100101 %\n",
      "38 0b100110 &\n",
      "39 0b100111 '\n",
      "40 0b101000 (\n",
      "41 0b101001 )\n",
      "42 0b101010 *\n",
      "43 0b101011 +\n",
      "44 0b101100 ,\n",
      "45 0b101101 -\n",
      "46 0b101110 .\n",
      "47 0b101111 /\n",
      "48 0b110000 0\n",
      "49 0b110001 1\n",
      "50 0b110010 2\n",
      "51 0b110011 3\n",
      "52 0b110100 4\n",
      "53 0b110101 5\n",
      "54 0b110110 6\n",
      "55 0b110111 7\n",
      "56 0b111000 8\n",
      "57 0b111001 9\n",
      "58 0b111010 :\n",
      "59 0b111011 ;\n",
      "60 0b111100 <\n",
      "61 0b111101 =\n",
      "62 0b111110 >\n",
      "63 0b111111 ?\n",
      "64 0b1000000 @\n",
      "65 0b1000001 A\n",
      "66 0b1000010 B\n",
      "67 0b1000011 C\n",
      "68 0b1000100 D\n",
      "69 0b1000101 E\n",
      "70 0b1000110 F\n",
      "71 0b1000111 G\n",
      "72 0b1001000 H\n",
      "73 0b1001001 I\n",
      "74 0b1001010 J\n",
      "75 0b1001011 K\n",
      "76 0b1001100 L\n",
      "77 0b1001101 M\n",
      "78 0b1001110 N\n",
      "79 0b1001111 O\n",
      "80 0b1010000 P\n",
      "81 0b1010001 Q\n",
      "82 0b1010010 R\n",
      "83 0b1010011 S\n",
      "84 0b1010100 T\n",
      "85 0b1010101 U\n",
      "86 0b1010110 V\n",
      "87 0b1010111 W\n",
      "88 0b1011000 X\n",
      "89 0b1011001 Y\n",
      "90 0b1011010 Z\n",
      "91 0b1011011 [\n",
      "92 0b1011100 \\\n",
      "93 0b1011101 ]\n",
      "94 0b1011110 ^\n",
      "95 0b1011111 _\n",
      "96 0b1100000 `\n",
      "97 0b1100001 a\n",
      "98 0b1100010 b\n",
      "99 0b1100011 c\n",
      "100 0b1100100 d\n",
      "101 0b1100101 e\n",
      "102 0b1100110 f\n",
      "103 0b1100111 g\n",
      "104 0b1101000 h\n",
      "105 0b1101001 i\n",
      "106 0b1101010 j\n",
      "107 0b1101011 k\n",
      "108 0b1101100 l\n",
      "109 0b1101101 m\n",
      "110 0b1101110 n\n",
      "111 0b1101111 o\n",
      "112 0b1110000 p\n",
      "113 0b1110001 q\n",
      "114 0b1110010 r\n",
      "115 0b1110011 s\n",
      "116 0b1110100 t\n",
      "117 0b1110101 u\n",
      "118 0b1110110 v\n",
      "119 0b1110111 w\n",
      "120 0b1111000 x\n",
      "121 0b1111001 y\n",
      "122 0b1111010 z\n",
      "123 0b1111011 {\n",
      "124 0b1111100 |\n",
      "125 0b1111101 }\n",
      "126 0b1111110 ~\n",
      "127 0b1111111 \n"
     ]
    }
   ],
   "source": [
    "for i in range(128):\n",
    "    print(i, bin(i), chr(i))"
   ]
  },
  {
   "cell_type": "markdown",
   "metadata": {
    "slideshow": {
     "slide_type": "slide"
    }
   },
   "source": [
    "美国标准 ASCII 编码是无法容纳中国的汉字，所以中国制定了 GB2312、GBK、[GB18030编码](https://baike.baidu.com/item/gb18030)，包含了中文字符。相应的，各个国家都有自己的编码标准。如果是多语言混合的文本，映射表不同，显示结果就有所不同，可能就会出现乱码。\n",
    "\n",
    "为此，提出了Unicode编码。顾名思义，Unicode就是地球统一的编码，也就是万国码。为每种语言中的每个字符设定了统一并且唯一的二进制编码，以满足跨语言、跨平台进行文本转换、处理的要求。Unicode可以用两个字节表示，也可以用4个字节表示。\n",
    "\n",
    "当文本只有英文时，使用Unicode编码有些浪费存储空间。所以又提出了UTF-8编码，也就是“可变长编码”。UTF-8编码会根据字符的不同，编码成1-6个字节。常用的英文字母编码成1个字节。汉字通常是3个字节，很生僻的字符可能会编码成更多字节。\n",
    "\n",
    "| 字符 | ASCII编码   |  Unicode编码   | UTF-8 |\n",
    "|:----:|:-------------| -------: | -------: |\n",
    "| `A`  | `0b01000001`    | `0b0000000001000001`  | `0b01000001`  |\n",
    "| `中`  | 无  | `0b01001110 00101101`  | `0b111001001011100010101101`  |"
   ]
  },
  {
   "cell_type": "markdown",
   "metadata": {
    "slideshow": {
     "slide_type": "slide"
    }
   },
   "source": [
    "从上可知，ASCII编码实际上时UTF-8编码的一部分。大量支持ASCII编码的软件仍然可以在UTF-8编码下进行工作。\n",
    "\n",
    "Python推荐源码文件使用utf-8编码。在源码文件中，通常添加一行\n",
    "```\n",
    "# -*- coding: utf-8 -*-  \n",
    "```"
   ]
  },
  {
   "cell_type": "code",
   "execution_count": 36,
   "metadata": {
    "slideshow": {
     "slide_type": "-"
    }
   },
   "outputs": [
    {
     "name": "stdout",
     "output_type": "stream",
     "text": [
      "Writing helloutf8.py\n"
     ]
    }
   ],
   "source": [
    "%%writefile helloutf8.py\n",
    "#!/usr/bin/env python\n",
    "# -*- coding: utf-8 -*-  \n",
    "print('Hello')\n",
    "print('您好')"
   ]
  },
  {
   "cell_type": "code",
   "execution_count": 37,
   "metadata": {
    "slideshow": {
     "slide_type": "slide"
    }
   },
   "outputs": [
    {
     "name": "stdout",
     "output_type": "stream",
     "text": [
      "Hello\n",
      "您好\n"
     ]
    }
   ],
   "source": [
    "%run helloutf8.py"
   ]
  },
  {
   "cell_type": "markdown",
   "metadata": {
    "slideshow": {
     "slide_type": "slide"
    }
   },
   "source": [
    "### 内存与硬盘中的字符串\n",
    "\n",
    "在计算机内存中，统一使用 Unicode 编码来进行文本处理。当需要保存到硬盘时，会保存为 ASCII、UTF-8 或 GB2312 等编码。反之，从硬盘读取这些编码的文件时，要对文本进行解码为 Unicode 编码。Python 推荐使用UTF-8编码来保存源码文件。\n",
    "\n",
    "在需要通过网络传输时，也需要进行数据的编码与解码。"
   ]
  }
 ],
 "metadata": {
  "celltoolbar": "幻灯片",
  "kernelspec": {
   "display_name": "Python 3",
   "language": "python",
   "name": "python3"
  },
  "language_info": {
   "codemirror_mode": {
    "name": "ipython",
    "version": 3
   },
   "file_extension": ".py",
   "mimetype": "text/x-python",
   "name": "python",
   "nbconvert_exporter": "python",
   "pygments_lexer": "ipython3",
   "version": "3.7.3"
  },
  "toc": {
   "base_numbering": 1,
   "nav_menu": {},
   "number_sections": true,
   "sideBar": true,
   "skip_h1_title": false,
   "title_cell": "Table of Contents",
   "title_sidebar": "Contents",
   "toc_cell": false,
   "toc_position": {
    "height": "calc(100% - 180px)",
    "left": "10px",
    "top": "150px",
    "width": "275px"
   },
   "toc_section_display": true,
   "toc_window_display": true
  }
 },
 "nbformat": 4,
 "nbformat_minor": 1
}
