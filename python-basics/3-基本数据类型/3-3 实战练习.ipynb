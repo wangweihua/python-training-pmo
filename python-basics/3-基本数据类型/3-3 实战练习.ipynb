{
 "cells": [
  {
   "cell_type": "markdown",
   "metadata": {
    "slideshow": {
     "slide_type": "slide"
    }
   },
   "source": [
    "# 差旅报销"
   ]
  },
  {
   "cell_type": "markdown",
   "metadata": {
    "slideshow": {
     "slide_type": "-"
    }
   },
   "source": [
    "## 20190721-南京出差\n",
    "\n",
    "参加紫金山天文台Python培训"
   ]
  },
  {
   "cell_type": "code",
   "execution_count": 1,
   "metadata": {
    "slideshow": {
     "slide_type": "-"
    }
   },
   "outputs": [],
   "source": [
    "departdate = 20190711\n",
    "returndate = 20190722"
   ]
  },
  {
   "cell_type": "code",
   "execution_count": 2,
   "metadata": {
    "slideshow": {
     "slide_type": "slide"
    }
   },
   "outputs": [],
   "source": [
    "# 住宿费：300 * 5天\n",
    "hotel_fee = 300 * 5\n",
    "# 火车费： 128， 129\n",
    "train_fee = 128 + 129\n",
    "# 打车费：17.0， 51.0， 15.0，127.0\n",
    "taxi_fee = 17.0 + 51.0 + 15.0 +127.0\n",
    "# 饭费：22.0， 23.0, 32.0, 33\n",
    "meal_fee = 22.0 + 23.0 + 32.0 + 33"
   ]
  },
  {
   "cell_type": "code",
   "execution_count": 3,
   "metadata": {
    "slideshow": {
     "slide_type": "slide"
    }
   },
   "outputs": [
    {
     "name": "stdout",
     "output_type": "stream",
     "text": [
      "住宿费： 1500\n",
      "交通费： 257\n",
      "交通费补贴： 480\n",
      "餐费补贴： 600\n"
     ]
    }
   ],
   "source": [
    "days = 6\n",
    "print('住宿费：', hotel_fee)\n",
    "print('交通费：', train_fee) \n",
    "if taxi_fee < days * 80:\n",
    "    print('交通费补贴：', days * 80)\n",
    "else:\n",
    "    print('交通费补贴：', taxi_fee)\n",
    "\n",
    "if meal_fee < days * 100:\n",
    "    print('餐费补贴：', days * 100)\n",
    "else:\n",
    "    print('餐费补贴：', meal_fee)    "
   ]
  },
  {
   "cell_type": "markdown",
   "metadata": {
    "slideshow": {
     "slide_type": "slide"
    }
   },
   "source": [
    "## 进一步任务\n",
    "\n",
    "- 多次差旅，如何进一步简化（使用数据结构与函数）？ \n",
    "- 能否自动填写报销单（爬虫）？\n",
    "- 能否自动打印报销单（爬虫）？\n",
    "- 能否绘制1年差旅情况（matplotlib）？\n",
    "- 能否分析活动规律（数据分析）？\n",
    "- 能否预测来年差旅预算（机器学习）？"
   ]
  }
 ],
 "metadata": {
  "celltoolbar": "幻灯片",
  "kernelspec": {
   "display_name": "Python 3",
   "language": "python",
   "name": "python3"
  },
  "language_info": {
   "codemirror_mode": {
    "name": "ipython",
    "version": 3
   },
   "file_extension": ".py",
   "mimetype": "text/x-python",
   "name": "python",
   "nbconvert_exporter": "python",
   "pygments_lexer": "ipython3",
   "version": "3.7.3"
  },
  "toc": {
   "base_numbering": 1,
   "nav_menu": {},
   "number_sections": true,
   "sideBar": true,
   "skip_h1_title": false,
   "title_cell": "Table of Contents",
   "title_sidebar": "Contents",
   "toc_cell": false,
   "toc_position": {},
   "toc_section_display": true,
   "toc_window_display": false
  }
 },
 "nbformat": 4,
 "nbformat_minor": 2
}
