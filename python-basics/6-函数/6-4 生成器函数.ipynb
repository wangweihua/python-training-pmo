{
 "cells": [
  {
   "cell_type": "markdown",
   "metadata": {
    "slideshow": {
     "slide_type": "slide"
    }
   },
   "source": [
    "# 生成器与迭代器\n",
    "\n",
    "- 序列  \n",
    "实现有 `__getitem__()` 魔术方法的对象称为序列。字符串、列表、元组和字典是序列。\n",
    "\n",
    "- 可迭代对象  \n",
    "实现有`__iter__`魔术方法的对象称为可迭代对象。字符串、列表、元组和字典也是可迭代对象。集合是可迭代对象，但不是序列。\n",
    "\n",
    "`for`循环来遍历可迭代对象的每一个元素。"
   ]
  },
  {
   "cell_type": "markdown",
   "metadata": {
    "slideshow": {
     "slide_type": "slide"
    }
   },
   "source": [
    "## 可迭代对象（Iterable）\n",
    "\n",
    "使用内置函数`hasattr()`："
   ]
  },
  {
   "cell_type": "code",
   "execution_count": null,
   "metadata": {
    "slideshow": {
     "slide_type": "-"
    }
   },
   "outputs": [],
   "source": [
    "for dtype in [str, list, tuple, dict, set]:\n",
    "    print(str(dtype), hasattr(dtype(), '__iter__'))"
   ]
  },
  {
   "cell_type": "markdown",
   "metadata": {
    "slideshow": {
     "slide_type": "slide"
    }
   },
   "source": [
    "显然整数、复数等数据类型不是可迭代对象："
   ]
  },
  {
   "cell_type": "code",
   "execution_count": null,
   "metadata": {
    "slideshow": {
     "slide_type": "-"
    }
   },
   "outputs": [],
   "source": [
    "for dtype in [int, bool, float, complex]:\n",
    "    print(str(dtype), hasattr(dtype(), '__iter__'))"
   ]
  },
  {
   "cell_type": "markdown",
   "metadata": {
    "slideshow": {
     "slide_type": "slide"
    }
   },
   "source": [
    "## 迭代器（Iterator）\n",
    "\n",
    "迭代器(Iterator)是可以用`for`循环进行遍历的对象，使用内置函数`next()`依次返回元素。\n",
    "\n",
    "访问迭代器对象的元素只能从第一个元素，直到访问完所有元素，最后引起`StopIteration`异常。\n",
    "\n",
    "通过检查是否定义`__next__`方法来判断迭代器对象。"
   ]
  },
  {
   "cell_type": "code",
   "execution_count": null,
   "metadata": {
    "slideshow": {
     "slide_type": "slide"
    }
   },
   "outputs": [],
   "source": [
    "for dtype in [str, list, tuple, dict, set]:\n",
    "    print(str(dtype), hasattr(dtype(), '__next__'))"
   ]
  },
  {
   "cell_type": "markdown",
   "metadata": {
    "slideshow": {
     "slide_type": "slide"
    }
   },
   "source": [
    "使用内置函数 `iter()` 可以把可迭代对象转化为迭代器:"
   ]
  },
  {
   "cell_type": "code",
   "execution_count": null,
   "metadata": {
    "slideshow": {
     "slide_type": "-"
    }
   },
   "outputs": [],
   "source": [
    "xs = (1, 2, 3)\n",
    "ixs1 = iter(xs)\n",
    "ixs2 = iter([1, 2, 3])\n",
    "print(type(ixs1), type(ixs2))\n",
    "print(hasattr(ixs1, '__next__'), hasattr(ixs2, '__next__'))"
   ]
  },
  {
   "cell_type": "markdown",
   "metadata": {
    "slideshow": {
     "slide_type": "slide"
    }
   },
   "source": [
    "使用`next()`来访问元素："
   ]
  },
  {
   "cell_type": "code",
   "execution_count": null,
   "metadata": {
    "slideshow": {
     "slide_type": "-"
    }
   },
   "outputs": [],
   "source": [
    "print(next(ixs1))\n",
    "print(next(ixs1))\n",
    "print(next(ixs1))\n",
    "print(next(ixs1))"
   ]
  },
  {
   "cell_type": "markdown",
   "metadata": {
    "slideshow": {
     "slide_type": "slide"
    }
   },
   "source": [
    "迭代器实现有`__iter__`方法，可以使用`for`语句来进行迭代循环："
   ]
  },
  {
   "cell_type": "code",
   "execution_count": null,
   "metadata": {
    "slideshow": {
     "slide_type": "-"
    }
   },
   "outputs": [],
   "source": [
    "for x in ixs2:\n",
    "    print(x)"
   ]
  },
  {
   "cell_type": "markdown",
   "metadata": {
    "slideshow": {
     "slide_type": "slide"
    }
   },
   "source": [
    "## 生成器（generator）\n",
    "\n",
    "### 有限的序列\n",
    "\n",
    "假如要创建一个大的列表，就需要创建很多个对象，自然会耗费大量的内存。如果超出内存限制就会出现内存溢出异常。"
   ]
  },
  {
   "cell_type": "markdown",
   "metadata": {
    "slideshow": {
     "slide_type": "slide"
    }
   },
   "source": [
    "在Linux系统，使用`ulimit`命令把内存限制到256M。\n",
    "```sh\n",
    "ulimit -v 262144\n",
    "```"
   ]
  },
  {
   "cell_type": "code",
   "execution_count": null,
   "metadata": {
    "slideshow": {
     "slide_type": "-"
    }
   },
   "outputs": [],
   "source": [
    "# Don't run the statement. The kernal will be killed.\n",
    "# alist = list(range(1024*1024*1024*8))"
   ]
  },
  {
   "cell_type": "markdown",
   "metadata": {
    "slideshow": {
     "slide_type": "slide"
    }
   },
   "source": [
    "### 无限的生成器\n",
    "\n",
    "生成器（generator）是一个对象，通过调用内置函数`next()`可以依次返回不同值。\n",
    "\n",
    "可以使用定义函数的方法来创建一个生成器，要做的工作仅仅是使用`yield`语句：\n",
    "\n",
    "> 用时间换空间"
   ]
  },
  {
   "cell_type": "code",
   "execution_count": null,
   "metadata": {
    "slideshow": {
     "slide_type": "slide"
    }
   },
   "outputs": [],
   "source": [
    "def mygenerator():\n",
    "    print('generator 1')\n",
    "    yield 1\n",
    "    print('generator 2')\n",
    "    yield 3.1415\n",
    "    print('generator 3')\n",
    "    yield 'string'"
   ]
  },
  {
   "cell_type": "code",
   "execution_count": null,
   "metadata": {
    "slideshow": {
     "slide_type": "-"
    }
   },
   "outputs": [],
   "source": [
    "print(type(mygenerator))"
   ]
  },
  {
   "cell_type": "markdown",
   "metadata": {
    "slideshow": {
     "slide_type": "slide"
    }
   },
   "source": [
    "该函数的返回结果则有所不同："
   ]
  },
  {
   "cell_type": "code",
   "execution_count": null,
   "metadata": {
    "slideshow": {
     "slide_type": "-"
    }
   },
   "outputs": [],
   "source": [
    "gen = mygenerator()\n",
    "\n",
    "print(type(gen), gen)"
   ]
  },
  {
   "cell_type": "markdown",
   "metadata": {
    "slideshow": {
     "slide_type": "slide"
    }
   },
   "source": [
    "- 生成器对象包含了`__iter__`, 迭代器，可以像迭代器那样进行迭代操作。\n",
    "- 生成器对象包含了`__next__`方法, 下面使用内置函数`next()`来迭代生成器元素："
   ]
  },
  {
   "cell_type": "code",
   "execution_count": null,
   "metadata": {
    "slideshow": {
     "slide_type": "-"
    }
   },
   "outputs": [],
   "source": [
    "print(next(gen))\n",
    "print(next(gen))\n",
    "print(next(gen))\n",
    "print(next(gen))"
   ]
  },
  {
   "cell_type": "markdown",
   "metadata": {
    "slideshow": {
     "slide_type": "slide"
    }
   },
   "source": [
    "### 简单应用"
   ]
  },
  {
   "cell_type": "code",
   "execution_count": null,
   "metadata": {
    "slideshow": {
     "slide_type": "-"
    }
   },
   "outputs": [],
   "source": [
    "def srange(n):\n",
    "    i = 0\n",
    "    while i < n:\n",
    "        yield 'id{}'.format(i)\n",
    "        i += 1"
   ]
  },
  {
   "cell_type": "code",
   "execution_count": null,
   "metadata": {
    "slideshow": {
     "slide_type": "-"
    }
   },
   "outputs": [],
   "source": [
    "for s in srange(1024*1024*8):\n",
    "    if s == 'id8000000':\n",
    "        print(s)"
   ]
  },
  {
   "cell_type": "markdown",
   "metadata": {
    "slideshow": {
     "slide_type": "slide"
    }
   },
   "source": [
    "### 元组推导式"
   ]
  },
  {
   "cell_type": "code",
   "execution_count": null,
   "metadata": {
    "slideshow": {
     "slide_type": "-"
    }
   },
   "outputs": [],
   "source": [
    "xs = (i*i for i in range(3))\n",
    "print(type(xs), xs)"
   ]
  }
 ],
 "metadata": {
  "celltoolbar": "幻灯片",
  "kernelspec": {
   "display_name": "Python 3",
   "language": "python",
   "name": "python3"
  },
  "language_info": {
   "codemirror_mode": {
    "name": "ipython",
    "version": 3
   },
   "file_extension": ".py",
   "mimetype": "text/x-python",
   "name": "python",
   "nbconvert_exporter": "python",
   "pygments_lexer": "ipython3",
   "version": "3.7.3"
  },
  "toc": {
   "base_numbering": 1,
   "nav_menu": {},
   "number_sections": true,
   "sideBar": true,
   "skip_h1_title": false,
   "title_cell": "Table of Contents",
   "title_sidebar": "Contents",
   "toc_cell": false,
   "toc_position": {},
   "toc_section_display": true,
   "toc_window_display": true
  }
 },
 "nbformat": 4,
 "nbformat_minor": 2
}
