{
 "cells": [
  {
   "cell_type": "markdown",
   "metadata": {
    "slideshow": {
     "slide_type": "slide"
    }
   },
   "source": [
    "# 函数式编程\n",
    "\n",
    "函数式编程时，实现的函数最好是纯函数式函数。有点绕口，纯函数式函数的主要意思就是，一个函数接收参数然后输出结果，不会保留任何状态。"
   ]
  },
  {
   "cell_type": "markdown",
   "metadata": {
    "slideshow": {
     "slide_type": "slide"
    }
   },
   "source": [
    "## 函数式函数\n",
    "\n",
    "Python有一些内置的函数，实现了函数式编程。\n",
    "- `map()`\n",
    "- `filter()`\n",
    "- `enumerate()`\n",
    "- `sorted()`\n",
    "- `any()`\n",
    "- `all()`\n",
    "- `zip()`"
   ]
  },
  {
   "cell_type": "markdown",
   "metadata": {
    "slideshow": {
     "slide_type": "slide"
    }
   },
   "source": [
    "### `map()`\n",
    "\n",
    "```\n",
    "map(func, *iterables)\n",
    "```"
   ]
  },
  {
   "cell_type": "code",
   "execution_count": 1,
   "metadata": {
    "slideshow": {
     "slide_type": "-"
    }
   },
   "outputs": [
    {
     "name": "stdout",
     "output_type": "stream",
     "text": [
      "<class 'map'> <map object at 0x7efed82638d0>\n",
      "I love Python\n",
      "I love C\n",
      "I love C++\n"
     ]
    }
   ],
   "source": [
    "res = map(lambda x: 'I love {}'.format(x), ['Python', 'C', 'C++'])\n",
    "print(type(res), res)\n",
    "for x in res:\n",
    "    print(x)"
   ]
  },
  {
   "cell_type": "markdown",
   "metadata": {
    "slideshow": {
     "slide_type": "slide"
    }
   },
   "source": [
    "### `filter()`\n",
    "\n",
    "```\n",
    "filter(function or None, iterable)\n",
    "```"
   ]
  },
  {
   "cell_type": "code",
   "execution_count": 2,
   "metadata": {
    "slideshow": {
     "slide_type": "-"
    }
   },
   "outputs": [
    {
     "name": "stdout",
     "output_type": "stream",
     "text": [
      "<class 'filter'> <filter object at 0x00000168BBF45438>\n",
      "helloworld.py\n",
      "filter.py\n"
     ]
    }
   ],
   "source": [
    "res  = filter(lambda x: x.endswith('.py'), ['helloworld.py', 'filter.py', 'helloworld.cpp'])\n",
    "print(type(res), res)\n",
    "for x in res:\n",
    "    print(x)"
   ]
  },
  {
   "cell_type": "markdown",
   "metadata": {
    "slideshow": {
     "slide_type": "slide"
    }
   },
   "source": [
    "### `enumerate()`\n",
    "\n",
    "```\n",
    "enumerate(iterable[, start])\n",
    "```"
   ]
  },
  {
   "cell_type": "code",
   "execution_count": 3,
   "metadata": {
    "slideshow": {
     "slide_type": "-"
    }
   },
   "outputs": [
    {
     "name": "stdout",
     "output_type": "stream",
     "text": [
      "<class 'enumerate'> <enumerate object at 0x00000168BBF717E0>\n",
      "1 Python\n",
      "2 C\n",
      "3 C++\n"
     ]
    }
   ],
   "source": [
    "alist = ['Python', 'C', 'C++']\n",
    "res = enumerate(alist, 1)\n",
    "print(type(res), res)\n",
    "for i, item in res:\n",
    "    print(i, item)"
   ]
  },
  {
   "cell_type": "markdown",
   "metadata": {
    "slideshow": {
     "slide_type": "slide"
    }
   },
   "source": [
    "### `sorted`\n",
    "\n",
    "```\n",
    "sorted(iterable, key=None, reverse=False)\n",
    "```"
   ]
  },
  {
   "cell_type": "code",
   "execution_count": 4,
   "metadata": {
    "slideshow": {
     "slide_type": "-"
    }
   },
   "outputs": [
    {
     "name": "stdout",
     "output_type": "stream",
     "text": [
      "<class 'list'>\n",
      "['Cplus', 'Python3', 'c', 'python']\n"
     ]
    }
   ],
   "source": [
    "res = sorted(['python', 'Python3', 'Cplus', 'c'])\n",
    "print(type(res))\n",
    "print(res)"
   ]
  },
  {
   "cell_type": "markdown",
   "metadata": {
    "slideshow": {
     "slide_type": "skip"
    }
   },
   "source": [
    "### `all()`\n",
    "\n",
    "```\n",
    "all(iterable)\n",
    "```"
   ]
  },
  {
   "cell_type": "code",
   "execution_count": 2,
   "metadata": {
    "slideshow": {
     "slide_type": "skip"
    }
   },
   "outputs": [
    {
     "data": {
      "text/plain": [
       "True"
      ]
     },
     "execution_count": 2,
     "metadata": {},
     "output_type": "execute_result"
    }
   ],
   "source": [
    "all([True, 1, 'a string'])"
   ]
  },
  {
   "cell_type": "markdown",
   "metadata": {
    "slideshow": {
     "slide_type": "skip"
    }
   },
   "source": [
    "### `any()`\n",
    "```\n",
    "any(iterable)\n",
    "```"
   ]
  },
  {
   "cell_type": "code",
   "execution_count": 7,
   "metadata": {
    "slideshow": {
     "slide_type": "skip"
    }
   },
   "outputs": [
    {
     "data": {
      "text/plain": [
       "False"
      ]
     },
     "execution_count": 7,
     "metadata": {},
     "output_type": "execute_result"
    }
   ],
   "source": [
    "any([False, 0, 0.0, 0+0j, '', [], (), {}, set(), None])"
   ]
  },
  {
   "cell_type": "markdown",
   "metadata": {
    "slideshow": {
     "slide_type": "slide"
    }
   },
   "source": [
    "### `zip()`\n",
    "\n",
    "```\n",
    "zip(iter1 [,iter2 [...]])\n",
    "```"
   ]
  },
  {
   "cell_type": "code",
   "execution_count": 8,
   "metadata": {
    "slideshow": {
     "slide_type": "-"
    }
   },
   "outputs": [],
   "source": [
    "langs = ['Python', 'C', 'C++']\n",
    "authors = 'Guido van Rossum', 'Dennis Ritchie', 'Bjarne Stroustrup'\n",
    "grades = range(3)"
   ]
  },
  {
   "cell_type": "code",
   "execution_count": 9,
   "metadata": {
    "slideshow": {
     "slide_type": "slide"
    }
   },
   "outputs": [
    {
     "name": "stdout",
     "output_type": "stream",
     "text": [
      "<class 'zip'> <zip object at 0x00000168BBF6D0C8>\n",
      "('Python', 'Guido van Rossum', 0)\n",
      "('C', 'Dennis Ritchie', 1)\n",
      "('C++', 'Bjarne Stroustrup', 2)\n"
     ]
    }
   ],
   "source": [
    "res = zip(langs, authors, grades)\n",
    "print(type(res), res)\n",
    "for x in res:\n",
    "    print(x)"
   ]
  }
 ],
 "metadata": {
  "celltoolbar": "幻灯片",
  "kernelspec": {
   "display_name": "Python 3",
   "language": "python",
   "name": "python3"
  },
  "language_info": {
   "codemirror_mode": {
    "name": "ipython",
    "version": 3
   },
   "file_extension": ".py",
   "mimetype": "text/x-python",
   "name": "python",
   "nbconvert_exporter": "python",
   "pygments_lexer": "ipython3",
   "version": "3.7.3"
  },
  "toc": {
   "base_numbering": 1,
   "nav_menu": {},
   "number_sections": true,
   "sideBar": true,
   "skip_h1_title": false,
   "title_cell": "Table of Contents",
   "title_sidebar": "Contents",
   "toc_cell": false,
   "toc_position": {},
   "toc_section_display": true,
   "toc_window_display": false
  }
 },
 "nbformat": 4,
 "nbformat_minor": 2
}
