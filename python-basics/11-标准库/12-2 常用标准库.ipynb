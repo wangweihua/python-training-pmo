{
 "cells": [
  {
   "cell_type": "markdown",
   "metadata": {
    "slideshow": {
     "slide_type": "slide"
    }
   },
   "source": [
    "# 常用标准库\n",
    "\n",
    "- os\n",
    "- time\n",
    "- datetime\n",
    "- argparse\n",
    "- logging\n",
    "- configparser"
   ]
  },
  {
   "cell_type": "markdown",
   "metadata": {
    "slideshow": {
     "slide_type": "slide"
    }
   },
   "source": [
    "## os库\n",
    "\n",
    "`os`是 `operating system` 的简写，是 Python 的一个标准库，提供丰富的方法实现与操作系统相关的操作，特别是文件和目录处理。\n"
   ]
  },
  {
   "cell_type": "code",
   "execution_count": null,
   "metadata": {
    "slideshow": {
     "slide_type": "-"
    }
   },
   "outputs": [],
   "source": [
    "import os"
   ]
  },
  {
   "cell_type": "markdown",
   "metadata": {
    "slideshow": {
     "slide_type": "slide"
    }
   },
   "source": [
    "### 文件和目录操作\n",
    "\n",
    "`os` 库包含文件操作函数：\n",
    "\n",
    "| 函数   | 用途 |\n",
    "|:--------|:-----------|\n",
    "| `os.getcwd()` | 获取当前工作目录 |\n",
    "| `os.chdir()` | 改变当前工作目录 |\n",
    "| `os.makedirs()` |\t递归创建目录 |\n",
    "| `os.removedirs()` | 递归删除目录（小心）|\n",
    "| `os.mkdir()` | 创建目录 |\n",
    "| `os.rmdir()` |删除空目录 |\n",
    "| `os.listdir()` | 列出目录下文件和子目录 |\n",
    "| `os.remove()` | 删除一个文件 |\n",
    "| `os.rename()` | 重命名文件或目录 |\n",
    "| `os.stat()` | 获取文件/目录信息 |"
   ]
  },
  {
   "cell_type": "markdown",
   "metadata": {},
   "source": [
    "`os.path`包括的功能函数有：\n",
    "\n",
    "| 函数   | 用途 |\n",
    "|:--------|:-----------|\n",
    "| `os.path.abspath()` | 返回规范化的绝对路径 |\n",
    "| `os.path.split()`  | 返回路径的目录和文件名 |\n",
    "| `os.path.dirname()` | 返回路径的目录 |\n",
    "| `os.path.basename()` | 返回路径的文件名|\n",
    "| `os.path.exists()` | 检查路径是否存在 |\n",
    "| `os.path.isabs()` | 检查是否是绝对路径 |\n",
    "| `os.path.isfile()` | 检查路径是否是文件 |\n",
    "| `os.path.isdir()` | 检查路径是否是目录 |\n",
    "| `os.path.join()` | 合并路径，返回路径 |\n",
    "| `os.path.getatime()` | 返回文件或目录的最后存取时间 |\n",
    "| `os.path.getmtime()` | 返回文件或目录的最后修改时间 |\n",
    "| `os.path.getsize()` | 返回文件大小 |"
   ]
  },
  {
   "cell_type": "markdown",
   "metadata": {
    "slideshow": {
     "slide_type": "slide"
    }
   },
   "source": [
    "### 获得用户主目录\n"
   ]
  },
  {
   "cell_type": "code",
   "execution_count": null,
   "metadata": {
    "slideshow": {
     "slide_type": "-"
    }
   },
   "outputs": [],
   "source": [
    "homepath = os.path.expanduser('~')\n",
    "homepath"
   ]
  },
  {
   "cell_type": "markdown",
   "metadata": {
    "slideshow": {
     "slide_type": "slide"
    }
   },
   "source": [
    "### 构建路径\n",
    "\n",
    "使用`os.path.join()`拼接创建路径。"
   ]
  },
  {
   "cell_type": "code",
   "execution_count": null,
   "metadata": {
    "slideshow": {
     "slide_type": "-"
    }
   },
   "outputs": [],
   "source": [
    "print(os.path.join('one', 'two', 'three'))\n",
    "print(os.path.join('/', 'one', 'two', 'three'))\n",
    "print(os.path.join('/one', '/two', '/three'))"
   ]
  },
  {
   "cell_type": "markdown",
   "metadata": {
    "slideshow": {
     "slide_type": "slide"
    }
   },
   "source": [
    "### `os.access()`\n",
    "\n"
   ]
  },
  {
   "cell_type": "code",
   "execution_count": null,
   "metadata": {
    "slideshow": {
     "slide_type": "-"
    }
   },
   "outputs": [],
   "source": [
    "path = 'myfile'\n",
    "print(os.access(path, os.R_OK))"
   ]
  },
  {
   "cell_type": "markdown",
   "metadata": {
    "slideshow": {
     "slide_type": "slide"
    }
   },
   "source": [
    "## time 库\n",
    "\n",
    "处理处理时间。"
   ]
  },
  {
   "cell_type": "code",
   "execution_count": null,
   "metadata": {
    "slideshow": {
     "slide_type": "-"
    }
   },
   "outputs": [],
   "source": [
    "import time"
   ]
  },
  {
   "cell_type": "markdown",
   "metadata": {
    "slideshow": {
     "slide_type": "slide"
    }
   },
   "source": [
    "###  `time.sleep()`\n",
    "\n",
    "暂停运行,程序休眠"
   ]
  },
  {
   "cell_type": "code",
   "execution_count": null,
   "metadata": {
    "slideshow": {
     "slide_type": "-"
    }
   },
   "outputs": [],
   "source": [
    "for i in range(10):\n",
    "    if i % 2 == 0:\n",
    "        time.sleep(1)\n",
    "        continue\n",
    "    print(i)"
   ]
  },
  {
   "cell_type": "markdown",
   "metadata": {
    "slideshow": {
     "slide_type": "slide"
    }
   },
   "source": [
    "## datetime\n",
    "\n",
    "`datetime`是Python的一个标准库，用于有关时间方面的处理。"
   ]
  },
  {
   "cell_type": "code",
   "execution_count": null,
   "metadata": {
    "slideshow": {
     "slide_type": "-"
    }
   },
   "outputs": [],
   "source": [
    "import datetime"
   ]
  },
  {
   "cell_type": "markdown",
   "metadata": {
    "slideshow": {
     "slide_type": "slide"
    }
   },
   "source": [
    "### `datetime.datetime`类\n",
    "\n",
    "`datetime.datetime`类用于与处理日期与时间。传入年月日时分秒等个参数，可以创建`datetime.datedate`对象，语法是：\n",
    "```python\n",
    "datetime(year, month, day[, hour[, minute[, second[, microsecond[,tzinfo]]]]])\n",
    "```"
   ]
  },
  {
   "cell_type": "code",
   "execution_count": null,
   "metadata": {
    "slideshow": {
     "slide_type": "-"
    }
   },
   "outputs": [],
   "source": [
    "d1 = datetime.datetime(2018, 1, 1, 14, 30, 10)\n",
    "print(type(d1))"
   ]
  },
  {
   "cell_type": "markdown",
   "metadata": {
    "slideshow": {
     "slide_type": "slide"
    }
   },
   "source": [
    "### 获取当前日期\n",
    "\n",
    "获取当前时间，地方时或UTC时间。"
   ]
  },
  {
   "cell_type": "code",
   "execution_count": null,
   "metadata": {
    "slideshow": {
     "slide_type": "-"
    }
   },
   "outputs": [],
   "source": [
    "print('当前时间(Today):', datetime.datetime.today())\n",
    "print('当前时间(Now):', datetime.datetime.now())\n",
    "print('当前时间(UTC):', datetime.datetime.utcnow())"
   ]
  },
  {
   "cell_type": "markdown",
   "metadata": {
    "slideshow": {
     "slide_type": "slide"
    }
   },
   "source": [
    "## argparse 库\n",
    "\n",
    "[`argparse`库]()是Python标准库，用来解析命令行解析，是编写友好命令行程序的重要工具之一。使用`argparse`模块前，需要先行导入："
   ]
  },
  {
   "cell_type": "code",
   "execution_count": null,
   "metadata": {
    "slideshow": {
     "slide_type": "-"
    }
   },
   "outputs": [],
   "source": [
    "import argparse"
   ]
  },
  {
   "cell_type": "markdown",
   "metadata": {
    "slideshow": {
     "slide_type": "slide"
    }
   },
   "source": [
    "### 计算机中的程序\n",
    "\n",
    "通常运行程序都需要一些输入，处理完后还会有一些输出。"
   ]
  },
  {
   "cell_type": "markdown",
   "metadata": {
    "slideshow": {
     "slide_type": "-"
    }
   },
   "source": [
    "对程序使用情况进行分析统计，对输入进行如下归类：\n",
    "1. 程序必要，用户不得更改；\n",
    "2. 不同运行环境会有所不同，确定后基本不变；\n",
    "3. 每次运行都有所不同，变化特别频繁；\n",
    "4. 变化频率介于二者之间；"
   ]
  },
  {
   "cell_type": "markdown",
   "metadata": {
    "slideshow": {
     "slide_type": "slide"
    }
   },
   "source": [
    "对于第一种情况，程序不能让用户更改。这些输入数据通常以文件的形式，在程序指定位置存储。例如在程序的当前目录下。\n",
    "\n",
    "对于第二种情况，提供可修改的配置文件。在程序第一次安装时进行配置保存即可。\n",
    "\n",
    "对于第三种情况，在启动程序时，通过命令行传入即可。\n",
    "\n",
    "对于第四种情况，在配置文件中进行配置，同时还可以通过命令行传入，后者会覆盖前者。"
   ]
  },
  {
   "cell_type": "markdown",
   "metadata": {
    "slideshow": {
     "slide_type": "slide"
    }
   },
   "source": [
    "在`argparse`模块中，最主要的就是提供的参数解析器类 `ArgumentParser`。使用`argparse`解析命令行参数的主要步骤：\n",
    "1. 创建`ArgumentParser()`对象\n",
    "2. 调用`add_argument()`方法添加预期参数\n",
    "3. 使用`parse_args()`解析用户输入命令行参数"
   ]
  },
  {
   "cell_type": "code",
   "execution_count": null,
   "metadata": {
    "slideshow": {
     "slide_type": "slide"
    }
   },
   "outputs": [],
   "source": [
    "%%writefile calc.py\n",
    "#!/usr/bin/env python\n",
    "# -*- coding: utf-8 -*-\n",
    "\"\"\"argparse demo\"\"\"\n",
    "import argparse\n",
    "\n",
    "\n",
    "__version__ = '1.0.0'\n",
    "\n",
    "def main():\n",
    "    \"\"\"main entry\"\"\"\n",
    "    description = \"对多个整数进行累计运算\"\n",
    "    parser = argparse.ArgumentParser(description=description)\n",
    "    parser.add_argument('integers', metavar='N', type=int, nargs='+',\n",
    "                        help='an integer for the accumulator')\n",
    "    parser.add_argument('--method', choices=['sum', 'min', 'max'], default='sum',\n",
    "                        help='a math method for accumulator')\n",
    "    parser.add_argument('-v', '--version', action='version', version=__version__)\n",
    "    args = parser.parse_args()\n",
    "\n",
    "    result = None\n",
    "    if args.method == 'sum':\n",
    "        result = sum(args.integers)\n",
    "    elif args.method == 'max':\n",
    "        result = max(args.integers)\n",
    "    elif args.method == 'min':\n",
    "        result = min(args.integers)\n",
    "\n",
    "    print(result)\n",
    "    \n",
    "if __name__ == '__main__':\n",
    "    main()"
   ]
  },
  {
   "cell_type": "markdown",
   "metadata": {
    "slideshow": {
     "slide_type": "slide"
    }
   },
   "source": [
    "运行程序，检查帮助信息"
   ]
  },
  {
   "cell_type": "code",
   "execution_count": null,
   "metadata": {
    "slideshow": {
     "slide_type": "-"
    }
   },
   "outputs": [],
   "source": [
    "%run calc.py -h"
   ]
  },
  {
   "cell_type": "markdown",
   "metadata": {
    "slideshow": {
     "slide_type": "slide"
    }
   },
   "source": [
    "运行程序，查看结果"
   ]
  },
  {
   "cell_type": "code",
   "execution_count": null,
   "metadata": {
    "slideshow": {
     "slide_type": "-"
    }
   },
   "outputs": [],
   "source": [
    "%run calc.py 1 2 3"
   ]
  },
  {
   "cell_type": "code",
   "execution_count": null,
   "metadata": {
    "slideshow": {
     "slide_type": "-"
    }
   },
   "outputs": [],
   "source": [
    "%run calc.py --method  max 1 2 3"
   ]
  },
  {
   "cell_type": "markdown",
   "metadata": {
    "slideshow": {
     "slide_type": "slide"
    }
   },
   "source": [
    "## logging 库\n",
    "\n",
    "[`logging`](https://docs.python.org/3/library/logging.html)是Python的标准库，是一个日志记录工具。"
   ]
  },
  {
   "cell_type": "code",
   "execution_count": null,
   "metadata": {
    "slideshow": {
     "slide_type": "-"
    }
   },
   "outputs": [],
   "source": [
    "import logging"
   ]
  },
  {
   "cell_type": "markdown",
   "metadata": {
    "slideshow": {
     "slide_type": "slide"
    }
   },
   "source": [
    "在计算机编程中也广泛使用日志记录。在程序中记录日志有两个目的：\n",
    "- 故障定位（Troubleshooting）\n",
    "- 运行状态显示"
   ]
  },
  {
   "cell_type": "code",
   "execution_count": null,
   "metadata": {
    "slideshow": {
     "slide_type": "slide"
    }
   },
   "outputs": [],
   "source": [
    "logging.debug('debug message')     # check the result\n",
    "logging.info('info message')       # check the result\n",
    "logging.warning('warning message')\n",
    "# logging.warn('deprecated message')\n",
    "logging.error('error message')\n",
    "logging.fatal('fatal message')\n",
    "logging.critical('critical message')\n",
    "logging.exception('exception message')       # check the result"
   ]
  },
  {
   "cell_type": "code",
   "execution_count": null,
   "metadata": {
    "slideshow": {
     "slide_type": "slide"
    }
   },
   "outputs": [],
   "source": [
    "%%writefile logging_demo04.py\n",
    "#!/usr/bin/env python\n",
    "# -*- coding: utf-8 -*-\n",
    "\"\"\"logging demo\"\"\"\n",
    "import logging\n",
    "\n",
    "# Set the logging config\n",
    "logfile = 'logging_demo04.log'\n",
    "logfmt = '%(asctime)s:%(module)s:%(levelname)s:%(message)s'\n",
    "datefmt = '%Y-%m-%dT%Hh%Mm%Ss'\n",
    "logging.basicConfig(filename=logfile, level=logging.DEBUG, format=logfmt, datefmt=datefmt)\n",
    "\n",
    "logging.debug('debug message')     # check the result\n",
    "logging.info('info message')       # check the result\n",
    "logging.warning('warning message')\n",
    "logging.error('error message')\n",
    "logging.critical('critical message')"
   ]
  },
  {
   "cell_type": "code",
   "execution_count": null,
   "metadata": {
    "slideshow": {
     "slide_type": "slide"
    }
   },
   "outputs": [],
   "source": [
    "%run logging_demo04.py"
   ]
  },
  {
   "cell_type": "markdown",
   "metadata": {
    "slideshow": {
     "slide_type": "slide"
    }
   },
   "source": [
    "## configparser 库\n",
    "\n",
    "`configparser`是一个 Python 标准库，用来读取和写入INI格式配置文件。"
   ]
  },
  {
   "cell_type": "code",
   "execution_count": null,
   "metadata": {
    "slideshow": {
     "slide_type": "-"
    }
   },
   "outputs": [],
   "source": [
    "import configparser"
   ]
  },
  {
   "cell_type": "markdown",
   "metadata": {
    "slideshow": {
     "slide_type": "slide"
    }
   },
   "source": [
    "### INI文件介绍\n",
    "\n",
    "INI文件是Initialization File的缩写，即初始化文件, 是很多软件常用的配置文件。"
   ]
  },
  {
   "cell_type": "markdown",
   "metadata": {
    "slideshow": {
     "slide_type": "-"
    }
   },
   "source": [
    "INI文件格式的基本要素包括：\n",
    "- 节（section），用中括号括起来；\n",
    "- 键-值对，在节中用键值对存储参数值\n",
    "- 注释语句，使用（`;`）或其它。"
   ]
  },
  {
   "cell_type": "code",
   "execution_count": null,
   "metadata": {
    "slideshow": {
     "slide_type": "slide"
    }
   },
   "outputs": [],
   "source": [
    "%cat system.ini"
   ]
  },
  {
   "cell_type": "markdown",
   "metadata": {
    "slideshow": {
     "slide_type": "slide"
    }
   },
   "source": [
    "下面创建一个`configparser.ConfigParser`对象："
   ]
  },
  {
   "cell_type": "code",
   "execution_count": null,
   "metadata": {
    "slideshow": {
     "slide_type": "-"
    }
   },
   "outputs": [],
   "source": [
    "config = configparser.ConfigParser()"
   ]
  },
  {
   "cell_type": "markdown",
   "metadata": {
    "slideshow": {
     "slide_type": "slide"
    }
   },
   "source": [
    "### 读取`system.ini`文件\n",
    "\n",
    "下面使用`configparser`读取INI文件。"
   ]
  },
  {
   "cell_type": "code",
   "execution_count": null,
   "metadata": {
    "slideshow": {
     "slide_type": "-"
    }
   },
   "outputs": [],
   "source": [
    "configfile = 'system.ini'\n",
    "config.read(configfile)"
   ]
  },
  {
   "cell_type": "markdown",
   "metadata": {
    "slideshow": {
     "slide_type": "slide"
    }
   },
   "source": [
    "使用中括号访问指定节，可以使用类似字典的方法读取其中的键、值"
   ]
  },
  {
   "cell_type": "code",
   "execution_count": null,
   "metadata": {
    "slideshow": {
     "slide_type": "-"
    }
   },
   "outputs": [],
   "source": [
    "config['drivers']['wave']"
   ]
  }
 ],
 "metadata": {
  "celltoolbar": "幻灯片",
  "kernelspec": {
   "display_name": "Python 3",
   "language": "python",
   "name": "python3"
  },
  "language_info": {
   "codemirror_mode": {
    "name": "ipython",
    "version": 3
   },
   "file_extension": ".py",
   "mimetype": "text/x-python",
   "name": "python",
   "nbconvert_exporter": "python",
   "pygments_lexer": "ipython3",
   "version": "3.7.3"
  }
 },
 "nbformat": 4,
 "nbformat_minor": 2
}
