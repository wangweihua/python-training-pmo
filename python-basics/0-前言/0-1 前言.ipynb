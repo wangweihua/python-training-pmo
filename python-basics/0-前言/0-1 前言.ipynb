{
 "cells": [
  {
   "cell_type": "markdown",
   "metadata": {
    "slideshow": {
     "slide_type": "slide"
    }
   },
   "source": [
    "# 紫金山天文台Python培训\n",
    "\n",
    "![logo](assets/logo.gif)"
   ]
  },
  {
   "cell_type": "code",
   "execution_count": 1,
   "metadata": {
    "slideshow": {
     "slide_type": "-"
    }
   },
   "outputs": [
    {
     "data": {
      "text/html": [
       "\n",
       "                <audio controls=\"controls\" >\n",
       "                    <source src=\"assets/APCHY.mp3\" type=\"audio/mpeg\" />\n",
       "                    Your browser does not support the audio element.\n",
       "                </audio>\n",
       "              "
      ],
      "text/plain": [
       "<IPython.lib.display.Audio object>"
      ]
     },
     "metadata": {},
     "output_type": "display_data"
    }
   ],
   "source": [
    "import IPython \n",
    "IPython.display.display(IPython.display.Audio(url=\"assets/APCHY.mp3\"))"
   ]
  },
  {
   "cell_type": "markdown",
   "metadata": {
    "slideshow": {
     "slide_type": "slide"
    }
   },
   "source": [
    "## 为什么学编程？\n",
    "\n",
    "> 如果你没有找到一个当你睡觉时还在挣钱的方法, 你将一直工作到死！  \n",
    "> 巴菲特"
   ]
  },
  {
   "cell_type": "markdown",
   "metadata": {
    "slideshow": {
     "slide_type": "slide"
    }
   },
   "source": [
    "### 测试一下\n",
    "\n",
    "- 每年给老婆买个生日礼物\n",
    "- 下载打印吴雪峰老师最新的论文\n",
    "- 4天后去北京开会，回来报销出差费用"
   ]
  },
  {
   "cell_type": "markdown",
   "metadata": {
    "slideshow": {
     "slide_type": "slide"
    }
   },
   "source": [
    "### 解决方法\n",
    "\n",
    "- 大人物方案\n",
    "    - 建立系统（组织、公司）\n",
    "    - 寻找优秀人才，建立更优系统（做强做大）\n",
    "- 小人物方案\n",
    "    - 编程搭建软件系统\n",
    "    - 功能不断增多，版本不断更新"
   ]
  },
  {
   "cell_type": "markdown",
   "metadata": {
    "slideshow": {
     "slide_type": "slide"
    }
   },
   "source": [
    "## 编什么？\n",
    "\n",
    "> 天下大势、浩浩荡荡、顺之者昌、逆之者亡。\n",
    "\n",
    "![DNA](assets/dig_net_ai.png)"
   ]
  },
  {
   "cell_type": "markdown",
   "metadata": {
    "slideshow": {
     "slide_type": "slide"
    }
   },
   "source": [
    "###  理解DNA（数字化、网络化、智能化）\n",
    "\n",
    "> 在任意地点、任意时间更好地做任何事情！\n",
    "\n",
    "> Do anything better anywhere anytime by nobody"
   ]
  },
  {
   "cell_type": "markdown",
   "metadata": {
    "slideshow": {
     "slide_type": "slide"
    }
   },
   "source": [
    "### DNA公式\n",
    "\n",
    "$$\n",
    "s(People, Space, Time)\n",
    "$$\n",
    "- `People` 人群范围\n",
    "- `Space`  空间范围\n",
    "- `Time`  时间范围"
   ]
  },
  {
   "cell_type": "markdown",
   "metadata": {
    "slideshow": {
     "slide_type": "slide"
    }
   },
   "source": [
    "## 科学研究的DNA应用\n",
    "\n",
    "### 科研过程\n",
    "\n",
    "- 问题与idea\n",
    "- 调研与文献\n",
    "- 观测试验\n",
    "- 数据收集\n",
    "- 数据处理与分析\n",
    "- 文章与书籍"
   ]
  },
  {
   "cell_type": "markdown",
   "metadata": {
    "slideshow": {
     "slide_type": "slide"
    }
   },
   "source": [
    "### 查阅文献\n",
    "\n",
    "- 手动搜索下载到自动（爬虫）\n",
    "- 全年监视 （网络化）\n",
    "- 文章匹配（智能化）\n",
    "- 文章自动翻译（智能化）"
   ]
  },
  {
   "cell_type": "markdown",
   "metadata": {
    "slideshow": {
     "slide_type": "slide"
    }
   },
   "source": [
    "### 数据收集与分析\n",
    "\n",
    "- 手动下载到自动化（爬虫）\n",
    "- 全年监视 （网络化）\n",
    "- 数据处理和分析（数据分析、可视化与机器学习）"
   ]
  },
  {
   "cell_type": "markdown",
   "metadata": {
    "slideshow": {
     "slide_type": "slide"
    }
   },
   "source": [
    "### 睡觉了也在科研，你准备好了吗？\n",
    "\n",
    "- 自动化\n",
    "- 网络服务化\n",
    "- 智能化"
   ]
  },
  {
   "cell_type": "markdown",
   "metadata": {
    "slideshow": {
     "slide_type": "slide"
    }
   },
   "source": [
    "## 如何学习编程？\n",
    "\n",
    "![学习金字塔](assets/Edgar-Dale-Cone-of-Learning.png)"
   ]
  },
  {
   "cell_type": "markdown",
   "metadata": {
    "slideshow": {
     "slide_type": "slide"
    }
   },
   "source": [
    "### 编程的三个境界\n",
    "\n",
    "> 明白同行所说之概念，看懂同行所写之代码，此第一境也；\n",
    "\n",
    "> 比葫芦画瓢模仿出代码，量变引质变，终山寨变正品，此第二境也；\n",
    "\n",
    "> 能悟道而传之，能授业解人惑，此第三境也。"
   ]
  },
  {
   "cell_type": "markdown",
   "metadata": {
    "slideshow": {
     "slide_type": "slide"
    }
   },
   "source": [
    "### 简而言之\n",
    "\n",
    "- 多看多练；\n",
    "- 多编多试；\n",
    "- 多写多思。"
   ]
  },
  {
   "cell_type": "markdown",
   "metadata": {
    "slideshow": {
     "slide_type": "slide"
    }
   },
   "source": [
    "### 培训\n",
    "\n",
    "如果手头还比较宽松，参加培训是不错的选择。培训是集中时间学习，效率比较高。相对于自学而言，面对面的培训传递的信息量更大，讲解会更透彻，能够快速入门。\n",
    "\n",
    ">“Buy quality, cry once. Buy cheap, cry twice.”\n",
    "\n",
    "对于年轻人，花钱培训是投资。"
   ]
  },
  {
   "cell_type": "markdown",
   "metadata": {
    "slideshow": {
     "slide_type": "slide"
    }
   },
   "source": [
    "## 培训大纲\n",
    "\n",
    "1. Python从入门到精通（1天半）\n",
    "2. 简单Python爬虫（半天）\n",
    "3. Python数据分析（1天）\n",
    "4. Python机器学习 （2天）"
   ]
  },
  {
   "cell_type": "markdown",
   "metadata": {
    "slideshow": {
     "slide_type": "slide"
    }
   },
   "source": [
    "## 培训讲师\n",
    "\n",
    "> “正确的路线确定之后,干部就是决定的因素”---毛泽东\n",
    "\n",
    "-  段勇\n",
    "- 王伟华"
   ]
  }
 ],
 "metadata": {
  "celltoolbar": "幻灯片",
  "kernelspec": {
   "display_name": "Python 3",
   "language": "python",
   "name": "python3"
  },
  "language_info": {
   "codemirror_mode": {
    "name": "ipython",
    "version": 3
   },
   "file_extension": ".py",
   "mimetype": "text/x-python",
   "name": "python",
   "nbconvert_exporter": "python",
   "pygments_lexer": "ipython3",
   "version": "3.7.3"
  },
  "toc": {
   "base_numbering": 1,
   "nav_menu": {},
   "number_sections": true,
   "sideBar": true,
   "skip_h1_title": false,
   "title_cell": "Table of Contents",
   "title_sidebar": "Contents",
   "toc_cell": false,
   "toc_position": {},
   "toc_section_display": true,
   "toc_window_display": false
  }
 },
 "nbformat": 4,
 "nbformat_minor": 2
}
