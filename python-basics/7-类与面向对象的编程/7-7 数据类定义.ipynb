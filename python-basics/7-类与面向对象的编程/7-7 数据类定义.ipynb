{
 "cells": [
  {
   "cell_type": "markdown",
   "metadata": {
    "slideshow": {
     "slide_type": "slide"
    }
   },
   "source": [
    "# 数据类定义实例\n",
    "\n",
    "本节通过一个天体位置类实例来介绍数据类的定义和使用。"
   ]
  },
  {
   "cell_type": "markdown",
   "metadata": {
    "slideshow": {
     "slide_type": "-"
    }
   },
   "source": [
    "## 定义天体位置类\n",
    "\n",
    "> “四方上下曰宇，往古来今曰宙\" -- 《尸子》\n",
    "\n",
    "天体位置类包括：\n",
    "- 有3个属性，为浮点数，不能更改；\n",
    "- 距离方法，返回2个位置之间的距离"
   ]
  },
  {
   "cell_type": "code",
   "execution_count": 5,
   "metadata": {
    "slideshow": {
     "slide_type": "slide"
    }
   },
   "outputs": [],
   "source": [
    "import math\n",
    "\n",
    "\n",
    "class AstroPosition(object):\n",
    "    \"\"\"\\\n",
    "    AstroPosition()  -> position\n",
    "    AstroPosition(x, y, z)  -> position\n",
    "\n",
    "    创建天文位置\n",
    "    \"\"\"\n",
    "    def __init__(self, x=0, y=0, z=0):\n",
    "        self.__x = float(x)\n",
    "        self.__y = float(y)\n",
    "        self.__z = float(z)\n",
    "\n",
    "    @property\n",
    "    def x(self):\n",
    "        return self.__x\n",
    "\n",
    "    @property\n",
    "    def y(self):\n",
    "        return self.__y\n",
    "\n",
    "    @property\n",
    "    def z(self):\n",
    "        return self.__z\n",
    "        \n",
    "    def __str__(self):\n",
    "        \"\"\"Return str(self).\"\"\"\n",
    "        return '(x={0.x}, y={0.y}, z={0.z})'.format(self)\n",
    "\n",
    "    def __repr__(self):\n",
    "        \"\"\"Return repr(self).\"\"\"\n",
    "        class_name = type(self).__name__\n",
    "        return '{0}({1.x}, {1.y}, {1.z})'.format(class_name, self)    \n",
    "    \n",
    "    def distance(self, pos):\n",
    "        \"\"\"计算两点之间的位置\"\"\"\n",
    "        dx = self.x - pos.x\n",
    "        dy = self.y - pos.y\n",
    "        dz = self.z - pos.z\n",
    "        return math.sqrt(dx*dx + dy*dy + dz*dz)"
   ]
  },
  {
   "cell_type": "markdown",
   "metadata": {
    "slideshow": {
     "slide_type": "slide"
    }
   },
   "source": [
    "在上述代码中，定义了一个天文位置类，类名为`AstroPostion`，显式指定父类为`object`。定义了三个魔术方法和常规方法：\n",
    "- `__init__()`，输入直角坐标系位置；\n",
    "- `__str__()`，返回面向用户的对象字符串；\n",
    "- `__repr__()`，返回面向开发人员的对象的字符串。\n",
    "- `distance()`，返回两个位置之间的距离。\n",
    "\n",
    "此外还是用装饰器函数`property()`，定义了3个特性，并设置为只读。"
   ]
  },
  {
   "cell_type": "markdown",
   "metadata": {
    "slideshow": {
     "slide_type": "slide"
    }
   },
   "source": [
    "下面创建天文位置对象，并演示其使用："
   ]
  },
  {
   "cell_type": "code",
   "execution_count": 6,
   "metadata": {
    "slideshow": {
     "slide_type": "-"
    }
   },
   "outputs": [
    {
     "data": {
      "text/plain": [
       "(AstroPosition(0.0, 0.0, 0.0),\n",
       " AstroPosition(3.0, 4.0, 5.0),\n",
       " AstroPosition(3.0, 4.0, -5.0))"
      ]
     },
     "execution_count": 6,
     "metadata": {},
     "output_type": "execute_result"
    }
   ],
   "source": [
    "p0 = AstroPosition()\n",
    "p1 = AstroPosition(3.0, 4.0, 5.0)\n",
    "p2 = AstroPosition(3.0, 4.0, -5.0)\n",
    "p0, p1, p2"
   ]
  },
  {
   "cell_type": "markdown",
   "metadata": {
    "slideshow": {
     "slide_type": "slide"
    }
   },
   "source": [
    "可以使用 Python 内置函数`str()`和`repr()`来返回对象字符串："
   ]
  },
  {
   "cell_type": "code",
   "execution_count": 7,
   "metadata": {
    "slideshow": {
     "slide_type": "-"
    }
   },
   "outputs": [
    {
     "name": "stdout",
     "output_type": "stream",
     "text": [
      "(x=0.0, y=0.0, z=0.0) (x=3.0, y=4.0, z=5.0) (x=3.0, y=4.0, z=-5.0)\n",
      "AstroPosition(0.0, 0.0, 0.0) AstroPosition(3.0, 4.0, 5.0) AstroPosition(3.0, 4.0, -5.0)\n"
     ]
    }
   ],
   "source": [
    "print(str(p0), str(p1), str(p2))\n",
    "print(repr(p0), repr(p1), repr(p2))"
   ]
  },
  {
   "cell_type": "code",
   "execution_count": 8,
   "metadata": {
    "slideshow": {
     "slide_type": "-"
    }
   },
   "outputs": [
    {
     "name": "stdout",
     "output_type": "stream",
     "text": [
      "10.0\n"
     ]
    }
   ],
   "source": [
    "print(p1.distance(p2))"
   ]
  },
  {
   "cell_type": "markdown",
   "metadata": {
    "slideshow": {
     "slide_type": "slide"
    }
   },
   "source": [
    "## 算术运算\n",
    "\n",
    "在类中通过定义魔术方法，可以使用相应的运算符来操作对象。下面列出算术运算符及其对应的魔术方法：\n",
    "\n",
    "|运算符 | 魔术方法    |  说明   |\n",
    "| :----:|:-------------| -------: |\n",
    "| `+`  | `__add__`    | 加法   |\n",
    "| `-`  | `__sub__`    | 减法   |\n",
    "| `*`  | `__mul__`    | 乘法   |\n",
    "| `/`  | `__truediv__` | 真除   |\n",
    "| `//` | `__floordiv__`| 地板除  |\n",
    "| `%`  | `__mod__`    | 求余   |\n",
    "| `**` | `__pow__`    | 求幂   |\n"
   ]
  },
  {
   "cell_type": "markdown",
   "metadata": {
    "slideshow": {
     "slide_type": "slide"
    }
   },
   "source": [
    "对于一个天文位置类而言，适合的算术运算有：\n",
    "- 加法，把两个位置相加得到新的位置；\n",
    "- 减法，把两个位置相减得到新的位置；\n",
    "* 乘法，使用一个因子，对位置放大；\n",
    "* 真除，使用一个因子，对位置进行缩小；\n",
    "\n",
    "下面在类中增加这些魔术方法："
   ]
  },
  {
   "cell_type": "code",
   "execution_count": 9,
   "metadata": {
    "slideshow": {
     "slide_type": "slide"
    }
   },
   "outputs": [],
   "source": [
    "class AstroPosition(object):\n",
    "    \"\"\"\\\n",
    "    AstroPosition()  -> position\n",
    "    AstroPosition(x, y, z)  -> position\n",
    "\n",
    "    创建天文位置\n",
    "    \"\"\"\n",
    "    def __init__(self, x=0, y=0, z=0):\n",
    "        self.__x = float(x)\n",
    "        self.__y = float(y)\n",
    "        self.__z = float(z)\n",
    "\n",
    "    @property\n",
    "    def x(self):\n",
    "        return self.__x\n",
    "\n",
    "    @property\n",
    "    def y(self):\n",
    "        return self.__y\n",
    "\n",
    "    @property\n",
    "    def z(self):\n",
    "        return self.__z\n",
    "        \n",
    "    def __str__(self):\n",
    "        \"\"\"Return str(self).\"\"\"\n",
    "        return '(x={0.x}, y={0.y}, z={0.z})'.format(self)\n",
    "\n",
    "    def __repr__(self):\n",
    "        \"\"\"Return repr(self).\"\"\"\n",
    "        class_name = type(self).__name__\n",
    "        return '{0}({1.x}, {1.y}, {1.z})'.format(class_name, self)    \n",
    "    \n",
    "    def distance(self, pos):\n",
    "        \"\"\"计算两点之间的位置\"\"\"\n",
    "        dx = self.x - pos.x\n",
    "        dy = self.y - pos.y\n",
    "        dz = self.z - pos.z\n",
    "        return math.sqrt(dx*dx + dy*dy + dz*dz)\n",
    "    \n",
    "    def __add__(self, pos):\n",
    "        \"\"\"Return self+pos.\"\"\"\n",
    "        return AstroPosition(self.x + pos.x, self.y + pos.y, self.z + pos.z)\n",
    "    \n",
    "    def __sub__(self, pos):\n",
    "        \"\"\"Return self-pos.\"\"\"\n",
    "        return AstroPosition(self.x - pos.x, self.y - pos.y, self.z - pos.z)\n",
    "    \n",
    "    def __mul__(self, scale):\n",
    "        \"\"\"Return self * scale.\"\"\"\n",
    "        return AstroPosition(self.x * scale, self.y * scale, self.z * scale)\n",
    "    \n",
    "    def __truediv__(self, scale):\n",
    "        \"\"\"Return self / scale.\"\"\"\n",
    "        return AstroPosition(self.x / scale, self.y / scale, self.z / scale)    "
   ]
  },
  {
   "cell_type": "markdown",
   "metadata": {
    "slideshow": {
     "slide_type": "slide"
    }
   },
   "source": [
    "下面创建天文位置对象，并演示算术运算操作："
   ]
  },
  {
   "cell_type": "code",
   "execution_count": 10,
   "metadata": {
    "slideshow": {
     "slide_type": "-"
    }
   },
   "outputs": [],
   "source": [
    "p0 = AstroPosition()\n",
    "p1 = AstroPosition(3.0, 4.0, 5.0)\n",
    "p2 = AstroPosition(3.0, 4.0, -5.0)"
   ]
  },
  {
   "cell_type": "code",
   "execution_count": 11,
   "metadata": {
    "slideshow": {
     "slide_type": "slide"
    }
   },
   "outputs": [
    {
     "name": "stdout",
     "output_type": "stream",
     "text": [
      "(x=6.0, y=8.0, z=0.0)\n",
      "(x=0.0, y=0.0, z=10.0)\n",
      "(x=30.0, y=40.0, z=50.0)\n",
      "(x=0.3, y=0.4, z=0.5)\n"
     ]
    }
   ],
   "source": [
    "# 加法\n",
    "print(p1 + p2)\n",
    "# 减法\n",
    "print(p1 - p2)\n",
    "# 乘法\n",
    "print(p1 * 10)\n",
    "# 真除\n",
    "print(p1 / 10)"
   ]
  },
  {
   "cell_type": "markdown",
   "metadata": {},
   "source": [
    "## 一元运算\n",
    "\n",
    "Python 还包括有一元运算符\n",
    "\n",
    "|运算符  | 魔术方法    |  说明   |\n",
    "| :-----:|:-------------| -------: |\n",
    "| `-`   | `__neg__`   | 取负    |\n",
    "| `+`   | `__pos__`   | 取正   |\n",
    "| `abs()`| `__abs__`   | 求绝对值 |\n",
    "\n",
    "对于天文位置对象，可以使用取负、取正运算。绝对值运算则对应了位置与原点之间的距离："
   ]
  },
  {
   "cell_type": "markdown",
   "metadata": {
    "slideshow": {
     "slide_type": "slide"
    }
   },
   "source": [
    "## 反向算术运算"
   ]
  },
  {
   "cell_type": "markdown",
   "metadata": {
    "slideshow": {
     "slide_type": "-"
    }
   },
   "source": [
    "|运算符 | 魔术方法    |  说明      |\n",
    "| :----:|:-------------| ------------: |\n",
    "| `+`  | `__radd__`    | 加法右向操作 |\n",
    "| `-`  | `__rsub__`    | 减法右向操作 |\n",
    "| `*`  | `__rmul__`    | 乘法右向操作 |\n",
    "| `/`  | `__rtruediv__` | 除法右向操作 |\n",
    "| `//` | `__rfloordir__`| 除法右向操作 |\n",
    "| `%`  | `__rmod__`    | 求余右向操作 |\n",
    "| `**` | `__rpow__`    | 求幂右向操作 |\n",
    "\n",
    "下面在天文位置类中增加反向乘法魔术方法："
   ]
  },
  {
   "cell_type": "markdown",
   "metadata": {
    "slideshow": {
     "slide_type": "slide"
    }
   },
   "source": [
    "##  增强赋值运算\n",
    "\n",
    "下表列出了增强型赋值运算符与对应的魔术方法：\n",
    "\n",
    "|运算符 | 魔术方法    |  说明   |\n",
    "| :----:|:--------------| -------: |\n",
    "| `+=`  | `__iadd__`   |  加法   |\n",
    "| `-=`  | `__isub__`   |  减法   |\n",
    "| `*=`  | `__imul__`   |  乘法   |\n",
    "| `/=`  | `__itruediv__` |  真除   |\n",
    "| `//=` | `__ifloordiv__`|  地板除  |\n",
    "| `%=`  | `__imod__`    |  求余   |\n",
    "| `**=` | `__ipow__`    |  求幂   |"
   ]
  },
  {
   "cell_type": "markdown",
   "metadata": {
    "slideshow": {
     "slide_type": "slide"
    }
   },
   "source": [
    "## 比较运算\n",
    "\n",
    "Python 中的比较运算符与对应的魔术方法如下表所示： \n",
    "\n",
    "|运算符 | 魔术方法    |  说明   |\n",
    "| :----:|:-------------| -------: |\n",
    "| `<`  | `__lt__`    | 小于    |\n",
    "| `<=`  | `__le__`   | 小于等于 |\n",
    "| `>`  | `__gt__`    | 大于    |\n",
    "| `>=` | `__ge__`    | 大于等于 |\n",
    "| `==`  | `__eq__`   | 等于    |\n",
    "| `!=` | `__ne__`    | 不等于  |\n",
    "\n",
    "对于天文位置对象来说，不需要进行大于或小于之类的比较运算。下面在类中添加`__eq__()`魔术方法："
   ]
  },
  {
   "cell_type": "markdown",
   "metadata": {
    "slideshow": {
     "slide_type": "slide"
    }
   },
   "source": [
    "## 类型转换\n",
    "\n",
    "在类中定义下面的魔术方法，将把实例转换为对应类型的对象：\n",
    "- `__int__()`，转换为整数对象\n",
    "- `__float__()`，转换为浮点数对象\n",
    "- `__bool__()`，转换为布尔数\n",
    "- `__complex__()`，转换为复数\n",
    "- `__bin__()`，转换为二进制字符串\n",
    "- `__oct__()`，转换为八进制字符串\n",
    "- `__hex__()`，转换为十六进制字符串"
   ]
  },
  {
   "cell_type": "markdown",
   "metadata": {
    "slideshow": {
     "slide_type": "slide"
    }
   },
   "source": [
    "## 哈希\n",
    "\n",
    "截止目前，天文位置类定义`__eq__()`方法，但尚未定义 `__hash__` 方法： "
   ]
  },
  {
   "cell_type": "markdown",
   "metadata": {
    "slideshow": {
     "slide_type": "slide"
    }
   },
   "source": [
    "## 迭代\n",
    "\n",
    "如果一个对象是可迭代对象，就可以使用 `for` 语句进行遍历循环。在 Python 进行对象的迭代运算时，其过程为：\n",
    "1. 首先会查看该对象是否实现了`__iter__()`方法。如果实现则调用该方法，获取一个迭代器。\n",
    "2. 如果没有实现`__iter__()`方法，但是实现`__getitem()`方法， Python 解释器会创建一个迭代器，从索引 0 开始获取元素。\n",
    "3. 如果都失败，则抛出类型错误（TypeError），提示对象不是可迭代对象。"
   ]
  },
  {
   "cell_type": "code",
   "execution_count": 40,
   "metadata": {
    "slideshow": {
     "slide_type": "slide"
    }
   },
   "outputs": [],
   "source": [
    "class AstroPosition(object):\n",
    "    \"\"\"\\\n",
    "    AstroPosition()  -> position\n",
    "    AstroPosition(x, y, z)  -> position\n",
    "\n",
    "    创建天文位置\n",
    "    \"\"\"\n",
    "    def __init__(self, x=0, y=0, z=0):\n",
    "        self.__x = float(x)\n",
    "        self.__y = float(y)\n",
    "        self.__z = float(z)\n",
    "\n",
    "    @property\n",
    "    def x(self):\n",
    "        return self.__x\n",
    "\n",
    "    @property\n",
    "    def y(self):\n",
    "        return self.__y\n",
    "\n",
    "    @property\n",
    "    def z(self):\n",
    "        return self.__z\n",
    "        \n",
    "    def __str__(self):\n",
    "        \"\"\"Return str(self).\"\"\"\n",
    "        return '(x={0.x}, y={0.y}, z={0.z})'.format(self)\n",
    "\n",
    "    def __repr__(self):\n",
    "        \"\"\"Return repr(self).\"\"\"\n",
    "        class_name = type(self).__name__\n",
    "        return '{0}({1.x}, {1.y}, {1.z})'.format(class_name, self)    \n",
    "    \n",
    "    def distance(self, pos):\n",
    "        \"\"\"计算两点之间的位置\"\"\"\n",
    "        dx = self.x - pos.x\n",
    "        dy = self.y - pos.y\n",
    "        dz = self.z - pos.z\n",
    "        return math.sqrt(dx*dx + dy*dy + dz*dz)\n",
    "    \n",
    "    def __add__(self, pos):\n",
    "        \"\"\"Return self + pos.\"\"\"\n",
    "        return AstroPosition(self.x + pos.x, self.y + pos.y, self.z + pos.z)\n",
    "    \n",
    "    def __sub__(self, pos):\n",
    "        \"\"\"Return self - pos.\"\"\"\n",
    "        return AstroPosition(self.x - pos.x, self.y - pos.y, self.z - pos.z)\n",
    "    \n",
    "    def __mul__(self, scale):\n",
    "        \"\"\"Return self * scale.\"\"\"\n",
    "        return AstroPosition(self.x * scale, self.y * scale, self.z * scale)\n",
    "    \n",
    "    def __truediv__(self, scale):\n",
    "        \"\"\"Return self / scale.\"\"\"\n",
    "        return AstroPosition(self.x / scale, self.y / scale, self.z / scale)   \n",
    "    \n",
    "    def __neg__(self):\n",
    "        \"\"\"-self\"\"\"\n",
    "        return AstroPosition(-self.x, -self.y, -self.z)\n",
    "    \n",
    "    def __pos__(self):\n",
    "        \"\"\"+self\"\"\"\n",
    "        return self        \n",
    "    \n",
    "    def __abs__(self):\n",
    "        \"\"\"abs(self)\"\"\"\n",
    "        return math.sqrt(self.x*self.x + self.y*self.y + self.z*self.z)\n",
    "    \n",
    "    def __rmul__(self, scale):\n",
    "        \"\"\"Return scale * self.\"\"\"\n",
    "        return self.__mul__(scale)   \n",
    "    \n",
    "    def __eq__(self, pos):\n",
    "        \"\"\"Return self==value.\"\"\"\n",
    "        return self.x == pos.x and self.y == pos.y and self.z == pos.z\n",
    "    \n",
    "    def __bool__(self):\n",
    "        \"\"\"self != (0, 0, 0).\"\"\"\n",
    "        return bool(abs(self))\n",
    "    \n",
    "    def __hash__(self):\n",
    "        \"\"\"Return hash(self).\"\"\"\n",
    "        return hash(self.x) ^ hash(self.y) ^ hash(self.z)\n",
    "    \n",
    "    def __iter__(self):\n",
    "        \"\"\"Impleter iter(self).\"\"\"\n",
    "        return (i for i in (self.x, self.y, self.z))"
   ]
  },
  {
   "cell_type": "markdown",
   "metadata": {
    "slideshow": {
     "slide_type": "slide"
    }
   },
   "source": [
    "下面创建天文位置对象，并演示`for`循环和拆包操作："
   ]
  },
  {
   "cell_type": "code",
   "execution_count": 36,
   "metadata": {
    "slideshow": {
     "slide_type": "-"
    }
   },
   "outputs": [],
   "source": [
    "p0 = AstroPosition()\n",
    "p1 = AstroPosition(3.0, 4.0, 5.0)\n",
    "p2 = AstroPosition(3.0, 4.0, -5.0)"
   ]
  },
  {
   "cell_type": "code",
   "execution_count": 37,
   "metadata": {
    "slideshow": {
     "slide_type": "slide"
    }
   },
   "outputs": [
    {
     "name": "stdout",
     "output_type": "stream",
     "text": [
      "3.0\n",
      "4.0\n",
      "5.0\n"
     ]
    }
   ],
   "source": [
    "# 循环遍历\n",
    "for value in p1:\n",
    "    print(value)"
   ]
  },
  {
   "cell_type": "code",
   "execution_count": 38,
   "metadata": {
    "scrolled": true,
    "slideshow": {
     "slide_type": "-"
    }
   },
   "outputs": [
    {
     "name": "stdout",
     "output_type": "stream",
     "text": [
      "0.0 0.0 0.0\n"
     ]
    }
   ],
   "source": [
    "# 拆包操作\n",
    "x, y, z = p0\n",
    "print(x, y, z)"
   ]
  }
 ],
 "metadata": {
  "celltoolbar": "幻灯片",
  "kernelspec": {
   "display_name": "Python 3",
   "language": "python",
   "name": "python3"
  },
  "language_info": {
   "codemirror_mode": {
    "name": "ipython",
    "version": 3
   },
   "file_extension": ".py",
   "mimetype": "text/x-python",
   "name": "python",
   "nbconvert_exporter": "python",
   "pygments_lexer": "ipython3",
   "version": "3.7.3"
  },
  "toc": {
   "base_numbering": 1,
   "nav_menu": {},
   "number_sections": true,
   "sideBar": true,
   "skip_h1_title": false,
   "title_cell": "Table of Contents",
   "title_sidebar": "Contents",
   "toc_cell": false,
   "toc_position": {
    "height": "calc(100% - 180px)",
    "left": "10px",
    "top": "150px",
    "width": "202px"
   },
   "toc_section_display": true,
   "toc_window_display": false
  }
 },
 "nbformat": 4,
 "nbformat_minor": 2
}
