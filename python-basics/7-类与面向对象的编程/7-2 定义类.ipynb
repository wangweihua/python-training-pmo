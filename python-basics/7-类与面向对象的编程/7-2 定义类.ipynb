{
 "cells": [
  {
   "cell_type": "markdown",
   "metadata": {
    "slideshow": {
     "slide_type": "slide"
    }
   },
   "source": [
    "# 定义类\n",
    "\n",
    "本节介绍在 Python 中如何自定义类以及面向对象编程应用。"
   ]
  },
  {
   "cell_type": "markdown",
   "metadata": {
    "slideshow": {
     "slide_type": "slide"
    }
   },
   "source": [
    "## 类的定义\n",
    "\n",
    "```python\n",
    "class ClassName(base_classes):\n",
    "    suite\n",
    "```\n",
    "\n",
    "- 类名\n",
    "- 指定父类（可选）\n",
    "\n",
    "> 按照 PEP8 规范，类名首字母大写，如果是多个单词要使用驼峰命名。"
   ]
  },
  {
   "cell_type": "markdown",
   "metadata": {
    "slideshow": {
     "slide_type": "slide"
    }
   },
   "source": [
    "### 最简单的类\n",
    "\n",
    "下面来定义一个最简单的类，类的语句块使用 `pass` 语句，即没有定义特定的属性或方法："
   ]
  },
  {
   "cell_type": "code",
   "execution_count": 1,
   "metadata": {
    "slideshow": {
     "slide_type": "-"
    }
   },
   "outputs": [],
   "source": [
    "class SimpleClass():\n",
    "    pass"
   ]
  },
  {
   "cell_type": "markdown",
   "metadata": {
    "slideshow": {
     "slide_type": "slide"
    }
   },
   "source": [
    "当没有特别指定父类时，可以省略圆括号："
   ]
  },
  {
   "cell_type": "code",
   "execution_count": 19,
   "metadata": {
    "slideshow": {
     "slide_type": "-"
    }
   },
   "outputs": [],
   "source": [
    "class SimpleClass:\n",
    "    pass"
   ]
  },
  {
   "cell_type": "markdown",
   "metadata": {
    "slideshow": {
     "slide_type": "slide"
    }
   },
   "source": [
    "当定义了一个类之后，就可以创建类的对象，也就是类的实例化。创建类的对象时，就像调用函数一样，调用类并传入相应参数即可。下面来创建 `SimpleClass` 的两个对象："
   ]
  },
  {
   "cell_type": "code",
   "execution_count": 3,
   "metadata": {
    "slideshow": {
     "slide_type": "-"
    }
   },
   "outputs": [],
   "source": [
    "obj1 = SimpleClass()\n",
    "obj2 = SimpleClass()"
   ]
  },
  {
   "cell_type": "markdown",
   "metadata": {
    "slideshow": {
     "slide_type": "slide"
    }
   },
   "source": [
    "这些对象是 `SimpleClass` 类的实例，可以使用自省函数来查看："
   ]
  },
  {
   "cell_type": "code",
   "execution_count": 7,
   "metadata": {
    "slideshow": {
     "slide_type": "-"
    }
   },
   "outputs": [
    {
     "name": "stdout",
     "output_type": "stream",
     "text": [
      "<class '__main__.SimpleClass'> <class '__main__.SimpleClass'>\n"
     ]
    }
   ],
   "source": [
    "print(type(obj1), type(obj2))"
   ]
  },
  {
   "cell_type": "markdown",
   "metadata": {
    "slideshow": {
     "slide_type": "slide"
    }
   },
   "source": [
    "在 Python 中万物皆对象，`SimpleClass` 类也是对象："
   ]
  },
  {
   "cell_type": "code",
   "execution_count": 21,
   "metadata": {
    "slideshow": {
     "slide_type": "-"
    }
   },
   "outputs": [
    {
     "name": "stdout",
     "output_type": "stream",
     "text": [
      "<class 'type'>\n"
     ]
    }
   ],
   "source": [
    "print(type(SimpleClass))"
   ]
  },
  {
   "cell_type": "markdown",
   "metadata": {
    "slideshow": {
     "slide_type": "slide"
    }
   },
   "source": [
    "也就是说，`SimpleClass`是 `type`类的实例化，`obj1`与`obj2`是`SimpleClass`类的实例化。当 Python 运行类定义语句，并运行类的实例操作，创建的变量和对对象如下下图所示：\n",
    "![类的定义与实例化对象](../images/class_objects.png)`"
   ]
  },
  {
   "cell_type": "markdown",
   "metadata": {
    "slideshow": {
     "slide_type": "slide"
    }
   },
   "source": [
    "缺省情况下，使用 `class` 语句定义的类都是继承自父类`object`类："
   ]
  },
  {
   "cell_type": "code",
   "execution_count": 31,
   "metadata": {
    "slideshow": {
     "slide_type": "-"
    }
   },
   "outputs": [
    {
     "data": {
      "text/plain": [
       "object"
      ]
     },
     "execution_count": 31,
     "metadata": {},
     "output_type": "execute_result"
    }
   ],
   "source": [
    "SimpleClass.__base__"
   ]
  },
  {
   "cell_type": "code",
   "execution_count": 32,
   "metadata": {
    "slideshow": {
     "slide_type": "-"
    }
   },
   "outputs": [
    {
     "data": {
      "text/plain": [
       "True"
      ]
     },
     "execution_count": 32,
     "metadata": {},
     "output_type": "execute_result"
    }
   ],
   "source": [
    "issubclass(SimpleClass, object)"
   ]
  },
  {
   "cell_type": "markdown",
   "metadata": {
    "slideshow": {
     "slide_type": "slide"
    }
   },
   "source": [
    "也就是说，当不指定父类时，上述定义类语句与如下语句是一样的：\n",
    "```python\n",
    "class SimpleClass(object):\n",
    "    pass\n",
    "```"
   ]
  },
  {
   "cell_type": "markdown",
   "metadata": {
    "slideshow": {
     "slide_type": "slide"
    }
   },
   "source": [
    "### 一个自定义类例子\n",
    "\n",
    "- 分析和设计\n",
    "- 实现"
   ]
  },
  {
   "cell_type": "markdown",
   "metadata": {
    "slideshow": {
     "slide_type": "slide"
    }
   },
   "source": [
    "#### 分析和设计\n",
    "\n",
    "`Human`对象的属性只包括：名字、性别、年龄、身高。\n",
    "\n",
    "这里假定有如下行为：\n",
    "- 自我介绍，说出自己的名字；\n",
    "- 打招呼，向别人打招呼。\n",
    "- 打架，与别人打架，看看是否能赢。"
   ]
  },
  {
   "cell_type": "markdown",
   "metadata": {
    "slideshow": {
     "slide_type": "slide"
    }
   },
   "source": [
    "#### 类的实现\n",
    "\n",
    "重新实现如下魔术方法：\n",
    "- `__init__`，当创建一个实例时，调用的构造方法\n",
    "- `__str__`，可以用`str()`得到对象的字符串，面向用户\n",
    "- `__repr__`，可以用`repr()`得到对象的字符串，面向程序员"
   ]
  },
  {
   "cell_type": "markdown",
   "metadata": {
    "slideshow": {
     "slide_type": "slide"
    }
   },
   "source": [
    "此外，还需要定义如下常规方法（人的行为）：\n",
    "- `introduce_myself()`\n",
    "- `say_hello()`\n",
    "- `fight()`"
   ]
  },
  {
   "cell_type": "code",
   "execution_count": 35,
   "metadata": {
    "slideshow": {
     "slide_type": "slide"
    }
   },
   "outputs": [],
   "source": [
    "class Human(object):\n",
    "    \"\"\"\\\n",
    "    Human(name, age, height)  -> person\n",
    "    Human(name, age, height, gender='Male)  -> person\n",
    "\n",
    "    Create a person by a name, age, height, gender\n",
    "    \"\"\"\n",
    "    def __init__(self, name, age, height, gender='Male'):\n",
    "        self.name = name\n",
    "        self.age = age\n",
    "        self.height = height\n",
    "        self.gender = gender\n",
    "    \n",
    "    def introduce_myself(self):\n",
    "        \"\"\"introduce myself\"\"\"\n",
    "        print('我是{0}，今年{1}岁了'.format(self.name, self.age))\n",
    "    \n",
    "    def say_hello(self, other):\n",
    "        \"\"\"say hello to the other person\"\"\"\n",
    "        print('{0}，很高兴见到您'.format(other.name))\n",
    "    \n",
    "    def fight(self, other):\n",
    "        \"\"\"fight if win\"\"\"\n",
    "        if self.height >= other.height:\n",
    "            print('{0}，我赢了'.format(other.name))\n",
    "        else:\n",
    "            print('{0}，我输了'.format(other.name))\n",
    "            \n",
    "    def __repr__(self):\n",
    "        return 'Human({0.name!r}, {0.age!r}, {0.height!r}, {0.gender!r})'.format(self)\n",
    "    \n",
    "    def __str__(self):\n",
    "        return '{0.name!r}'.format(self)"
   ]
  },
  {
   "cell_type": "markdown",
   "metadata": {
    "slideshow": {
     "slide_type": "slide"
    }
   },
   "source": [
    "```python\n",
    "    def introduce_myself(self):\n",
    "        \"\"\"introduce myself\"\"\"\n",
    "        print('我是{0}，今年{1}岁了'.format(self.name, self.age))\n",
    "```\n",
    "\n",
    "与函数定义类似，唯一差别在于第一个参数名为 `self`。"
   ]
  },
  {
   "cell_type": "code",
   "execution_count": 39,
   "metadata": {
    "slideshow": {
     "slide_type": "slide"
    }
   },
   "outputs": [
    {
     "name": "stdout",
     "output_type": "stream",
     "text": [
      "我是老王，今年42岁了\n",
      "我是小白，今年22岁了\n"
     ]
    }
   ],
   "source": [
    "oldwang = Human('老王', 42, 178)\n",
    "xiaobai = Human('小白', 22, 182)\n",
    "Human.introduce_myself(oldwang)\n",
    "Human.introduce_myself(xiaobai)"
   ]
  },
  {
   "cell_type": "code",
   "execution_count": 40,
   "metadata": {
    "slideshow": {
     "slide_type": "-"
    }
   },
   "outputs": [
    {
     "name": "stdout",
     "output_type": "stream",
     "text": [
      "我是老王，今年42岁了\n",
      "我是小白，今年22岁了\n"
     ]
    }
   ],
   "source": [
    "oldwang.introduce_myself()\n",
    "xiaobai.introduce_myself()"
   ]
  },
  {
   "cell_type": "code",
   "execution_count": 44,
   "metadata": {
    "slideshow": {
     "slide_type": "slide"
    }
   },
   "outputs": [
    {
     "name": "stdout",
     "output_type": "stream",
     "text": [
      "Help on Human in module __main__ object:\n",
      "\n",
      "class Human(builtins.object)\n",
      " |  Human(name, age, height)  -> person\n",
      " |  Human(name, age, height, gender='Male)  -> person\n",
      " |  \n",
      " |  Create a person by a name, age, height, gender\n",
      " |  \n",
      " |  Methods defined here:\n",
      " |  \n",
      " |  __init__(self, name, age, height, gender='Male')\n",
      " |      Initialize self.  See help(type(self)) for accurate signature.\n",
      " |  \n",
      " |  __repr__(self)\n",
      " |      Return repr(self).\n",
      " |  \n",
      " |  __str__(self)\n",
      " |      Return str(self).\n",
      " |  \n",
      " |  fight(self, other)\n",
      " |      fight if win\n",
      " |  \n",
      " |  introduce_myself(self)\n",
      " |      introduce myself\n",
      " |  \n",
      " |  say_hello(self, other)\n",
      " |      say hello to the other person\n",
      " |  \n",
      " |  ----------------------------------------------------------------------\n",
      " |  Data descriptors defined here:\n",
      " |  \n",
      " |  __dict__\n",
      " |      dictionary for instance variables (if defined)\n",
      " |  \n",
      " |  __weakref__\n",
      " |      list of weak references to the object (if defined)\n",
      "\n"
     ]
    }
   ],
   "source": [
    "help(oldwang)"
   ]
  },
  {
   "cell_type": "code",
   "execution_count": 47,
   "metadata": {
    "slideshow": {
     "slide_type": "slide"
    }
   },
   "outputs": [
    {
     "data": {
      "text/plain": [
       "(\"'老王'\", \"Human('老王', 42, 178, 'Male')\")"
      ]
     },
     "execution_count": 47,
     "metadata": {},
     "output_type": "execute_result"
    }
   ],
   "source": [
    "str(oldwang), repr(oldwang)"
   ]
  },
  {
   "cell_type": "markdown",
   "metadata": {
    "slideshow": {
     "slide_type": "slide"
    }
   },
   "source": [
    "#### 属性与方法\n",
    "\n",
    "使用`dir()`方法来查看 `Human` 对象的成员："
   ]
  },
  {
   "cell_type": "code",
   "execution_count": 46,
   "metadata": {
    "slideshow": {
     "slide_type": "-"
    }
   },
   "outputs": [
    {
     "name": "stdout",
     "output_type": "stream",
     "text": [
      "['__class__', '__delattr__', '__dict__', '__dir__', '__doc__', '__eq__', '__format__', '__ge__', '__getattribute__', '__gt__', '__hash__', '__init__', '__init_subclass__', '__le__', '__lt__', '__module__', '__ne__', '__new__', '__reduce__', '__reduce_ex__', '__repr__', '__setattr__', '__sizeof__', '__str__', '__subclasshook__', '__weakref__', 'age', 'fight', 'gender', 'height', 'introduce_myself', 'name', 'say_hello']\n"
     ]
    }
   ],
   "source": [
    "print(dir(oldwang))"
   ]
  },
  {
   "cell_type": "markdown",
   "metadata": {
    "slideshow": {
     "slide_type": "slide"
    }
   },
   "source": [
    "##### 魔术方法\n",
    "\n",
    "在 Python 类中，包括魔术方法与魔术属性：\n",
    "- `__init__()`，当创建一个实例时，调用的构造方法\n",
    "- `__doc__`，文档字符串，存放类的说明\n",
    "- `__dict__`，存放实例的特性\n",
    "- `__str__()`，可以用`str()`得到对象的字符串，面向用户\n",
    "- `__repr__()`，可以用`repr()`得到对象的字符串，面向程序员"
   ]
  },
  {
   "cell_type": "code",
   "execution_count": 57,
   "metadata": {
    "slideshow": {
     "slide_type": "slide"
    }
   },
   "outputs": [
    {
     "name": "stdout",
     "output_type": "stream",
     "text": [
      "    Human(name, age, height)  -> person\n",
      "    Human(name, age, height, gender='Male)  -> person\n",
      "\n",
      "    Create a person by a name, age, height, gender\n",
      "    \n"
     ]
    }
   ],
   "source": [
    "print(oldwang.__doc__)"
   ]
  },
  {
   "cell_type": "markdown",
   "metadata": {
    "slideshow": {
     "slide_type": "slide"
    }
   },
   "source": [
    "##### 常规方法和属性\n",
    "\n",
    "可以访问对象的属性和调用方法："
   ]
  },
  {
   "cell_type": "code",
   "execution_count": 53,
   "metadata": {
    "slideshow": {
     "slide_type": "-"
    }
   },
   "outputs": [
    {
     "name": "stdout",
     "output_type": "stream",
     "text": [
      "老王 178 小白 182\n"
     ]
    }
   ],
   "source": [
    "print(oldwang.name, oldwang.height, xiaobai.name, xiaobai.height)"
   ]
  },
  {
   "cell_type": "code",
   "execution_count": 89,
   "metadata": {
    "slideshow": {
     "slide_type": "slide"
    }
   },
   "outputs": [
    {
     "name": "stdout",
     "output_type": "stream",
     "text": [
      "我是老王，今年42岁了\n",
      "我是小白，今年23岁了\n",
      "小白，很高兴见到您\n",
      "老王，很高兴见到您\n",
      "小白，我输了\n",
      "老王，我赢了\n"
     ]
    }
   ],
   "source": [
    "oldwang.introduce_myself()\n",
    "xiaobai.introduce_myself()\n",
    "oldwang.say_hello(xiaobai)\n",
    "xiaobai.say_hello(oldwang)\n",
    "oldwang.fight(xiaobai)\n",
    "xiaobai.fight(oldwang)"
   ]
  },
  {
   "cell_type": "markdown",
   "metadata": {
    "slideshow": {
     "slide_type": "slide"
    }
   },
   "source": [
    "## 类的封装\n",
    "\n",
    "类的封装就是需要保护对象的内部属性，不让外部直接访问它们。\n",
    "\n",
    "在 Python 编程中，以`__`开头的属性名称为私有属性（private），以`__`开头的方法会变成一个私有方法（private），只能在内部访问，外部无法访问。"
   ]
  },
  {
   "cell_type": "code",
   "execution_count": 1,
   "metadata": {
    "slideshow": {
     "slide_type": "slide"
    }
   },
   "outputs": [],
   "source": [
    "class Human2():\n",
    "    \"\"\"\\\n",
    "    Human2(name, age, height)  -> person\n",
    "    Human2(name, age, height, gender='Male)  -> person\n",
    "\n",
    "    Create a person by a name, age, height, gender\n",
    "    \"\"\"\n",
    "    def __init__(self, name, age, height, gender='Male'):\n",
    "        self.__name = name\n",
    "        self.age = age\n",
    "        self.height = height\n",
    "        self.__gender = gender\n",
    "    \n",
    "    def introduce_myself(self):\n",
    "        \"\"\"introduce myself\"\"\"\n",
    "        print('我是{0}，今年{1}岁了'.format(self.__name, self.age))\n",
    "    \n",
    "    def say_hello(self, other):\n",
    "        \"\"\"say hello to the other person\"\"\"\n",
    "        print('{0}，很高兴见到您'.format(other.__name))\n",
    "    \n",
    "    def fight(self, other):\n",
    "        \"\"\"fight if win\"\"\"\n",
    "        if self.height >= other.height:\n",
    "            print('{0}，我赢了'.format(other.__name))\n",
    "        else:\n",
    "            print('{0}，我输了'.format(other.__name))\n",
    "            \n",
    "    def __repr__(self):\n",
    "        return 'Human2({0.__name!r}, {0.age!r}, {0.height!r}, {0.__gender!r})'.format(self)\n",
    "    \n",
    "    def __str__(self):\n",
    "        return '{0.__name!r}'.format(self)"
   ]
  },
  {
   "cell_type": "markdown",
   "metadata": {
    "slideshow": {
     "slide_type": "slide"
    }
   },
   "source": [
    "然后创建两个 `Human2` 对象，然后调用一些方法："
   ]
  },
  {
   "cell_type": "code",
   "execution_count": 3,
   "metadata": {
    "slideshow": {
     "slide_type": "-"
    }
   },
   "outputs": [
    {
     "name": "stdout",
     "output_type": "stream",
     "text": [
      "小白，很高兴见到您\n",
      "老王，很高兴见到您\n"
     ]
    }
   ],
   "source": [
    "oldwang = Human2('老王', 42, 178)\n",
    "xiaobai = Human2('小白', 22, 182)\n",
    "oldwang.say_hello(xiaobai)\n",
    "xiaobai.say_hello(oldwang)"
   ]
  },
  {
   "cell_type": "markdown",
   "metadata": {
    "slideshow": {
     "slide_type": "slide"
    }
   },
   "source": [
    "可以访问与修改 `Human2`对象的普通属性，但不能访问私有属性，否则会引发`AtrributeError`异常："
   ]
  },
  {
   "cell_type": "code",
   "execution_count": 73,
   "metadata": {
    "slideshow": {
     "slide_type": "-"
    }
   },
   "outputs": [
    {
     "name": "stdout",
     "output_type": "stream",
     "text": [
      "43\n"
     ]
    },
    {
     "ename": "AttributeError",
     "evalue": "'Human' object has no attribute '__name'",
     "output_type": "error",
     "traceback": [
      "\u001b[1;31m---------------------------------------------------------------------------\u001b[0m",
      "\u001b[1;31mAttributeError\u001b[0m                            Traceback (most recent call last)",
      "\u001b[1;32m<ipython-input-73-232a96dd07a7>\u001b[0m in \u001b[0;36m<module>\u001b[1;34m()\u001b[0m\n\u001b[0;32m      1\u001b[0m \u001b[0moldwang\u001b[0m\u001b[1;33m.\u001b[0m\u001b[0mage\u001b[0m \u001b[1;33m+=\u001b[0m \u001b[1;36m1\u001b[0m\u001b[1;33m\u001b[0m\u001b[0m\n\u001b[0;32m      2\u001b[0m \u001b[0mprint\u001b[0m\u001b[1;33m(\u001b[0m\u001b[0moldwang\u001b[0m\u001b[1;33m.\u001b[0m\u001b[0mage\u001b[0m\u001b[1;33m)\u001b[0m\u001b[1;33m\u001b[0m\u001b[0m\n\u001b[1;32m----> 3\u001b[1;33m \u001b[0moldwang\u001b[0m\u001b[1;33m.\u001b[0m\u001b[0m__name\u001b[0m\u001b[1;33m\u001b[0m\u001b[0m\n\u001b[0m",
      "\u001b[1;31mAttributeError\u001b[0m: 'Human' object has no attribute '__name'"
     ]
    }
   ],
   "source": [
    "oldwang.age += 1\n",
    "print(oldwang.age)\n",
    "oldwang.__name"
   ]
  },
  {
   "cell_type": "code",
   "execution_count": 74,
   "metadata": {
    "slideshow": {
     "slide_type": "slide"
    }
   },
   "outputs": [],
   "source": [
    "class Human2():\n",
    "    \"\"\"\\\n",
    "    Human2(name, age, height)  -> person\n",
    "    Human2(name, age, height, gender='Male)  -> person\n",
    "\n",
    "    Create a person by a name, age, height, gender\n",
    "    \"\"\"\n",
    "    def __init__(self, name, age, height, gender='Male'):\n",
    "        self.__name = name\n",
    "        self.age = age\n",
    "        self.height = height\n",
    "        self.__gender = gender\n",
    "    \n",
    "    def get_name(self):\n",
    "        return self.__name\n",
    "    \n",
    "    def get_gender(self):\n",
    "        return self.__gender\n",
    "    \n",
    "    def introduce_myself(self):\n",
    "        \"\"\"introduce myself\"\"\"\n",
    "        print('我是{0}，今年{1}岁了'.format(self.__name, self.age))\n",
    "    \n",
    "    def say_hello(self, other):\n",
    "        \"\"\"say hello to the other person\"\"\"\n",
    "        print('{0}，很高兴见到您'.format(other.__name))\n",
    "    \n",
    "    def fight(self, other):\n",
    "        \"\"\"fight if win\"\"\"\n",
    "        if self.height >= other.height:\n",
    "            print('{0}，我赢了'.format(other.__name))\n",
    "        else:\n",
    "            print('{0}，我输了'.format(other.__name))\n",
    "            \n",
    "    def __repr__(self):\n",
    "        return 'Human2({0.__name!r}, {0.age!r}, {0.height!r}, {0.__gender!r})'.format(self)\n",
    "    \n",
    "    def __str__(self):\n",
    "        return '{0.__name!r}'.format(self)"
   ]
  },
  {
   "cell_type": "code",
   "execution_count": 75,
   "metadata": {
    "slideshow": {
     "slide_type": "slide"
    }
   },
   "outputs": [
    {
     "data": {
      "text/plain": [
       "'老王'"
      ]
     },
     "execution_count": 75,
     "metadata": {},
     "output_type": "execute_result"
    }
   ],
   "source": [
    "oldwang = Human2('老王', 42, 178)\n",
    "oldwang.get_name()"
   ]
  },
  {
   "cell_type": "code",
   "execution_count": 25,
   "metadata": {
    "slideshow": {
     "slide_type": "slide"
    }
   },
   "outputs": [],
   "source": [
    "class Human2():\n",
    "    \"\"\"\\\n",
    "    Human2(name, age, height)  -> person\n",
    "    Human2(name, age, height, gender='Male)  -> person\n",
    "\n",
    "    Create a person by a name, age, height, gender\n",
    "    \"\"\"\n",
    "    def __init__(self, name, age, height, gender='Male'):\n",
    "        self.__name = name\n",
    "        self.__age = age\n",
    "        self.__height = height\n",
    "        self.__gender = gender\n",
    "    \n",
    "    @property\n",
    "    def name(self):\n",
    "        return self.__name\n",
    "    \n",
    "    @property\n",
    "    def gender(self):\n",
    "        return self.__gender\n",
    "    \n",
    "    @property\n",
    "    def age(self):\n",
    "        return self.__age\n",
    "    \n",
    "    @age.setter\n",
    "    def age(self, age):\n",
    "        if isinstance(age, int):\n",
    "            self.__age = age\n",
    "    \n",
    "    @age.deleter\n",
    "    def age(self):\n",
    "        del self.__age\n",
    "    \n",
    "    @property\n",
    "    def height(self):\n",
    "        return self.__height\n",
    "    \n",
    "    def introduce_myself(self):\n",
    "        \"\"\"introduce myself\"\"\"\n",
    "        print('我是{0}，今年{1}岁了'.format(self.name, self.age))\n",
    "    \n",
    "    def say_hello(self, other):\n",
    "        \"\"\"say hello to the other person\"\"\"\n",
    "        print('{0}，很高兴见到您'.format(other.name))\n",
    "    \n",
    "    def fight(self, other):\n",
    "        \"\"\"fight if win\"\"\"\n",
    "        if self.height >= other.height:\n",
    "            print('{0}，我赢了'.format(other.name))\n",
    "        else:\n",
    "            print('{0}，我输了'.format(other.name))\n",
    "            \n",
    "    def __repr__(self):\n",
    "        return 'Human2({0.name!r}, {0.age!r}, {0.height!r}, {0.gender!r})'.format(self)\n",
    "    \n",
    "    def __str__(self):\n",
    "        return '{0.name!r}'.format(self)"
   ]
  },
  {
   "cell_type": "markdown",
   "metadata": {
    "slideshow": {
     "slide_type": "slide"
    }
   },
   "source": [
    "在上述代码中，使用装饰器函数`property()`创建可读特性`name`，`age`等。每个创建的特性都包含`getter`, `setter`与`deleter`等属性。\n",
    "\n",
    "如果定义只读属性，可以使用如下语法：\n",
    "```python\n",
    "    @property\n",
    "    def name(self):\n",
    "        return self.__name\n",
    "```\n",
    "\n",
    "如果还需要定义可写属性，再定义属性的`setter`方法即可：\n",
    "```python\n",
    "    \n",
    "    @property\n",
    "    def age(self):\n",
    "        return self.__age\n",
    "    \n",
    "    @age.setter\n",
    "    def age(self, age):\n",
    "        if isinstance(age, int):\n",
    "            self.__age = age\n",
    "```"
   ]
  },
  {
   "cell_type": "code",
   "execution_count": 26,
   "metadata": {
    "slideshow": {
     "slide_type": "slide"
    }
   },
   "outputs": [
    {
     "name": "stdout",
     "output_type": "stream",
     "text": [
      "小白，很高兴见到您\n",
      "老王，很高兴见到您\n"
     ]
    }
   ],
   "source": [
    "oldwang = Human2('老王', 42, 178)\n",
    "xiaobai = Human2('小白', 22, 182)\n",
    "oldwang.say_hello(xiaobai)\n",
    "xiaobai.say_hello(oldwang)"
   ]
  },
  {
   "cell_type": "code",
   "execution_count": 12,
   "metadata": {
    "slideshow": {
     "slide_type": "slide"
    }
   },
   "outputs": [
    {
     "name": "stdout",
     "output_type": "stream",
     "text": [
      "老王 28\n",
      "老王 29\n"
     ]
    }
   ],
   "source": [
    "# 查看\n",
    "print(oldwang.name, xiaobai.age)\n",
    "# 更改\n",
    "xiaobai.age += 1\n",
    "print(oldwang.name, xiaobai.age)"
   ]
  },
  {
   "cell_type": "markdown",
   "metadata": {
    "slideshow": {
     "slide_type": "slide"
    }
   },
   "source": [
    "Python 包括一些内置函数来读写对象的属性\n",
    "- `getattr()` \n",
    "- `setattr()`\n",
    "- `delattr()`"
   ]
  },
  {
   "cell_type": "code",
   "execution_count": 17,
   "metadata": {
    "slideshow": {
     "slide_type": "-"
    }
   },
   "outputs": [
    {
     "data": {
      "text/plain": [
       "'老王'"
      ]
     },
     "execution_count": 17,
     "metadata": {},
     "output_type": "execute_result"
    }
   ],
   "source": [
    "getattr(oldwang, 'name')"
   ]
  },
  {
   "cell_type": "code",
   "execution_count": 20,
   "metadata": {
    "slideshow": {
     "slide_type": "slide"
    }
   },
   "outputs": [
    {
     "data": {
      "text/plain": [
       "\"Human2('老王', 10, 178, 'Male')\""
      ]
     },
     "execution_count": 20,
     "metadata": {},
     "output_type": "execute_result"
    }
   ],
   "source": [
    "setattr(oldwang, 'age', 10)\n",
    "repr(oldwang)"
   ]
  },
  {
   "cell_type": "code",
   "execution_count": 29,
   "metadata": {
    "scrolled": true,
    "slideshow": {
     "slide_type": "-"
    }
   },
   "outputs": [
    {
     "ename": "AttributeError",
     "evalue": "_Human2__age",
     "output_type": "error",
     "traceback": [
      "\u001b[1;31m---------------------------------------------------------------------------\u001b[0m",
      "\u001b[1;31mAttributeError\u001b[0m                            Traceback (most recent call last)",
      "\u001b[1;32m<ipython-input-29-82ef19cc2f98>\u001b[0m in \u001b[0;36m<module>\u001b[1;34m()\u001b[0m\n\u001b[1;32m----> 1\u001b[1;33m \u001b[0mdelattr\u001b[0m\u001b[1;33m(\u001b[0m\u001b[0moldwang\u001b[0m\u001b[1;33m,\u001b[0m \u001b[1;34m'age'\u001b[0m\u001b[1;33m)\u001b[0m\u001b[1;33m\u001b[0m\u001b[0m\n\u001b[0m",
      "\u001b[1;32m<ipython-input-25-149a5c36a966>\u001b[0m in \u001b[0;36mage\u001b[1;34m(self)\u001b[0m\n\u001b[0;32m     30\u001b[0m     \u001b[1;33m@\u001b[0m\u001b[0mage\u001b[0m\u001b[1;33m.\u001b[0m\u001b[0mdeleter\u001b[0m\u001b[1;33m\u001b[0m\u001b[0m\n\u001b[0;32m     31\u001b[0m     \u001b[1;32mdef\u001b[0m \u001b[0mage\u001b[0m\u001b[1;33m(\u001b[0m\u001b[0mself\u001b[0m\u001b[1;33m)\u001b[0m\u001b[1;33m:\u001b[0m\u001b[1;33m\u001b[0m\u001b[0m\n\u001b[1;32m---> 32\u001b[1;33m         \u001b[1;32mdel\u001b[0m \u001b[0mself\u001b[0m\u001b[1;33m.\u001b[0m\u001b[0m__age\u001b[0m\u001b[1;33m\u001b[0m\u001b[0m\n\u001b[0m\u001b[0;32m     33\u001b[0m \u001b[1;33m\u001b[0m\u001b[0m\n\u001b[0;32m     34\u001b[0m     \u001b[1;33m@\u001b[0m\u001b[0mproperty\u001b[0m\u001b[1;33m\u001b[0m\u001b[0m\n",
      "\u001b[1;31mAttributeError\u001b[0m: _Human2__age"
     ]
    }
   ],
   "source": [
    "delattr(oldwang, 'age')"
   ]
  }
 ],
 "metadata": {
  "celltoolbar": "幻灯片",
  "kernelspec": {
   "display_name": "Python 3",
   "language": "python",
   "name": "python3"
  },
  "language_info": {
   "codemirror_mode": {
    "name": "ipython",
    "version": 3
   },
   "file_extension": ".py",
   "mimetype": "text/x-python",
   "name": "python",
   "nbconvert_exporter": "python",
   "pygments_lexer": "ipython3",
   "version": "3.7.3"
  },
  "toc": {
   "base_numbering": 1,
   "nav_menu": {},
   "number_sections": true,
   "sideBar": true,
   "skip_h1_title": false,
   "title_cell": "Table of Contents",
   "title_sidebar": "Contents",
   "toc_cell": false,
   "toc_position": {
    "height": "calc(100% - 180px)",
    "left": "10px",
    "top": "150px",
    "width": "183px"
   },
   "toc_section_display": true,
   "toc_window_display": true
  }
 },
 "nbformat": 4,
 "nbformat_minor": 1
}
