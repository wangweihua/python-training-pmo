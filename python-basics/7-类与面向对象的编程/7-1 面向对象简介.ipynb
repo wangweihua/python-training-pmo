{
 "cells": [
  {
   "cell_type": "markdown",
   "metadata": {
    "slideshow": {
     "slide_type": "slide"
    }
   },
   "source": [
    "# 面向对象编程简介\n",
    "\n",
    "编程方法经历了从早期指令序列到面向过程，再到面向对象的发展：\n",
    "\n",
    "<img src=\"../images/class01.png\" width=\"60%\" >"
   ]
  },
  {
   "cell_type": "markdown",
   "metadata": {
    "slideshow": {
     "slide_type": "slide"
    }
   },
   "source": [
    "## 面向过程与面向对象\n",
    "\n",
    "结构化编程是将一个大的问题划分为几个小的问题：\n",
    "```\n",
    "程序 = 数据结构 + 算法\n",
    "```"
   ]
  },
  {
   "cell_type": "markdown",
   "metadata": {
    "slideshow": {
     "slide_type": "-"
    }
   },
   "source": [
    "面向对象编程中，算法与数据结构当做一个整体，也就是一个对象：\n",
    "```\n",
    "对象 = 算法 + 数据结构\n",
    "程序 = 对象 + 对象 + ...\n",
    "```"
   ]
  },
  {
   "cell_type": "markdown",
   "metadata": {
    "slideshow": {
     "slide_type": "slide"
    }
   },
   "source": [
    "对象的抽象是类，类的实例是对象。\n",
    "\n",
    "**对象**\n",
    "- 对象具有状态（即属性）\n",
    "- 对象还有操作（即方法）\n",
    "- 对象实现了数据和操作的结合\n",
    "\n",
    "**类**\n",
    "- 使用类可以轻易地实例化千万个对象；\n",
    "- 同一类型的对象具有相同特性（数据元素）和行为（功能）；"
   ]
  },
  {
   "cell_type": "markdown",
   "metadata": {
    "slideshow": {
     "slide_type": "slide"
    }
   },
   "source": [
    "## 自定义类\n",
    "\n",
    "Python 内置类型：\n",
    "- 数据型\n",
    "    - 整数(int)、布尔数(bool)、浮点数(float)、复数(complex)、字符串(str)、空（NoneType）\n",
    "- 结构型\n",
    "    - 列表(list)、元组(tuple)、字典(dict)、集合(set)。"
   ]
  },
  {
   "cell_type": "markdown",
   "metadata": {
    "slideshow": {
     "slide_type": "slide"
    }
   },
   "source": [
    "要吃红烧肉有两个方法：照着菜谱做或者找个厨师来做。\n",
    "\n",
    "同样在 Python 编程中，可以使用面向过程和面向对象编程方法，换句话说可以编写函数或类。"
   ]
  }
 ],
 "metadata": {
  "celltoolbar": "幻灯片",
  "kernelspec": {
   "display_name": "Python 3",
   "language": "python",
   "name": "python3"
  },
  "language_info": {
   "codemirror_mode": {
    "name": "ipython",
    "version": 3
   },
   "file_extension": ".py",
   "mimetype": "text/x-python",
   "name": "python",
   "nbconvert_exporter": "python",
   "pygments_lexer": "ipython3",
   "version": "3.7.3"
  },
  "toc": {
   "base_numbering": 1,
   "nav_menu": {},
   "number_sections": true,
   "sideBar": true,
   "skip_h1_title": false,
   "title_cell": "Table of Contents",
   "title_sidebar": "Contents",
   "toc_cell": false,
   "toc_position": {
    "height": "calc(100% - 180px)",
    "left": "10px",
    "top": "150px",
    "width": "183px"
   },
   "toc_section_display": true,
   "toc_window_display": false
  }
 },
 "nbformat": 4,
 "nbformat_minor": 1
}
