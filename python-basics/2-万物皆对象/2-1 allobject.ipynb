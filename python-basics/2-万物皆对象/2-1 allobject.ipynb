{
 "cells": [
  {
   "cell_type": "markdown",
   "metadata": {
    "slideshow": {
     "slide_type": "slide"
    }
   },
   "source": [
    "# 万物皆对象\n",
    "\n",
    "> 千头万绪，终归一理。  \n",
    "> 万理虽只是一理，学者且要去那万理中，千头万绪都理会，四面凑合来，自见得是一理。不去理会那万理，只管去理会那一理，只是空想像。  \n",
    "> 宋·朱熹"
   ]
  },
  {
   "cell_type": "markdown",
   "metadata": {
    "slideshow": {
     "slide_type": "slide"
    }
   },
   "source": [
    "## 函数和面向对象\n",
    "\n",
    "![东坡肉](../images/dongporou.jpg)"
   ]
  },
  {
   "cell_type": "markdown",
   "metadata": {
    "slideshow": {
     "slide_type": "-"
    }
   },
   "source": [
    "> 黄州好猪肉，价贱如粪土。富者不肯吃，贫者不解煮。  \n",
    "> 慢著火，少著水，火候足时他自美。  \n",
    "> 每日起来打一碗，饱得自家君莫管。  \n",
    ">     苏轼-《食猪肉诗》"
   ]
  },
  {
   "cell_type": "markdown",
   "metadata": {
    "slideshow": {
     "slide_type": "slide"
    }
   },
   "source": [
    "吃红烧肉的两个方法：\n",
    "- 可以照着菜谱做\n",
    "- 请个厨师，由厨师来做。\n",
    "\n",
    "Python编程解决问题的两个方法：\n",
    "- 函数 --- 菜谱\n",
    "- 面向对象 --- 厨师"
   ]
  },
  {
   "cell_type": "markdown",
   "metadata": {
    "slideshow": {
     "slide_type": "slide"
    }
   },
   "source": [
    "### 函数\n",
    "\n",
    "![函数](../images/Function_machine2.png)"
   ]
  },
  {
   "cell_type": "markdown",
   "metadata": {
    "slideshow": {
     "slide_type": "-"
    }
   },
   "source": [
    "- `print()`与`input()`函数，只需要知道在`print()`函数中传入一个文本，就能在终端输出打印。\n",
    "\n",
    "- 在函数内部或许与计算机发生了数千条的机器指令，但这都无关紧要。"
   ]
  },
  {
   "cell_type": "markdown",
   "metadata": {
    "slideshow": {
     "slide_type": "slide"
    }
   },
   "source": [
    "## 面向对象"
   ]
  },
  {
   "cell_type": "markdown",
   "metadata": {
    "slideshow": {
     "slide_type": "-"
    }
   },
   "source": [
    "### 从羊年说起\n",
    "\n",
    "2015年是中国传统的羊年，全球华人都开开心心地过春节。随着中国影响日益增大，一些老外也想沾沾“洋节”，没成想羊年让英语媒体抓了狂。\n",
    "\n",
    "在英语中，有绵羊（sheep）、山羊（goat）、羔羊（lamb），有角大公羊（ram）等词，但却没有“羊”这个统称名字。\n",
    "\n",
    ">‘有角反刍动物’年(Year of any ruminant horned animal')。"
   ]
  },
  {
   "cell_type": "markdown",
   "metadata": {
    "slideshow": {
     "slide_type": "slide"
    }
   },
   "source": [
    "人类语言的进化，反映了对具体事物不断归纳总结，不断抽象的演化过程。\n",
    "\n",
    "> 什么是抽象？  \n",
    "> 抽象是从众多的事物中抽取出共同的、本质性的特征，而舍弃其非本质的特征。一言以蔽之，抽象就是提炼（参见《形象思维在文艺中的作用和思想性》）。   \n",
    "> [百度百科](http://baike.baidu.com/subview/5293/11100825.htm)"
   ]
  },
  {
   "cell_type": "markdown",
   "metadata": {
    "slideshow": {
     "slide_type": "slide"
    }
   },
   "source": [
    "### 对象和类\n",
    "\n",
    "面向对象是对复杂现实世界进行理解和抽象的一种方法，软件开发中的对象不是某个具体的现实世界事物，而是它们的映射或模型。\n",
    "\n",
    "面向对象设计中，首先从众多对象中，归纳出相同特性和行为，进而抽象出类。例如在《喜羊羊与灰太狼》中可以抽象并设计出三个类：\n",
    "\n",
    "- 羊类\n",
    "- 狼类\n",
    "- 草原类"
   ]
  },
  {
   "cell_type": "markdown",
   "metadata": {
    "slideshow": {
     "slide_type": "slide"
    }
   },
   "source": [
    "下一步，把抽象得到的类再进行实例化，得到多个对象。同一类型的对象则具有相同特性和行为，仅仅值有所不同。\n",
    "\n",
    "* 羊类的对象    \n",
    "喜羊羊、美羊羊、懒羊羊、沸羊羊、暖羊羊、慢羊羊\n",
    "* 狼类的对象    \n",
    "灰太狼、红太狼、小灰灰。\n",
    "* 草原的对象  \n",
    "青青大草原。"
   ]
  },
  {
   "cell_type": "markdown",
   "metadata": {
    "slideshow": {
     "slide_type": "slide"
    }
   },
   "source": [
    "也就是说类是对象的抽象，对象是类的实例化。\n",
    "- 对象的特性或状态，称为即属性(attribute)，用数据值来描述；\n",
    "- 对象的行为或操作，称为方法(method)，用于改变对象的状态。"
   ]
  },
  {
   "cell_type": "markdown",
   "metadata": {
    "slideshow": {
     "slide_type": "slide"
    }
   },
   "source": [
    "### 面向对象的优势\n",
    "\n",
    "看看咱们老祖宗的智慧就明白，为了做很多花馍处理，要先做一个模子来：\n",
    "<img src=\"../images/huamotype.jpg\" width=\"60%\" >"
   ]
  },
  {
   "cell_type": "markdown",
   "metadata": {
    "slideshow": {
     "slide_type": "slide"
    }
   },
   "source": [
    "## 内置函数与内置类型\n",
    "\n",
    "要吃红烧肉有两个方法：照着菜谱做；找个厨师。要学好 Python 编程来解决问题，同样要学好函数和面向对象。在Python语言中，已经内置了许多函数和基本类型。"
   ]
  },
  {
   "cell_type": "markdown",
   "metadata": {
    "slideshow": {
     "slide_type": "slide"
    }
   },
   "source": [
    "### Python 内置函数\n",
    "\n",
    "Python的内置函数包括如下：\n",
    "\n",
    "| 1  | 2 |  3 | 4 | 5  |\n",
    "|:------|:------|:------|:------|:------|\n",
    "| `abs()` |\t`delattr()` |\t`hash()` |\t`memoryview()` |\t`set()` |\n",
    "| `all()` |\t`dict()` |\t`help()` |\t`min()` |\t`setattr()` |\n",
    "| `any()` |\t`dir()` |\t`hex()` |\t`next()` |\t`slice()` |\n",
    "| `ascii()` |\t`divmod()` |\t`id()` |\t`object()` |\t`sorted()` |\n",
    "| `bin()` |\t`enumerate()` |\t`input()` |\t`oct()` |\t`staticmethod()` |\n",
    "| `bool()` |\t`eval()` |\t`int()` |\t`open()` |\t`str()` |\n",
    "| `breakpoint()` |\t`exec()` |\t`isinstance()` |\t`ord()` |\t`sum()` |\n",
    "| `bytearray()` |\t`filter()` |\t`issubclass()` |\t`pow()` |\t`super()` |\n",
    "| `bytes()` |\t`float()` |\t`iter()` |\t`print()` |\t`tuple()` |\n",
    "| `callable()` |\t`format()` |\t`len()` |\t`property()` |\t`type()` |\n",
    "| `chr()` |\t`frozenset()` |\t`list()` |\t`range()` |\t`vars()` |\n",
    "| `classmethod()` |\t`getattr()` |\t`locals()` |\t`repr()` |\t`zip()` |\n",
    "| `compile()` |\t`globals()` |\t`map()` |\t`reversed()` |\t`__import__()` |\n",
    "| `complex()` |\t`hasattr()` |\t`max()` |\t`round()` |\t "
   ]
  },
  {
   "cell_type": "markdown",
   "metadata": {
    "slideshow": {
     "slide_type": "slide"
    }
   },
   "source": [
    "### Python 内置类型 \n",
    "\n",
    "Python语言内置了基本数据类型包括包括：\n",
    "- 数字（numerics）  \n",
    "    - 整数（int）\n",
    "    - 布尔数（bool）\n",
    "    - 浮点数（float）\n",
    "    - 复数（complex）\n",
    "- 文本\n",
    "    - 字符串（string）\n",
    "- 空\n",
    "    - 空（Nonetype）    \n",
    "在Python语言中，万物皆对象，已经内置许多常用基本类型."
   ]
  },
  {
   "cell_type": "markdown",
   "metadata": {
    "collapsed": true,
    "slideshow": {
     "slide_type": "slide"
    }
   },
   "source": [
    "基本结构类型包括：\n",
    "- 序列（sequences）  \n",
    "    - 列表（list）\n",
    "    - 元祖（tuple）\n",
    "    - 集合（set）    \n",
    "- 映射（mapping）  \n",
    "    - 字典（dict）    "
   ]
  },
  {
   "cell_type": "markdown",
   "metadata": {
    "slideshow": {
     "slide_type": "slide"
    }
   },
   "source": [
    "### 函数与内置函数\n",
    "\n",
    "Python是多范式编程，也包括大量的函数。函数同样是很重要的。"
   ]
  },
  {
   "cell_type": "markdown",
   "metadata": {
    "slideshow": {
     "slide_type": "slide"
    }
   },
   "source": [
    "Python的内置函数有很多，需要慢慢掌握：\n",
    "\n",
    "| 1  | 2 |  3 | 4 | 5  |\n",
    "|:------|:------|:------|:------|:------|\n",
    "| [`abs`](abs.ipynb) | [`all`](all.ipynb) | [`any`](any.ipynb) | [`ascii`](ascii.ipynb) | [`bin`](bin.ipynb) |\n",
    "| [`bool`](bool.ipynb) | [`bytearray`](bytearray.ipynb) | [`bytes`](bytes.ipynb) | [`callable`](callable.ipynb) | [`chr`](chr.ipynb) |\n",
    "| [`classmethod`](classmethod.ipynb) | [`compile`](compile.ipynb) | [`complex`](complex.ipynb) | [`delattr`](delattr.ipynb) | [`dict`](dict.ipynb) |\n",
    "| [`dir`](dir.ipynb) | [`divmod`](divmod.ipynb) | [`enumerate`](enumerate.ipynb) | [`eval`](eval.ipynb) | [`exec`](exec.ipynb) |\n",
    "| [`filter`](filter.ipynb) | [`float`](float.ipynb) | [`format`](format.ipynb) | [`frozenset`](frozenset.ipynb) | [`getattr`](getattr.ipynb) |\n",
    "| [`globals`](globals.ipynb) | [`hasattr`](hasattr.ipynb) | [`hash`](hash.ipynb) | [`help`](help.ipynb) | [`hex`](hex.ipynb) |\n",
    "| [`id`](id.ipynb) | [`input`](input.ipynb) | [`int`](int.ipynb) | [`isinstance`](isinstance.ipynb) | [`issubclass`](issubclass.ipynb) |\n",
    "| [`iter`](iter.ipynb) | [`len`](len.ipynb) | [`list`](list.ipynb) | [`locals`](locals.ipynb) | [`map`](map.ipynb) |\n",
    "| [`max`](max.ipynb) | [`memoryview`](memoryview.ipynb) | [`min`](min.ipynb) | [`next`](next.ipynb) | [`object`](object.ipynb) |\n",
    "| [`oct`](oct.ipynb) | [`open`](open.ipynb) | [`ord`](ord.ipynb) | [`pow`](pow.ipynb) | [`print`](print.ipynb) |\n",
    "| [`property`](property.ipynb) | [`range`](range.ipynb) | [`repr`](repr.ipynb) | [`reversed`](reversed.ipynb) | [`round`](round.ipynb) |\n",
    "| [`set`](set.ipynb) | [`setattr`](setattr.ipynb) | [`slice`](slice.ipynb) | [`sorted`](sorted.ipynb) | [`staticmethod`](staticmethod.ipynb) |\n",
    "| [`str`](str.ipynb) | [`sum`](sum.ipynb) | [`super`](super.ipynb) | [`tuple`](tuple.ipynb) | [`type`](type.ipynb) |\n",
    "| [`vars`](vars.ipynb) | [`zip`](zip.ipynb)|"
   ]
  },
  {
   "cell_type": "markdown",
   "metadata": {
    "slideshow": {
     "slide_type": "slide"
    }
   },
   "source": [
    "## Python对象"
   ]
  },
  {
   "cell_type": "markdown",
   "metadata": {
    "slideshow": {
     "slide_type": "-"
    }
   },
   "source": [
    "### 变量与对象\n",
    "\n",
    "类是对象的抽象、对象是类的实例。在Python世界中创建一个对象有两种方式：\n",
    "\n",
    "* 字面常数（literal constant）\n",
    "\n",
    "* 变量(variable)"
   ]
  },
  {
   "cell_type": "markdown",
   "metadata": {
    "slideshow": {
     "slide_type": "slide"
    }
   },
   "source": [
    "** 字面常数（literal constant）**：\n",
    "\n",
    "* `2`， `-4`， `1024`是整数(int)类型对象；\n",
    "* `5.0`, `-1.6`, `12.3E-4`是浮点数（float）类型对象；\n",
    "* `True`, `False`是布尔类型对象；\n",
    "* 'hello, python!'， 'This is a string'是字符串（str）类型对象。"
   ]
  },
  {
   "cell_type": "markdown",
   "metadata": {
    "slideshow": {
     "slide_type": "slide"
    }
   },
   "source": [
    "编程语言最强大的功能就是变量操作。在 Python 编程中，变量就是一个对象的代号，可以使用赋值语句来定义一个变量，并把变量指向对象。在 Python 使用等号 `=` 进行赋值操作。例如下面 3 行赋值语句："
   ]
  },
  {
   "cell_type": "code",
   "execution_count": 4,
   "metadata": {
    "slideshow": {
     "slide_type": "-"
    }
   },
   "outputs": [],
   "source": [
    "n = 2\n",
    "x = 5.0\n",
    "message = 'hello, python!'"
   ]
  },
  {
   "cell_type": "markdown",
   "metadata": {
    "slideshow": {
     "slide_type": "slide"
    }
   },
   "source": [
    "![变量赋值](../images/variable_object01.png)"
   ]
  },
  {
   "cell_type": "code",
   "execution_count": 33,
   "metadata": {
    "slideshow": {
     "slide_type": "slide"
    }
   },
   "outputs": [],
   "source": [
    "# 当一个对象没有变量引用时，Python 就会进行垃圾收集。\n",
    "i = 73\n",
    "i += 2"
   ]
  },
  {
   "cell_type": "markdown",
   "metadata": {
    "slideshow": {
     "slide_type": "-"
    }
   },
   "source": [
    "![](../images/immutable_diagram.png)"
   ]
  },
  {
   "cell_type": "markdown",
   "metadata": {
    "slideshow": {
     "slide_type": "slide"
    }
   },
   "source": [
    "### 变量命名\n",
    "\n",
    "变量名属于标识符（token），其命名规则如下：\n",
    "- 变量名只能包含字母（大写与小写）、数字或下划线(`_`)组成；\n",
    "- 变量名首字符必须是字母或下划线(`_`)，不能以数字开头；\n",
    "- 变量名是大小写敏感；\n",
    "- 不能使用关键词（keywords）。"
   ]
  },
  {
   "cell_type": "markdown",
   "metadata": {
    "slideshow": {
     "slide_type": "slide"
    }
   },
   "source": [
    "> 一个硬币有正反面，只认识正面是不够的。\n",
    ">\n",
    "> 人非圣贤，Python也会出错。什么是异常？就是Python遇到无法处理的语句，中断跳出。"
   ]
  },
  {
   "cell_type": "markdown",
   "metadata": {
    "slideshow": {
     "slide_type": "slide"
    }
   },
   "source": [
    "变量命名要符合规则，那么不符合规则会发生什么呢？"
   ]
  },
  {
   "cell_type": "code",
   "execution_count": 32,
   "metadata": {
    "slideshow": {
     "slide_type": "-"
    }
   },
   "outputs": [
    {
     "ename": "SyntaxError",
     "evalue": "invalid syntax (<ipython-input-32-f8266d6bd53c>, line 2)",
     "output_type": "error",
     "traceback": [
      "\u001b[0;36m  File \u001b[0;32m\"<ipython-input-32-f8266d6bd53c>\"\u001b[0;36m, line \u001b[0;32m2\u001b[0m\n\u001b[0;31m    21century = 2000\u001b[0m\n\u001b[0m            ^\u001b[0m\n\u001b[0;31mSyntaxError\u001b[0m\u001b[0;31m:\u001b[0m invalid syntax\n"
     ]
    }
   ],
   "source": [
    "# 变量命名不能以数字开头\n",
    "21century = 2000"
   ]
  },
  {
   "cell_type": "markdown",
   "metadata": {
    "slideshow": {
     "slide_type": "slide"
    }
   },
   "source": [
    "如果没有定义变量，那就无法使用该变量。好比是Python世界“黑户”，如果使用Python就会抛出异常(`NameError`)报错。"
   ]
  },
  {
   "cell_type": "code",
   "execution_count": 1,
   "metadata": {
    "slideshow": {
     "slide_type": "-"
    }
   },
   "outputs": [
    {
     "ename": "NameError",
     "evalue": "name 'noDefinedVariable' is not defined",
     "output_type": "error",
     "traceback": [
      "\u001b[0;31m---------------------------------------------------------------------------\u001b[0m",
      "\u001b[0;31mNameError\u001b[0m                                 Traceback (most recent call last)",
      "\u001b[0;32m<ipython-input-1-6e9ed6d844c1>\u001b[0m in \u001b[0;36m<module>\u001b[0;34m\u001b[0m\n\u001b[0;32m----> 1\u001b[0;31m \u001b[0mprint\u001b[0m\u001b[0;34m(\u001b[0m\u001b[0mnoDefinedVariable\u001b[0m\u001b[0;34m)\u001b[0m\u001b[0;34m\u001b[0m\u001b[0;34m\u001b[0m\u001b[0m\n\u001b[0m",
      "\u001b[0;31mNameError\u001b[0m: name 'noDefinedVariable' is not defined"
     ]
    }
   ],
   "source": [
    "print(noDefinedVariable)"
   ]
  },
  {
   "cell_type": "markdown",
   "metadata": {
    "slideshow": {
     "slide_type": "slide"
    }
   },
   "source": [
    "关键字是 Python 语言的保留字，在交互模式下输入如下语句可以获得全部 Python 关键字："
   ]
  },
  {
   "cell_type": "code",
   "execution_count": 2,
   "metadata": {
    "slideshow": {
     "slide_type": "-"
    }
   },
   "outputs": [
    {
     "name": "stdout",
     "output_type": "stream",
     "text": [
      "\n",
      "Here is a list of the Python keywords.  Enter any keyword to get more help.\n",
      "\n",
      "False               def                 if                  raise\n",
      "None                del                 import              return\n",
      "True                elif                in                  try\n",
      "and                 else                is                  while\n",
      "as                  except              lambda              with\n",
      "assert              finally             nonlocal            yield\n",
      "break               for                 not                 \n",
      "class               from                or                  \n",
      "continue            global              pass                \n",
      "\n"
     ]
    }
   ],
   "source": [
    "help('keywords')"
   ]
  },
  {
   "cell_type": "code",
   "execution_count": 4,
   "metadata": {
    "slideshow": {
     "slide_type": "slide"
    }
   },
   "outputs": [
    {
     "ename": "SyntaxError",
     "evalue": "invalid syntax (<ipython-input-4-7e43bf046ef4>, line 1)",
     "output_type": "error",
     "traceback": [
      "\u001b[0;36m  File \u001b[0;32m\"<ipython-input-4-7e43bf046ef4>\"\u001b[0;36m, line \u001b[0;32m1\u001b[0m\n\u001b[0;31m    class = 'first'\u001b[0m\n\u001b[0m          ^\u001b[0m\n\u001b[0;31mSyntaxError\u001b[0m\u001b[0;31m:\u001b[0m invalid syntax\n"
     ]
    }
   ],
   "source": [
    "class = 'first'"
   ]
  },
  {
   "cell_type": "markdown",
   "metadata": {
    "slideshow": {
     "slide_type": "slide"
    }
   },
   "source": [
    "### 对象与内存\n",
    "\n",
    "在 Python 创建一个对象就是在计算机中开创一块内存空间。每个对象都有三个特性：\n",
    "- 类型，好比盒子是什么类型的盒子。\n",
    "- 身份标识，盒子在内存空间存放位置。\n",
    "- 值，盒子中东西。"
   ]
  },
  {
   "cell_type": "markdown",
   "metadata": {
    "slideshow": {
     "slide_type": "slide"
    }
   },
   "source": [
    "例如在上节的赋值语句中，会创建 3 个对象，也就是创建 3 个盒子；3 个变量则分别指向不同的盒子。\n",
    "\n",
    "![变量与盒子](../images/variable_object01.png)\n",
    "\n",
    "- 第 1 个对象的类型是整数（int），位于内存指定位置，盒子中的值为 2；\n",
    "- 第 2 个对象的类型是浮点数（float），位于内存指定位置，盒子中的值为 5.0；\n",
    "- 第 3 个对象的类型是字符串（str），位于内存指定位置，盒子中的值为 `hello, python!`。"
   ]
  },
  {
   "cell_type": "markdown",
   "metadata": {
    "slideshow": {
     "slide_type": "slide"
    }
   },
   "source": [
    "在 Python 中一旦创建一个对象，在其生命周期中，类型和身份标识不能改变。\n",
    "- 对象的类型就是对象的抽象，是对象是属于类，使用内置函数`type()`查询对象。\n",
    "- 对象的身份标识就是对象在内存空间的地址编号，使用`id()`函数返回其值。"
   ]
  },
  {
   "cell_type": "code",
   "execution_count": 5,
   "metadata": {
    "slideshow": {
     "slide_type": "-"
    }
   },
   "outputs": [
    {
     "name": "stdout",
     "output_type": "stream",
     "text": [
      "<class 'int'> <class 'float'> <class 'str'>\n"
     ]
    }
   ],
   "source": [
    "print(type(n), type(x), type(message))"
   ]
  },
  {
   "cell_type": "code",
   "execution_count": 6,
   "metadata": {},
   "outputs": [
    {
     "name": "stdout",
     "output_type": "stream",
     "text": [
      "94627197948992 140489053623616 140489053020080\n"
     ]
    }
   ],
   "source": [
    "print(id(n), id(x), id(message))"
   ]
  },
  {
   "cell_type": "markdown",
   "metadata": {
    "slideshow": {
     "slide_type": "slide"
    }
   },
   "source": [
    "每个对象还有一个值的特性，也就是盒子中东西。根据是否可以修改对象的值，可把对象分为**可变和不可变对象**：\n",
    "- 如果对象的值可以修改，则称为可变对象（mutable）。\n",
    "- 如果对象的值不可以修改，则称为不可变对象（immutable）。如进行修改则抛出异常报错；"
   ]
  },
  {
   "cell_type": "markdown",
   "metadata": {
    "slideshow": {
     "slide_type": "slide"
    }
   },
   "source": [
    "Python 语言是一种解释型、面向对象、动态数据类型的高级程序设计语言。什么是动态类型呢？\n",
    "\n",
    "在运行赋值语句时，会创建一个对象，并赋值给变量，即把变量指向一个对象。在 Python 中可以通过多个赋值语句更改变量指向的对象。例如下面语句："
   ]
  },
  {
   "cell_type": "code",
   "execution_count": 9,
   "metadata": {
    "slideshow": {
     "slide_type": "-"
    }
   },
   "outputs": [],
   "source": [
    "var = 2\n",
    "var = 5.0\n",
    "var = 'hello, world!'"
   ]
  },
  {
   "cell_type": "markdown",
   "metadata": {
    "slideshow": {
     "slide_type": "slide"
    }
   },
   "source": [
    "定义一个变量时，会创建对象，也就是在计算机中开创一块内存空间，变量则指向这个内存空间。当一个内存空间没有变量引用时，Python 系统会自动把内存空间回收。例如运行下述代码："
   ]
  },
  {
   "cell_type": "code",
   "execution_count": 10,
   "metadata": {
    "slideshow": {
     "slide_type": "-"
    }
   },
   "outputs": [],
   "source": [
    "var2 = 'hello, world!'\n",
    "var2 = 'hello, python!'"
   ]
  },
  {
   "cell_type": "markdown",
   "metadata": {
    "slideshow": {
     "slide_type": "slide"
    }
   },
   "source": [
    "[Online Python Tutor](http://www.pythontutor.com)网站是一个可视化 Python 代码运行过程的的网站，可以在线编码并查看代码执行过程中变量与对象之间的变化。"
   ]
  },
  {
   "cell_type": "markdown",
   "metadata": {
    "slideshow": {
     "slide_type": "slide"
    }
   },
   "source": [
    "### 属性与方法\n",
    "\n",
    "类是对象的抽象，对象是类的实例化。创建了对象后，就可以访问和使用对象的属性(attribute)与方法(method)。"
   ]
  },
  {
   "cell_type": "markdown",
   "metadata": {
    "slideshow": {
     "slide_type": "-"
    }
   },
   "source": [
    "成员访问语法`.`类似于中文词【的】`或者日文【の】，用来指明某个对象的属性，或者说运行某个对象的方法：\n",
    "- `.`\n",
    "- 的\n",
    "- の"
   ]
  },
  {
   "cell_type": "markdown",
   "metadata": {
    "slideshow": {
     "slide_type": "slide"
    }
   },
   "source": [
    "假设有一个厨师类`Cooker`，可以用来创建一个张大厨的师傅，然后使用张大厨的制作东坡肉方法来烹制美食，那么其编程语句可写为：\n",
    "```\n",
    "chef_zhang = Cooker()\n",
    "chef_zhang.cook_dongpo_pork(pork)\n",
    "```"
   ]
  },
  {
   "cell_type": "markdown",
   "metadata": {
    "slideshow": {
     "slide_type": "slide"
    }
   },
   "source": [
    "使用内置函数`dir()`可以列出对象及其所属类的所有成员:"
   ]
  },
  {
   "cell_type": "code",
   "execution_count": 11,
   "metadata": {
    "slideshow": {
     "slide_type": "-"
    }
   },
   "outputs": [
    {
     "name": "stdout",
     "output_type": "stream",
     "text": [
      "['__abs__', '__add__', '__and__', '__bool__', '__ceil__', '__class__', '__delattr__', '__dir__', '__divmod__', '__doc__', '__eq__', '__float__', '__floor__', '__floordiv__', '__format__', '__ge__', '__getattribute__', '__getnewargs__', '__gt__', '__hash__', '__index__', '__init__', '__init_subclass__', '__int__', '__invert__', '__le__', '__lshift__', '__lt__', '__mod__', '__mul__', '__ne__', '__neg__', '__new__', '__or__', '__pos__', '__pow__', '__radd__', '__rand__', '__rdivmod__', '__reduce__', '__reduce_ex__', '__repr__', '__rfloordiv__', '__rlshift__', '__rmod__', '__rmul__', '__ror__', '__round__', '__rpow__', '__rrshift__', '__rshift__', '__rsub__', '__rtruediv__', '__rxor__', '__setattr__', '__sizeof__', '__str__', '__sub__', '__subclasshook__', '__truediv__', '__trunc__', '__xor__', 'bit_length', 'conjugate', 'denominator', 'from_bytes', 'imag', 'numerator', 'real', 'to_bytes']\n"
     ]
    }
   ],
   "source": [
    "print(dir(1))"
   ]
  },
  {
   "cell_type": "markdown",
   "metadata": {
    "slideshow": {
     "slide_type": "slide"
    }
   },
   "source": [
    "使用`help()`函数，会给出对象所有属性和特征的帮助说明。"
   ]
  },
  {
   "cell_type": "code",
   "execution_count": null,
   "metadata": {
    "slideshow": {
     "slide_type": "-"
    }
   },
   "outputs": [],
   "source": [
    "help(n)"
   ]
  },
  {
   "cell_type": "markdown",
   "metadata": {
    "slideshow": {
     "slide_type": "slide"
    }
   },
   "source": [
    "使用内置函数`hasattr()`来检查对象是否有给定属性，返回布尔值结果。"
   ]
  },
  {
   "cell_type": "code",
   "execution_count": 17,
   "metadata": {
    "slideshow": {
     "slide_type": "-"
    }
   },
   "outputs": [
    {
     "data": {
      "text/plain": [
       "True"
      ]
     },
     "execution_count": 17,
     "metadata": {},
     "output_type": "execute_result"
    }
   ],
   "source": [
    "hasattr(int, '__abs__')"
   ]
  },
  {
   "cell_type": "markdown",
   "metadata": {
    "slideshow": {
     "slide_type": "slide"
    }
   },
   "source": [
    "### 自省\n",
    "\n",
    "> 曾子曰：“吾日三省吾身，为人谋而不忠乎？与朋友交而不信乎？传不 习乎？”\n",
    "\n",
    "在 Python 中每遇到一个对象，也可以三省对象，这个对象是啥（类型）？有啥属性(特征）？有啥本事（方法）。下述是自己的狗尾续貂一下：\n",
    "> 吾每遇对象必自省，用变量而知其类乎？用其值而知属性乎？用其法而知方法乎？"
   ]
  },
  {
   "cell_type": "markdown",
   "metadata": {
    "slideshow": {
     "slide_type": "slide"
    }
   },
   "source": [
    "## 流程控制\n",
    "\n",
    "一个 Python程序通常由多行代码组成。一个代码行可能是表达式或者语句。表达式是由变量、字面常数和操作符的组合。例如在 Python 提示符中，先定义一个变量`n`，"
   ]
  },
  {
   "cell_type": "code",
   "execution_count": 12,
   "metadata": {
    "slideshow": {
     "slide_type": "-"
    }
   },
   "outputs": [],
   "source": [
    "n = 100"
   ]
  },
  {
   "cell_type": "code",
   "execution_count": null,
   "metadata": {
    "slideshow": {
     "slide_type": "-"
    }
   },
   "outputs": [],
   "source": [
    "1 + 1"
   ]
  },
  {
   "cell_type": "markdown",
   "metadata": {
    "slideshow": {
     "slide_type": "slide"
    }
   },
   "source": [
    "一个 Python 程序有多行 Python 语句组成，缺省情况下 Python 遵循的是顺序执行的原则，即从上到下逐行读取语句并解释执行。例如下面首先执行第1行赋值语句，然后执行第2行的打印语句，最后再运行第3行的打印语句。"
   ]
  },
  {
   "cell_type": "code",
   "execution_count": 18,
   "metadata": {
    "slideshow": {
     "slide_type": "-"
    }
   },
   "outputs": [
    {
     "name": "stdout",
     "output_type": "stream",
     "text": [
      "第1行\n",
      "第2行\n",
      "第3行\n"
     ]
    }
   ],
   "source": [
    "print('第1行')\n",
    "print('第2行')\n",
    "print('第3行')"
   ]
  },
  {
   "cell_type": "markdown",
   "metadata": {
    "slideshow": {
     "slide_type": "slide"
    }
   },
   "source": [
    "### 条件语句\n",
    "\n",
    "**木兰花慢·可怜今夕月  (辛弃疾)**\n",
    "\n",
    "> 中秋饮酒将旦，客谓前人诗词有赋待月无送月者，因用《天问》体赋。\n",
    "\n",
    "> 可怜今夕月，向何处，去悠悠？是别有人间，那边才见，光影东头？是天外。空汗漫，但长风浩浩送中秋？飞镜无根谁系？姮娥不嫁谁留？\n",
    "> 谓经海底问无由，恍惚使人愁。怕万里长鲸，纵横触破，玉殿琼楼。虾蟆故堪浴水，问云何玉兔解沉浮？若道都齐无恙，云何渐渐如钩？"
   ]
  },
  {
   "cell_type": "markdown",
   "metadata": {
    "slideshow": {
     "slide_type": "slide"
    }
   },
   "source": [
    "在 Python 中使用`if`与`else`语句就可以实现流程的两个分支，基本语法为：\n",
    "```\n",
    "if condition:\n",
    "    statement(s) of if\n",
    "else:\n",
    "    statement(s) of else\n",
    "```\n",
    "\n",
    "通过冒号`:`与缩进来判断哪些语句是条件语句。"
   ]
  },
  {
   "cell_type": "code",
   "execution_count": 13,
   "metadata": {
    "slideshow": {
     "slide_type": "slide"
    }
   },
   "outputs": [
    {
     "name": "stdout",
     "output_type": "stream",
     "text": [
      "小心别掉到海里去!\n"
     ]
    }
   ],
   "source": [
    "earth_is_flat = True\n",
    "if earth_is_flat:\n",
    "    print('小心别掉到海里去!')\n",
    "else:\n",
    "    print('不要杞人忧天!')"
   ]
  },
  {
   "cell_type": "markdown",
   "metadata": {
    "slideshow": {
     "slide_type": "slide"
    }
   },
   "source": [
    "### 循环语句\n",
    "\n",
    "`for`循环语法：\n",
    "```\n",
    "for <variable> in <sequence>:\n",
    "    <statement(s)>\n",
    "```\n",
    "\n",
    "同样使用冒号`:`与缩进来判断哪些语句是循环语句。"
   ]
  },
  {
   "cell_type": "code",
   "execution_count": 14,
   "metadata": {
    "slideshow": {
     "slide_type": "slide"
    }
   },
   "outputs": [
    {
     "name": "stdout",
     "output_type": "stream",
     "text": [
      "张三 欢迎欢迎！\n",
      "李四 欢迎欢迎！\n",
      "王麻子 欢迎欢迎！\n"
     ]
    }
   ],
   "source": [
    "for name in ['张三', '李四', '王麻子']:\n",
    "    print(name, '欢迎欢迎！' )"
   ]
  },
  {
   "cell_type": "code",
   "execution_count": 16,
   "metadata": {
    "slideshow": {
     "slide_type": "slide"
    }
   },
   "outputs": [
    {
     "name": "stdout",
     "output_type": "stream",
     "text": [
      "0 欢迎欢迎！\n",
      "1 欢迎欢迎！\n",
      "2 欢迎欢迎！\n",
      "3 欢迎欢迎！\n",
      "4 欢迎欢迎！\n"
     ]
    }
   ],
   "source": [
    "for i in range(5):\n",
    "    print(i, '欢迎欢迎！')"
   ]
  },
  {
   "cell_type": "markdown",
   "metadata": {
    "slideshow": {
     "slide_type": "slide"
    }
   },
   "source": [
    "## 函数与类的定义\n",
    "\n",
    "要吃红烧肉有两个方法：照着菜谱做；找个厨师。\n",
    "\n",
    "而在Python编程中，为了解决问题就是要学会函数和面向对象的方法。"
   ]
  },
  {
   "cell_type": "markdown",
   "metadata": {
    "slideshow": {
     "slide_type": "slide"
    }
   },
   "source": [
    "### 函数定义\n",
    "\n",
    "在大多情况下，自己遇到的具体问题都需要都需要自己去解决，那么可以先定义函数，然后在调用函数即可：\n",
    "\n",
    "```python\n",
    "def my_cook_dongpo_pork(pork):\n",
    "    .....\n",
    "\n",
    "cook_dongpo_pork(pork)  \n",
    "```"
   ]
  },
  {
   "cell_type": "markdown",
   "metadata": {
    "slideshow": {
     "slide_type": "slide"
    }
   },
   "source": [
    "### 类定义\n",
    "\n",
    "同样，也可以先定义一个类，然后再创建对象和调用其方法来解决问题：\n",
    "\n",
    "```python\n",
    "class MyCooker():\n",
    "    ....\n",
    "    \n",
    "    \n",
    "chef_zhang = MyCooker('zhang')\n",
    "chef_zhang.cook_dongpo_pork(pork)\n",
    "```"
   ]
  },
  {
   "cell_type": "markdown",
   "metadata": {
    "slideshow": {
     "slide_type": "slide"
    }
   },
   "source": [
    "## Python代码组织\n",
    "\n",
    "> 合抱之木，生于毫末；   \n",
    "> 九层之台，起于垒土；  \n",
    "> 千里之行，始于足下。\n",
    "\n",
    "Python 编程是从一行行语句开始写起的。\n",
    "\n",
    "语句 => 模块（module） => 包（package）"
   ]
  },
  {
   "cell_type": "markdown",
   "metadata": {
    "slideshow": {
     "slide_type": "slide"
    }
   },
   "source": [
    "使用 import 导入别人写好的模块或包，然后使用其中的函数、类、对："
   ]
  },
  {
   "cell_type": "code",
   "execution_count": 31,
   "metadata": {
    "slideshow": {
     "slide_type": "-"
    }
   },
   "outputs": [
    {
     "data": {
      "text/plain": [
       "2"
      ]
     },
     "execution_count": 31,
     "metadata": {},
     "output_type": "execute_result"
    }
   ],
   "source": [
    "import random\n",
    "\n",
    "random.randint(0, 5)"
   ]
  },
  {
   "cell_type": "markdown",
   "metadata": {
    "slideshow": {
     "slide_type": "slide"
    }
   },
   "source": [
    "## 小结\n",
    "\n",
    "要学好Python，需要认识很多菜谱以及很多类型的厨师；实在不行还得自己会写菜谱或制作厨师类。"
   ]
  }
 ],
 "metadata": {
  "celltoolbar": "幻灯片",
  "kernelspec": {
   "display_name": "Python 3",
   "language": "python",
   "name": "python3"
  },
  "language_info": {
   "codemirror_mode": {
    "name": "ipython",
    "version": 3
   },
   "file_extension": ".py",
   "mimetype": "text/x-python",
   "name": "python",
   "nbconvert_exporter": "python",
   "pygments_lexer": "ipython3",
   "version": "3.7.3"
  },
  "toc": {
   "base_numbering": 1,
   "nav_menu": {},
   "number_sections": true,
   "sideBar": true,
   "skip_h1_title": false,
   "title_cell": "Table of Contents",
   "title_sidebar": "Contents",
   "toc_cell": false,
   "toc_position": {
    "height": "calc(100% - 180px)",
    "left": "10px",
    "top": "150px",
    "width": "253px"
   },
   "toc_section_display": true,
   "toc_window_display": false
  }
 },
 "nbformat": 4,
 "nbformat_minor": 1
}
