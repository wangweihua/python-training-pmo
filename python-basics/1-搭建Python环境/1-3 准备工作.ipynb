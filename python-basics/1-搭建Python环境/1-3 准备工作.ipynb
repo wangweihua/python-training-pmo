{
 "cells": [
  {
   "cell_type": "markdown",
   "metadata": {
    "slideshow": {
     "slide_type": "slide"
    }
   },
   "source": [
    "# 准备工作\n",
    "\n",
    "1. 有大量动手操作，需要自带笔记本计算机一台，操作系统不限。\n",
    "2. 安装Python软件，推荐Anaconda Python套件\n",
    "3. Pycharnm开发环境\n",
    "4. Jupyter Notebook\n",
    "5. Git版本管理工具\n",
    "6. Python功能库"
   ]
  },
  {
   "cell_type": "markdown",
   "metadata": {
    "slideshow": {
     "slide_type": "slide"
    }
   },
   "source": [
    "## 安装Anaconda Python套件\n",
    "\n",
    "Anaconda 支持Windows、Linux和Mac Os操作系统平台，同时支持Python2和Python3版本。故安装之前，确认如下：\n",
    "- 操作系统：\n",
    "    - Windows\n",
    "    - Linux\n",
    "    - macos\n",
    "- Python\n",
    "    - Python 3 "
   ]
  },
  {
   "cell_type": "markdown",
   "metadata": {
    "slideshow": {
     "slide_type": "slide"
    }
   },
   "source": [
    "### 下载安装\n",
    "\n",
    "到[清华大学镜像站](https://mirrors.tuna.tsinghua.edu.cn/help/anaconda/)的[下载安装包]\n",
    "或者[Anaconda 官网](https://www.continuum.io)\n",
    "\n",
    "\n",
    "例如自己的计算机是Windows 64位系统，那么可以下载Python3 Windows 64位系统安装程序(`Anaconda3-5.3.1-Windows-x86_64.exe`, 2018年11月期间)。\n",
    "然后双击安装程序文件，并按照提示进行操作，即可顺利安装。推荐安装目录为`C:\\Anaconda3`\n",
    "\n",
    "安装完毕后，选择【开始】=>【Anaconda】=>【Anaconda Prompt】,进入Anaconda命令终端。\n",
    "\n",
    "在命令终端中，键入`python`，启动Python程序，键入：\n",
    "```\n",
    "1 + 1\n",
    "```\n",
    "\n",
    "如果等于 2 就算安装成功。\n",
    "\n",
    "如果熟悉Linux系统，那么安装就不是问题。"
   ]
  },
  {
   "cell_type": "markdown",
   "metadata": {
    "slideshow": {
     "slide_type": "slide"
    }
   },
   "source": [
    "## 安装 Pycharm 集成开发环境\n",
    "\n",
    "一个集成开发环境（Integrated Development Environment，IDE) ，通常会集中实现这些功能，例如：\n",
    "- 项目管理\n",
    "- 语法高亮\n",
    "- 代码跳转\n",
    "- 智能提示\n",
    "- 自动完成\n",
    "- 调试\n",
    "- 单元测试\n",
    "- 版本控制"
   ]
  },
  {
   "cell_type": "markdown",
   "metadata": {
    "slideshow": {
     "slide_type": "slide"
    }
   },
   "source": [
    "Pyhton 集成开发环境有很多：\n",
    "- pycharm\n",
    "- visual code\n",
    "- Spyder\n",
    "- Sublime3\n",
    "- Eclipse+Pydev\n",
    "- Emacs\n",
    "\n",
    "> 选择并不不重要，重要的是要用一辈子去坚持。"
   ]
  },
  {
   "cell_type": "markdown",
   "metadata": {
    "slideshow": {
     "slide_type": "slide"
    }
   },
   "source": [
    "### 下载安装\n",
    "\n",
    "Pycharm 是个跨平台开发环境，可以运行在 Windows、Linux、Mac 等常用操作系统。Pycharm 包括社区版（Community）和专业版（Professional）。前者免费，后者需要收费。这里选择免费的社区版。\n",
    "\n",
    "浏览[PyCharm官网](https://www.jetbrains.com/pycharm/)，找到下载按钮并单击，切换到[下载页面](https://www.jetbrains.com/pycharm/download/)。根据操作系统版本，选择下载合适的 PyCharm 社区版。\n",
    "\n",
    "切换到下载目录，双击下载安装程序（例如`pycharm-community-2018.2.1.exe`），按照提示使用缺省值，一路安装下去。"
   ]
  },
  {
   "cell_type": "markdown",
   "metadata": {
    "slideshow": {
     "slide_type": "slide"
    }
   },
   "source": [
    "## 安装Jupyter插件\n",
    "\n",
    "Anaconda安装完毕后，Jupyter Notebook已经可以使用。在Anaconda命令行终端下，键入：\n",
    "```\n",
    "jupyter notebook\n",
    "```\n",
    "即可启动。"
   ]
  },
  {
   "cell_type": "markdown",
   "metadata": {
    "slideshow": {
     "slide_type": "slide"
    }
   },
   "source": [
    "### 安装Jupyter插件\n",
    "\n",
    "除此之外还需要安装如下Jupyter插件：\n",
    "- [RISE](https://github.com/damianavila/RISE)\n"
   ]
  },
  {
   "cell_type": "markdown",
   "metadata": {
    "slideshow": {
     "slide_type": "slide"
    }
   },
   "source": [
    "使用conda安装:\n",
    "```sh\n",
    "conda install -c damianavila82 rise\n",
    "```\n",
    "或者使用pip安装：\n",
    "```sh\n",
    "pip install -U RISE\n",
    "```\n",
    "\n",
    "然后安装JavaScript和CSS：\n",
    "```\n",
    "jupyter-nbextension install rise --py --sys-prefix\n",
    "```\n",
    "\n",
    "启用nbextension：\n",
    "```\n",
    "jupyter-nbextension enable rise --py --sys-prefix\n",
    "```"
   ]
  },
  {
   "cell_type": "markdown",
   "metadata": {
    "slideshow": {
     "slide_type": "slide"
    }
   },
   "source": [
    "## 安装Git\n",
    "\n",
    "由于在课间可能会修改课间的情况，请安装：\n",
    "- Git - <https://gitforwindows.org/>  \n",
    "\n",
    "需要从Git官网下载符合自身系统的Git安装程序，按照默认参数安装即可。\n",
    "\n",
    "课件仓库：\n",
    "```\n",
    "git clone https://github.com/wangweihua/python-training-pmo.git\n",
    "```"
   ]
  },
  {
   "cell_type": "markdown",
   "metadata": {
    "slideshow": {
     "slide_type": "slide"
    }
   },
   "source": [
    "## Python功能库\n",
    "\n",
    "在培训期间会涉及多个功能：\n",
    "- 智能朗读小秘书\n",
    "- 微信服务\n",
    "- 短信服务\n",
    "\n",
    "需要安装如下Python功能库："
   ]
  },
  {
   "cell_type": "markdown",
   "metadata": {
    "slideshow": {
     "slide_type": "slide"
    }
   },
   "source": [
    "### 使用 simpleaudio播放wav文件\n",
    "\n",
    "<https://simpleaudio.readthedocs.io/en/latest/tutorial.html>\n",
    "\n",
    "使用pip安装：\n",
    "```sh\n",
    "pip install simpleaudio\n",
    "```\n",
    "\n",
    "在Windows系统，因为缺乏编译器，通常为安装失败，可以到<https://www.lfd.uci.edu/~gohlke/pythonlibs/>下载wheel版本，并安装。例如对于Python3.7，64为操作系统，则下载\n",
    "```\n",
    "simpleaudio-1.0.2-cp37-cp37m-win_amd64.whl\n",
    "```\n",
    "\n",
    "然后使用pip安装：\n",
    "```sh\n",
    "pip instlal simpleaudio-1.0.2-cp37-cp37m-win_amd64.whl\n",
    "```"
   ]
  },
  {
   "cell_type": "markdown",
   "metadata": {
    "slideshow": {
     "slide_type": "slide"
    }
   },
   "source": [
    "### 使用pyaudio录音与播放\n",
    "\n",
    "<http://people.csail.mit.edu/hubert/pyaudio/docs/>\n",
    "    \n",
    "\n",
    "使用pip安装：\n",
    "```sh\n",
    "pip install pyaudio\n",
    "```\n",
    "\n",
    "在Windows系统，因为缺乏编译器，通常为安装失败，可以到<https://www.lfd.uci.edu/~gohlke/pythonlibs/>下载wheel版本，并安装。例如对于Python3.7，64为操作系统，则下载\n",
    "```\n",
    "pip instlal PyAudio-0.2.11-cp37-cp37m-win_amd64.whl\n",
    "```\n",
    "\n",
    "然后使用pip安装：\n",
    "```sh\n",
    "pip instlal PyAudio-0.2.11-cp37-cp37m-win_amd64.whl\n",
    "```"
   ]
  },
  {
   "cell_type": "markdown",
   "metadata": {
    "slideshow": {
     "slide_type": "slide"
    }
   },
   "source": [
    "### itchat安装\n",
    "\n",
    "[itchat](https://github.com/littlecodersh/ItChat)是一个开源的微信个人号接口，使用python调用微信从未如此简单。"
   ]
  },
  {
   "cell_type": "markdown",
   "metadata": {
    "slideshow": {
     "slide_type": "slide"
    }
   },
   "source": [
    "使用pip安装\n",
    "```\n",
    "pip install itchat\n",
    "```\n",
    "\n",
    "安装完毕后检查安装状况\n",
    "```\n",
    "import itchat\n",
    "print(itchat.__version__)\n",
    "```"
   ]
  },
  {
   "cell_type": "markdown",
   "metadata": {
    "slideshow": {
     "slide_type": "slide"
    }
   },
   "source": [
    "### 百度智能语音Python包\n",
    "\n",
    "使用pip安装：\n",
    "```\n",
    "pip install baidu-aip\n",
    "```"
   ]
  },
  {
   "cell_type": "markdown",
   "metadata": {
    "slideshow": {
     "slide_type": "slide"
    }
   },
   "source": [
    "### 安装阿里云SDK核心库\n",
    "\n",
    "```sh\n",
    "pip install aliyun-python-sdk-core\n",
    "```"
   ]
  },
  {
   "cell_type": "markdown",
   "metadata": {
    "slideshow": {
     "slide_type": "slide"
    }
   },
   "source": [
    "### 安装阿里云语音合成SDK\n",
    "\n",
    "下载 [Python SDK链接](http://download.taobaocdn.com/freedom/33762/compress/alibabacloud-nls-python-sdk.zip?spm=a2c4g.11186623.2.15.114e1ddfJY8jSp&file=alibabacloud-nls-python-sdk.zip)\n",
    "安装，在SDK目录执行以下命令：\n",
    " \n",
    " ```sh\n",
    " python setup.py bdist_egg\n",
    " python setup.py install\n",
    " ```"
   ]
  }
 ],
 "metadata": {
  "celltoolbar": "幻灯片",
  "kernelspec": {
   "display_name": "Python 3",
   "language": "python",
   "name": "python3"
  },
  "language_info": {
   "codemirror_mode": {
    "name": "ipython",
    "version": 3
   },
   "file_extension": ".py",
   "mimetype": "text/x-python",
   "name": "python",
   "nbconvert_exporter": "python",
   "pygments_lexer": "ipython3",
   "version": "3.7.3"
  },
  "toc": {
   "base_numbering": 1,
   "nav_menu": {},
   "number_sections": true,
   "sideBar": true,
   "skip_h1_title": false,
   "title_cell": "Table of Contents",
   "title_sidebar": "Contents",
   "toc_cell": false,
   "toc_position": {},
   "toc_section_display": true,
   "toc_window_display": false
  }
 },
 "nbformat": 4,
 "nbformat_minor": 2
}
