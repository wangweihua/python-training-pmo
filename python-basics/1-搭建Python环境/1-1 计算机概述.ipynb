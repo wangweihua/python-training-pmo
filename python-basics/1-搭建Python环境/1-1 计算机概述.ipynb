{
 "cells": [
  {
   "cell_type": "markdown",
   "metadata": {
    "collapsed": true,
    "slideshow": {
     "slide_type": "slide"
    }
   },
   "source": [
    "# 计算机概述\n",
    "\n",
    "地球上最会计算的是人类，所以人类一直梦想着发明会计算的机器，要比人计算的更快，更聪明！"
   ]
  },
  {
   "cell_type": "markdown",
   "metadata": {
    "slideshow": {
     "slide_type": "slide"
    }
   },
   "source": [
    "## 计算机的前世今生\n",
    "\n",
    "算盘 | 阿塔纳索夫-贝瑞计算机(ABC计算机)\n",
    ":---:|:---:\n",
    "![算盘](../images/chinese_abacus.jpeg) | ![ABC计算机](../images/Atanasoff-Berry_Computer_at_Durhum_Center.jpg)"
   ]
  },
  {
   "cell_type": "markdown",
   "metadata": {
    "slideshow": {
     "slide_type": "slide"
    }
   },
   "source": [
    "### 各种形态的计算机\n",
    "\n",
    "![各种形态的计算机](../images/computers.png)"
   ]
  },
  {
   "cell_type": "markdown",
   "metadata": {
    "slideshow": {
     "slide_type": "slide"
    }
   },
   "source": [
    "### UI演化\n",
    "\n",
    "![](../images/uitrend.png)"
   ]
  },
  {
   "cell_type": "markdown",
   "metadata": {
    "slideshow": {
     "slide_type": "slide"
    }
   },
   "source": [
    "## 计算机的运行\n",
    "\n",
    "![CPU-内存-硬盘](../images/cpu_memory_harddisk.png)"
   ]
  },
  {
   "cell_type": "markdown",
   "metadata": {
    "slideshow": {
     "slide_type": "slide"
    }
   },
   "source": [
    "### 内存\n",
    "\n",
    "内存是计算机的临时存储设备，其大小通常为GB量级。在计算机运行时，内存存放了下达给计算机的工作指令。可以把内存条理解为一个有编号的、分格的储物柜。对于内存来说，最小的格子就是一个字节（Byte），一个字节包括8个位（bit）。内存条为2GB，也就是说有`2*1024*1024*1024`个1字节的小格子。\n",
    "\n",
    "储物柜自然是用来存放各种各样的物品，为了存取方便，通常需要给储物柜进行编号，在计算机中会使用二进制进行编号。例如`0x100000`就是编号为`1024*1024`的柜子。\n",
    "\n",
    "内存除了大小的概念外，还有一个读写速度的概念，例如大家常见的DDR4和DDR3内存，前者比后者要快，价钱也贵。"
   ]
  },
  {
   "cell_type": "markdown",
   "metadata": {
    "slideshow": {
     "slide_type": "slide"
    }
   },
   "source": [
    "### 计算机语言\n",
    "\n",
    "<img style=\"float;\" src=\"../images/cpu_memory_harddisk_flow.jpg\" width=\"60%\">"
   ]
  },
  {
   "cell_type": "markdown",
   "metadata": {
    "slideshow": {
     "slide_type": "slide"
    }
   },
   "source": [
    "## 人 VS 计算机\n",
    "\n",
    "| 项目   |   人    |   计算机   |\n",
    "|:--------|:--------:|:--------:|\n",
    "| 记忆力  |   60    |   100   |\n",
    "| 体力   |   5x8   |   24x7   |\n",
    "| 关注力  |   30M   |   24H   |\n",
    "| 风险   |   生病   |  电源    |\n",
    "| 可扩展  |   成本大  | 成本很小  |\n",
    "| ...    |  ...    | ...  |\n",
    "| 情商   |  感情线   |  超理智   |\n",
    "| 智慧   |   100    |  0    |\n",
    "\n",
    "> 简单的，重复的工作，计算机比人做的好！"
   ]
  }
 ],
 "metadata": {
  "celltoolbar": "幻灯片",
  "kernelspec": {
   "display_name": "Python 3",
   "language": "python",
   "name": "python3"
  },
  "language_info": {
   "codemirror_mode": {
    "name": "ipython",
    "version": 3
   },
   "file_extension": ".py",
   "mimetype": "text/x-python",
   "name": "python",
   "nbconvert_exporter": "python",
   "pygments_lexer": "ipython3",
   "version": "3.7.3"
  },
  "toc": {
   "base_numbering": 1,
   "nav_menu": {},
   "number_sections": true,
   "sideBar": true,
   "skip_h1_title": false,
   "title_cell": "Table of Contents",
   "title_sidebar": "Contents",
   "toc_cell": false,
   "toc_position": {},
   "toc_section_display": true,
   "toc_window_display": false
  }
 },
 "nbformat": 4,
 "nbformat_minor": 1
}
