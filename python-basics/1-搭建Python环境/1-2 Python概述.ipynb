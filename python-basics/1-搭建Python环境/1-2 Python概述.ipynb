{
 "cells": [
  {
   "cell_type": "markdown",
   "metadata": {
    "collapsed": true,
    "slideshow": {
     "slide_type": "slide"
    }
   },
   "source": [
    "# Python 概述\n",
    "\n",
    "自计算机发明后世界上出现的计算机编程语言超过2500种。"
   ]
  },
  {
   "cell_type": "markdown",
   "metadata": {
    "slideshow": {
     "slide_type": "slide"
    }
   },
   "source": [
    "## Python 的前世今生\n",
    "\n",
    "### Van Guido 其人其事\n",
    "\n",
    "1989年圣诞节期间，时年33岁的程序猿[吉多·范罗苏姆(Guido van Rossum)](https://www.python.org/~guido/)尚未有佳人相许，无聊假期长夜漫漫，于是乎开始编写 Python 语言。Python 语言就此诞生！\n",
    "\n",
    "![Python语言创始人](../images/GuidovanRossum.jpg 'Guido van Rossum')"
   ]
  },
  {
   "cell_type": "markdown",
   "metadata": {
    "slideshow": {
     "slide_type": "slide"
    }
   },
   "source": [
    "###  Python 版本历史\n",
    "\n",
    "与其它计算机语言的发展类似，英雄创世纪后开始高速发展，如下是 Python 的重要的历史版本：\n",
    "- Python Zero -- 1989年圣诞\n",
    "- Python 编译器 -- 1991年\n",
    "- Python1.0--1994年01月\n",
    "- Python2.0--2000年10月\n",
    "- Python3.0--2008年12月  --  Python2.6--2008年10月\n",
    "- Python3.6--2016年12月  --  Python2.7.13--2016年12月\n",
    "\n",
    "> 需要注意的是，从 2008 年 12 月之后，Python 同时有两个版本系列，分别称为Python 2 和Python 3。"
   ]
  },
  {
   "cell_type": "markdown",
   "metadata": {
    "slideshow": {
     "slide_type": "slide"
    }
   },
   "source": [
    "### Python的优缺点\n",
    "\n",
    "Python优缺点见仁见智，你眼中的优点在别人眼中也许是缺点:\n",
    "- 简单易学（simple and easy-to-learn）\n",
    "- 功能强大（powerful）\n",
    "- 高效能\n",
    "- 可移植\n",
    "- 开源\n",
    "- 运行速度慢\n",
    "- 代码不加密"
   ]
  },
  {
   "cell_type": "markdown",
   "metadata": {
    "slideshow": {
     "slide_type": "slide"
    }
   },
   "source": [
    "### 简单易学（simple and easy-to-learn）\n",
    "\n",
    "Python 语言设计目标是简单易学，其有个愿景是：人人都是程序员（[Everybody a Programmer](http://legacy.python.org/doc/essays/ppt/acm-cp4e/sld003.htm)）。像老头乐一样，遇到小问题自己就用 Python 解决，痒了自己挠蛮好。\n",
    "\n",
    "Python 在设计上坚持了清晰划一风格，有意设计了限制性很强语法，保证了 Python 代码的友好和一致。甚至有人认为，Python 程序接近于伪代码，读代码如同读英语一般。"
   ]
  },
  {
   "cell_type": "markdown",
   "metadata": {
    "slideshow": {
     "slide_type": "slide"
    }
   },
   "source": [
    "Python语言很适合作为用户首个学习的计算机语言。\n",
    "\n",
    "> 人人都是程序员（[Everybody a Programmer](http://legacy.python.org/doc/essays/ppt/acm-cp4e/sld003.htm)）"
   ]
  },
  {
   "cell_type": "markdown",
   "metadata": {
    "slideshow": {
     "slide_type": "slide"
    }
   },
   "source": [
    "## Python 的应用范围与发展态势\n",
    "\n",
    "Python 的应用范围广泛，包括如下领域：\n",
    "- Web 开发、网络爬虫\n",
    "- 数据分析、人工智能\n",
    "- 自动运维开发\n",
    "- 自动化测试\n",
    "- 云计算\n",
    "- 量化交易\n",
    "- 科学计算\n",
    "- 树莓派智能设备"
   ]
  },
  {
   "cell_type": "markdown",
   "metadata": {
    "slideshow": {
     "slide_type": "slide"
    }
   },
   "source": [
    "[TIOBE 开发语言排行榜](http://www.tiobe.com/tiobe_index?page=index)使用搜索引擎等对大约 200 多个开发语言进行统计排名，借此反映某个编程语言的热门程度。最新统计显示，Python 语言目前排名第 3 位。\n",
    "\n",
    "![TIOBE 开发语言排行榜](../images/tiobe_Jan2019.png)"
   ]
  },
  {
   "cell_type": "markdown",
   "metadata": {
    "slideshow": {
     "slide_type": "slide"
    }
   },
   "source": [
    "## 小结\n",
    "\n",
    "在 TIOBE 开发语言排行榜排名靠前的几个语言中，除了 Python 语言之外，其它 C、C++、Java语言都是编译语言。Van Guido 在开发 Python 之初也曾建议把 Python 语言当做其它编译的第二语言。时至今日，笔者建议学习掌握一种编译语言和一种解释型脚本语言即可。"
   ]
  }
 ],
 "metadata": {
  "celltoolbar": "幻灯片",
  "kernelspec": {
   "display_name": "Python 3",
   "language": "python",
   "name": "python3"
  },
  "language_info": {
   "codemirror_mode": {
    "name": "ipython",
    "version": 3
   },
   "file_extension": ".py",
   "mimetype": "text/x-python",
   "name": "python",
   "nbconvert_exporter": "python",
   "pygments_lexer": "ipython3",
   "version": "3.7.3"
  },
  "toc": {
   "base_numbering": 1,
   "nav_menu": {},
   "number_sections": true,
   "sideBar": true,
   "skip_h1_title": false,
   "title_cell": "Table of Contents",
   "title_sidebar": "Contents",
   "toc_cell": false,
   "toc_position": {
    "height": "calc(100% - 180px)",
    "left": "10px",
    "top": "150px",
    "width": "349px"
   },
   "toc_section_display": true,
   "toc_window_display": false
  }
 },
 "nbformat": 4,
 "nbformat_minor": 1
}
