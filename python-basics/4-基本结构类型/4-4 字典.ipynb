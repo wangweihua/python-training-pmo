{
 "cells": [
  {
   "cell_type": "markdown",
   "metadata": {
    "slideshow": {
     "slide_type": "slide"
    }
   },
   "source": [
    "# 基本结构类型-字典(dict)\n",
    "\n",
    "使用映射的方法，可以把简单与复杂、易记与难懂对应起来，方便操作。\n",
    "<img src=\"../images/dict_idcard.jpg\" style=\"zoom:20%\" />"
   ]
  },
  {
   "cell_type": "markdown",
   "metadata": {
    "slideshow": {
     "slide_type": "slide"
    }
   },
   "source": [
    "## 创建字典对象\n",
    "\n",
    "字典是由键-值对（`key-value`）数据项组成的集合，可以使用`{}`来创建字典对象。字典可以包含0个或多个键值对（key-value）数据项，键值对的键与值用冒号(`:`)进行分隔，一个键值对就是字典的一个元素，元素之间仍用逗号`,`进行分隔。定义字典对象的语法格式为：\n",
    "```\n",
    "d = {\n",
    "    key1: value1, \n",
    "    key2: value2,\n",
    "    key3: value3,\n",
    "}\n",
    "```"
   ]
  },
  {
   "cell_type": "code",
   "execution_count": 18,
   "metadata": {
    "slideshow": {
     "slide_type": "slide"
    }
   },
   "outputs": [
    {
     "name": "stdout",
     "output_type": "stream",
     "text": [
      "{}\n",
      "{'name': 'Peter', '名字': 'Peter'}\n",
      "{'code': 600519, 'name': '贵州茅台', 'listing_date': 20010827, 'issue_price': 34.51, 'low_price': 25.88}\n"
     ]
    }
   ],
   "source": [
    "emptydict = {}\n",
    "stock = {\n",
    "    'code': 600519 , \n",
    "    'name': '贵州茅台', \n",
    "    'listing_date': 20010827,\n",
    "    'issue_price': 34.51,\n",
    "    'low_price': 25.88,    \n",
    "}\n",
    "d1 = {'name': 'Weihua', '名字': 'Peter', 'name': 'Peter'}\n",
    "print(emptydict)\n",
    "print(d1)\n",
    "print(stock)"
   ]
  },
  {
   "cell_type": "markdown",
   "metadata": {
    "slideshow": {
     "slide_type": "slide"
    }
   },
   "source": [
    "## 自省"
   ]
  },
  {
   "cell_type": "code",
   "execution_count": 19,
   "metadata": {
    "slideshow": {
     "slide_type": "-"
    }
   },
   "outputs": [
    {
     "name": "stdout",
     "output_type": "stream",
     "text": [
      "<class 'dict'> <class 'dict'>\n"
     ]
    }
   ],
   "source": [
    "# 创建的字典对象都是 Python 内置结构类型字典（dict）的实例对象：\n",
    "print(type(emptydict), type({}))"
   ]
  },
  {
   "cell_type": "markdown",
   "metadata": {
    "slideshow": {
     "slide_type": "slide"
    }
   },
   "source": [
    "字典包含多个元素时，字典会维持一个键值序号对，并分别指向键值对应的对象。例如下面创建一个字典对象："
   ]
  },
  {
   "cell_type": "code",
   "execution_count": null,
   "metadata": {
    "slideshow": {
     "slide_type": "-"
    }
   },
   "outputs": [],
   "source": [
    "datatypes = {\n",
    "    'int': 1, \n",
    "    'str': 'Hello World', \n",
    "    'list': [128],\n",
    "}"
   ]
  },
  {
   "cell_type": "markdown",
   "metadata": {
    "slideshow": {
     "slide_type": "slide"
    }
   },
   "source": [
    "创建的字典对象以及每个元素的键与值对象，如下图所示：\n",
    "![字典与元素](../images/dict_objects.png)"
   ]
  },
  {
   "cell_type": "markdown",
   "metadata": {
    "slideshow": {
     "slide_type": "slide"
    }
   },
   "source": [
    "### 属性和方法"
   ]
  },
  {
   "cell_type": "markdown",
   "metadata": {
    "slideshow": {
     "slide_type": "-"
    }
   },
   "source": [
    "##### 序列运算符\n",
    "\n",
    "\n",
    "|运算符 | 魔术方法    |  说明   |\n",
    "| :----:|:-------------| -------: |\n",
    "|`len()` | `__len__`   | 返回元素数目  |\n",
    "|`in` | `__contains__`   | 成员 |\n",
    "|`D[k]`  | `__getitem__` | 访问元素  |\n",
    "|`D[k] = value`  | `__setitem__` | 修改元素  |\n",
    "|`del D[k]`  | `__delitem__` | 删除元素  |"
   ]
  },
  {
   "cell_type": "markdown",
   "metadata": {
    "slideshow": {
     "slide_type": "slide"
    }
   },
   "source": [
    "对于字典对象来说，使用方括号`[]`运算符，并给定字典的键，即可访问对应的值："
   ]
  },
  {
   "cell_type": "code",
   "execution_count": null,
   "metadata": {
    "slideshow": {
     "slide_type": "-"
    }
   },
   "outputs": [],
   "source": [
    "print(stock['name'], stock['listing_date'], stock['issue_price'])\n",
    "print(stock['low_price'])"
   ]
  },
  {
   "cell_type": "markdown",
   "metadata": {
    "slideshow": {
     "slide_type": "slide"
    }
   },
   "source": [
    "注意，访问字典元素时，如果指定了字典里不存在的键，会抛出键错误`KeyError`异常："
   ]
  },
  {
   "cell_type": "code",
   "execution_count": null,
   "metadata": {
    "slideshow": {
     "slide_type": "-"
    }
   },
   "outputs": [],
   "source": [
    "print(stock['no key'])"
   ]
  },
  {
   "cell_type": "markdown",
   "metadata": {
    "slideshow": {
     "slide_type": "slide"
    }
   },
   "source": [
    "字典是可变对象，可以向字典里添加元素或更改键值，语法:\n",
    "```\n",
    "D[key] = value\n",
    "```\n",
    "\n",
    "当字典不存在该键时，会添加了新的键值对，如果字典存在该键，会更改该键对应的值："
   ]
  },
  {
   "cell_type": "code",
   "execution_count": 12,
   "metadata": {
    "slideshow": {
     "slide_type": "-"
    }
   },
   "outputs": [
    {
     "name": "stdout",
     "output_type": "stream",
     "text": [
      "4186130.0\n"
     ]
    }
   ],
   "source": [
    "# 增加新的键值对\n",
    "stock['current_date'] = 20180612\n",
    "stock['current_price'] = 4212.01\n",
    "stock['position'] = 1000\n",
    "stock['return'] = (stock['current_price'] - stock['low_price']) * stock['position']\n",
    "print(stock['return'])"
   ]
  },
  {
   "cell_type": "markdown",
   "metadata": {
    "slideshow": {
     "slide_type": "slide"
    }
   },
   "source": [
    "#### 常规方法\n",
    "\n",
    "字典类型还定义常规方法，实现字典的更多操作：\n",
    "\n",
    "|方法         |  说明      |\n",
    "|:--------------:|-------------: |\n",
    "|`D.keys()`      | 返回字典中所有键 |\n",
    "|`T.values()`    | 返回字典中所有值 |\n",
    "|`D.items()`    | 返回字典中键值对|\n",
    "|`D.get()`    | 返回指定键的值 |\n",
    "|`D.update()`    | 更新字典 |\n",
    "|`D.setdefault()`  | 返回给定键的值 |\n",
    "|`D.pop()`    | 弹出指定键的元素并返回其值|\n",
    "|`T.popitem()`    | 弹出键值对 |\n",
    "|`D.clear()`    | 清空字典 |\n",
    "|`D.copy()`    | 浅拷贝字典 |\n",
    "|`D.fromkeys()`    | 创建新的字典 |"
   ]
  },
  {
   "cell_type": "markdown",
   "metadata": {
    "slideshow": {
     "slide_type": "slide"
    }
   },
   "source": [
    "## 操作和方法示例"
   ]
  },
  {
   "cell_type": "markdown",
   "metadata": {
    "slideshow": {
     "slide_type": "slide"
    }
   },
   "source": [
    "`D.pop()`从字典中删除给定键的元素，同时返回该键对应的值。"
   ]
  },
  {
   "cell_type": "code",
   "execution_count": null,
   "metadata": {
    "slideshow": {
     "slide_type": "-"
    }
   },
   "outputs": [],
   "source": [
    "d1 = {'id': 123, 'name': 'Peter'}\n",
    "name = d1.pop('name')\n",
    "print(name, d1)\n",
    "score = d1.pop('score', 100)\n",
    "print(score, d1)"
   ]
  },
  {
   "cell_type": "markdown",
   "metadata": {
    "slideshow": {
     "slide_type": "slide"
    }
   },
   "source": [
    "### 修改字典\n",
    "\n",
    "使用运算符`D[key] = value`来添加或更改字典的键值对。\n",
    "\n",
    "使用`D.update()`方法则可以从另一字典中添加和更新键值对：\n"
   ]
  },
  {
   "cell_type": "code",
   "execution_count": null,
   "metadata": {
    "slideshow": {
     "slide_type": "-"
    }
   },
   "outputs": [],
   "source": [
    "d1 = {'id': 123, 'name': 'Peter'}\n",
    "d2 = {'id': 1, 'score': 99}\n",
    "d1.update(d2)\n",
    "print(d1)"
   ]
  },
  {
   "cell_type": "markdown",
   "metadata": {
    "slideshow": {
     "slide_type": "slide"
    }
   },
   "source": [
    "### 列出字典内容\n",
    "\n",
    "- `D.keys()`返回字典所有键；\n",
    "- `D.values()`返回字典所有值；\n",
    "- `D.items()`返回字典所有键值对元素；"
   ]
  },
  {
   "cell_type": "code",
   "execution_count": null,
   "metadata": {
    "slideshow": {
     "slide_type": "slide"
    }
   },
   "outputs": [],
   "source": [
    "for key in stock.keys():\n",
    "    print(key, end = ', ')"
   ]
  },
  {
   "cell_type": "code",
   "execution_count": null,
   "metadata": {
    "slideshow": {
     "slide_type": "slide"
    }
   },
   "outputs": [],
   "source": [
    "for value in stock.values():\n",
    "    print(key, end = ', ')"
   ]
  },
  {
   "cell_type": "code",
   "execution_count": null,
   "metadata": {
    "slideshow": {
     "slide_type": "slide"
    }
   },
   "outputs": [],
   "source": [
    "for key, value in stock.items():\n",
    "    print('{} - {}'.format(key, value))"
   ]
  },
  {
   "cell_type": "markdown",
   "metadata": {
    "slideshow": {
     "slide_type": "slide"
    }
   },
   "source": [
    "## 转换\n",
    "\n",
    "使用内置`dict`类构造对象:\n",
    "- 不传入参数，返回空字典；\n",
    "- 传入映射对象，返回字典\n",
    "- 传入迭代对象，返回字典。"
   ]
  },
  {
   "cell_type": "code",
   "execution_count": 14,
   "metadata": {
    "slideshow": {
     "slide_type": "-"
    }
   },
   "outputs": [
    {
     "name": "stdout",
     "output_type": "stream",
     "text": [
      "{}\n"
     ]
    }
   ],
   "source": [
    "d1 = dict()\n",
    "print(d1)"
   ]
  },
  {
   "cell_type": "code",
   "execution_count": 15,
   "metadata": {
    "slideshow": {
     "slide_type": "slide"
    }
   },
   "outputs": [
    {
     "name": "stdout",
     "output_type": "stream",
     "text": [
      "{'x': 1, 'y': 2}\n"
     ]
    }
   ],
   "source": [
    "d2 = dict(x=1, y=2)\n",
    "print(d2)"
   ]
  },
  {
   "cell_type": "code",
   "execution_count": 16,
   "metadata": {
    "slideshow": {
     "slide_type": "-"
    }
   },
   "outputs": [
    {
     "name": "stdout",
     "output_type": "stream",
     "text": [
      "{'code': 600519, 'name': '贵州茅台', 'listing_date': 20010827, 'issue_price': 34.51, 'low_price': 25.88}\n"
     ]
    }
   ],
   "source": [
    "keys = ('code', 'name', 'listing_date', 'issue_price', 'low_price')\n",
    "values = (600519 , '贵州茅台', 20010827, 34.51, 25.88)\n",
    "stock3 = zip(keys, values)\n",
    "print(dict(stock3))"
   ]
  }
 ],
 "metadata": {
  "celltoolbar": "幻灯片",
  "kernelspec": {
   "display_name": "Python 3",
   "language": "python",
   "name": "python3"
  },
  "language_info": {
   "codemirror_mode": {
    "name": "ipython",
    "version": 3
   },
   "file_extension": ".py",
   "mimetype": "text/x-python",
   "name": "python",
   "nbconvert_exporter": "python",
   "pygments_lexer": "ipython3",
   "version": "3.7.3"
  },
  "toc": {
   "base_numbering": 1,
   "nav_menu": {},
   "number_sections": true,
   "sideBar": true,
   "skip_h1_title": false,
   "title_cell": "Table of Contents",
   "title_sidebar": "Contents",
   "toc_cell": false,
   "toc_position": {
    "height": "calc(100% - 180px)",
    "left": "10px",
    "top": "150px",
    "width": "253px"
   },
   "toc_section_display": true,
   "toc_window_display": true
  }
 },
 "nbformat": 4,
 "nbformat_minor": 1
}
