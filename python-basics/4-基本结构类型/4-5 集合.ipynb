{
 "cells": [
  {
   "cell_type": "markdown",
   "metadata": {
    "slideshow": {
     "slide_type": "slide"
    }
   },
   "source": [
    "# 基本结构类型-集合(set)\n",
    "\n",
    "集合是数学中一个基本概念。Python 内置的集合（set）类型适用于异质，无序、唯一、可变，无映射的数据集。与列表有些类似，但差别在于集合中的元素是唯一的，无序的。"
   ]
  },
  {
   "cell_type": "markdown",
   "metadata": {
    "slideshow": {
     "slide_type": "slide"
    }
   },
   "source": [
    "## 创建集合对象\n",
    "\n",
    "在 Python 中使用`{}`来创建集合对象，包括0个或多个对象。但要注意**字典对象也是用大括号 `{}` 来创建**，字典的元素是一个键值对，集合的一个元素就是一个对象，二者能够区别开来的。但是当当创建空集合时，就无法区别了，故只能使用 Python 内置函数`set()`来创建空集合。"
   ]
  },
  {
   "cell_type": "code",
   "execution_count": 1,
   "metadata": {
    "slideshow": {
     "slide_type": "-"
    }
   },
   "outputs": [
    {
     "name": "stdout",
     "output_type": "stream",
     "text": [
      "set()\n",
      "{'黄', '绿', '红'}\n",
      "{'banana', 'apple', 'pear', 'orange'}\n"
     ]
    }
   ],
   "source": [
    "emptyset = set()\n",
    "colors = {'红', '黄', '绿', '红', '黄'}\n",
    "basket = {'apple', 'orange', 'apple', 'pear', 'orange', 'banana'}\n",
    "print(emptyset)\n",
    "print(colors)\n",
    "print(basket)"
   ]
  },
  {
   "cell_type": "markdown",
   "metadata": {
    "slideshow": {
     "slide_type": "slide"
    }
   },
   "source": [
    "## 自省"
   ]
  },
  {
   "cell_type": "code",
   "execution_count": 2,
   "metadata": {
    "slideshow": {
     "slide_type": "-"
    }
   },
   "outputs": [
    {
     "name": "stdout",
     "output_type": "stream",
     "text": [
      "<class 'set'> <class 'set'> <class 'set'> <class 'dict'>\n"
     ]
    }
   ],
   "source": [
    "print(type(colors), type(basket), type(set()), type({}))"
   ]
  },
  {
   "cell_type": "markdown",
   "metadata": {
    "slideshow": {
     "slide_type": "slide"
    }
   },
   "source": [
    "集合包含多个元素时，字典会维持一个键值序号对，并分别指向对应的对象。例如下面创建两个字典对象："
   ]
  },
  {
   "cell_type": "code",
   "execution_count": 3,
   "metadata": {
    "slideshow": {
     "slide_type": "-"
    }
   },
   "outputs": [],
   "source": [
    "datatypes = {128, 3.13, 'Hello World'}"
   ]
  },
  {
   "cell_type": "markdown",
   "metadata": {
    "slideshow": {
     "slide_type": "slide"
    }
   },
   "source": [
    "创建的集合对象以及每个元素，如下图所示：\n",
    "![集合与元素](../images/set_objects.png)"
   ]
  },
  {
   "cell_type": "markdown",
   "metadata": {
    "slideshow": {
     "slide_type": "slide"
    }
   },
   "source": [
    "### 属性和方法"
   ]
  },
  {
   "cell_type": "markdown",
   "metadata": {
    "slideshow": {
     "slide_type": "-"
    }
   },
   "source": [
    "##### 集合运算\n",
    "\n",
    "这些魔术方法用来实现集合的差集，交集，并集，对称差集等操作。\n",
    "\n",
    "|运算符 | 魔术方法    |  说明   |\n",
    "| :----:|:-------------| -------: |\n",
    "| `-`  | `__sub__`    | 计算差集   |\n",
    "| `&`    | `__and__`  | 计算交集  |\n",
    "| <code>&#124;</code>  | `__or__`    | 计算并集  |\n",
    "| `^`    | `__xor__`   | 计算对称差集|\n",
    "| `-=`    | `__isub__`   | 计算差集并更新  |\n",
    "| `&=`    | `__iand__`   | 计算交集并更新  |\n",
    "| <code>&#124;=</code>    | `__ior__`    | 计算并集并更新  |\n",
    "| `^=`    | `__ixor__`   | 计算堆成差集并更新 |"
   ]
  },
  {
   "cell_type": "markdown",
   "metadata": {
    "slideshow": {
     "slide_type": "slide"
    }
   },
   "source": [
    "##### 序列运算符\n",
    "\n",
    "|操作符 | 特殊方法    |  说明   |\n",
    "| :----:|:-------------| -------: |\n",
    "|`len()` | `__len__`   | 返回元素数目  |\n",
    "|`in` | `__contains__`   | 成员 |"
   ]
  },
  {
   "cell_type": "markdown",
   "metadata": {
    "slideshow": {
     "slide_type": "-"
    }
   },
   "source": [
    "使用成员运算符 `in` 来检查指定对象是否在集合中："
   ]
  },
  {
   "cell_type": "code",
   "execution_count": 4,
   "metadata": {
    "slideshow": {
     "slide_type": "-"
    }
   },
   "outputs": [
    {
     "name": "stdout",
     "output_type": "stream",
     "text": [
      "True\n",
      "True\n"
     ]
    }
   ],
   "source": [
    "print('红' in colors)\n",
    "print('apple' in basket)"
   ]
  },
  {
   "cell_type": "markdown",
   "metadata": {
    "slideshow": {
     "slide_type": "slide"
    }
   },
   "source": [
    "##### 元素操作\n",
    "\n",
    "|方法         |  说明      |\n",
    "|:--------------:|-------------: |\n",
    "|`s.add()`     | 添加元素 |\n",
    "|`s.update()`    | 更新集合 |\n",
    "|`s.remove()`    | 移除元素 |\n",
    "|`s.discard()`    | 移除元素 |\n",
    "|`s.pop()`      | 弹出元素 |\n",
    "|`s.clear()`    | 删除所有元素 |\n",
    "|`s.copy()`     | 浅拷贝 |"
   ]
  },
  {
   "cell_type": "markdown",
   "metadata": {
    "slideshow": {
     "slide_type": "slide"
    }
   },
   "source": [
    "##### 集合操作\n",
    "\n",
    "|方法         |  说明      |\n",
    "|:-----------------:|-------------: |\n",
    "|`s.union()`    | 计算并集 |\n",
    "|`s.intersection()`      | 计算交集 |\n",
    "|`s.intersection_update()`    | 计算交集并更新 |\n",
    "|`s.difference()`      | 计算差集 |\n",
    "|`s.difference_update()`  | 计算差集并更新 |\n",
    "|`s.symmetric_difference()`   | 计算对称差集   |\n",
    "|`s.symmetric_difference_update()`    | 计算对称差集并更新 |"
   ]
  },
  {
   "cell_type": "markdown",
   "metadata": {
    "slideshow": {
     "slide_type": "slide"
    }
   },
   "source": [
    "##### 测试操作\n",
    "\n",
    "|方法         |  说明      |\n",
    "|:-----------------:|-------------: |\n",
    "|`s.issubset()`       | 子集测试 |\n",
    "|`s.issuperset()`  | 超集测试 |\n",
    "|`s.isdisjoint()`  | 测试集合是否不相交 |"
   ]
  },
  {
   "cell_type": "markdown",
   "metadata": {
    "slideshow": {
     "slide_type": "slide"
    }
   },
   "source": [
    "## 操作和方法示例"
   ]
  },
  {
   "cell_type": "markdown",
   "metadata": {
    "slideshow": {
     "slide_type": "slide"
    }
   },
   "source": [
    "### 增加元素\n",
    "\n",
    "集合对象是可变对象，可以添加元素：\n",
    "- `set.add()`\n",
    "- `set.update()`"
   ]
  },
  {
   "cell_type": "code",
   "execution_count": 5,
   "metadata": {
    "slideshow": {
     "slide_type": "-"
    }
   },
   "outputs": [
    {
     "name": "stdout",
     "output_type": "stream",
     "text": [
      "{'黄', '绿', '红'}\n",
      "{'黄', '绿', '白', '红', '黑'}\n",
      "{'黄', '绿', '白', '红', '黑'}\n"
     ]
    }
   ],
   "source": [
    "# set add method\n",
    "colors = {'红', '黄', '绿', '红', '黄'}\n",
    "print(colors)\n",
    "colors.add('黑')\n",
    "colors.add('白')\n",
    "print(colors)\n",
    "colors.add('黄')\n",
    "print(colors)"
   ]
  },
  {
   "cell_type": "markdown",
   "metadata": {
    "slideshow": {
     "slide_type": "slide"
    }
   },
   "source": [
    "使用`set.update()`添加多个元素，参数是包含多个元素的列表、元组、字典等数据结构对象。\n",
    "\n",
    "可以一次传入多个参数。"
   ]
  },
  {
   "cell_type": "code",
   "execution_count": 6,
   "metadata": {
    "slideshow": {
     "slide_type": "-"
    }
   },
   "outputs": [
    {
     "name": "stdout",
     "output_type": "stream",
     "text": [
      "{0, 1, 2, 3, 4, 5, 6, 7, 8, '黄', '绿', '白', '红', '黑'}\n"
     ]
    }
   ],
   "source": [
    "bigset = set()\n",
    "digits = {0, 1, 2, 3, 4, 5 , 6,7, 8, 8}\n",
    "bigset.update(colors, digits)\n",
    "print(bigset)"
   ]
  },
  {
   "cell_type": "markdown",
   "metadata": {
    "slideshow": {
     "slide_type": "slide"
    }
   },
   "source": [
    "### 删除元素\n",
    "\n",
    "从集合中删除元素的方法包括：\n",
    "- `set.remove()`\n",
    "- `set.discard()`\n",
    "- `set.pop()`\n",
    "- `set.clear()`"
   ]
  },
  {
   "cell_type": "markdown",
   "metadata": {
    "slideshow": {
     "slide_type": "slide"
    }
   },
   "source": [
    "`set.discard()`也会移除中的元素，但当元素不存在时，就啥也不干，也不会抛出异常。"
   ]
  },
  {
   "cell_type": "code",
   "execution_count": 7,
   "metadata": {
    "slideshow": {
     "slide_type": "-"
    }
   },
   "outputs": [
    {
     "name": "stdout",
     "output_type": "stream",
     "text": [
      "{0, 1, 2, 3, 4, 5, 6, 7, 8, 9}\n",
      "{0, 1, 2, 3, 4, 5, 6, 7, 8}\n",
      "{1, 2, 3, 4, 5, 6, 7, 8}\n"
     ]
    }
   ],
   "source": [
    "digits = set([0, 1, 2, 3, 4, 5, 6, 7, 8, 9])\n",
    "print(digits)\n",
    "digits.discard(9)\n",
    "print(digits)\n",
    "digits.discard(0)\n",
    "digits.discard('NotAMember')\n",
    "print(digits)"
   ]
  },
  {
   "cell_type": "markdown",
   "metadata": {
    "slideshow": {
     "slide_type": "subslide"
    }
   },
   "source": [
    "### 并集计算\n",
    "\n",
    "A和B的并集就是把两个集合可以“相加”，是将A和B的元素放到一起构成的新集合。\n",
    "![并集](../images/set_union2.png)"
   ]
  },
  {
   "cell_type": "code",
   "execution_count": 8,
   "metadata": {
    "slideshow": {
     "slide_type": "slide"
    }
   },
   "outputs": [
    {
     "name": "stdout",
     "output_type": "stream",
     "text": [
      "{'a', 'c', 'd', 'b', 'r'} {'a', 'l', 'c', 'z', 'm'}\n",
      "{'a', 'l', 'c', 'z', 'd', 'b', 'r', 'm'}\n",
      "{'a', 'l', 'c', 'z', 'd', 'b', 'r', 'm'}\n"
     ]
    }
   ],
   "source": [
    "# set union\n",
    "sa = set('abracadabra')\n",
    "sb = set('alacazam')\n",
    "print(sa, sb)\n",
    "print(sa | sb)\n",
    "print(sa.union(sb))"
   ]
  },
  {
   "cell_type": "markdown",
   "metadata": {
    "slideshow": {
     "slide_type": "slide"
    }
   },
   "source": [
    "### 交集\n",
    "\n",
    "通过两个集合共有的元素来构造新的集合。A和B的交集，是既属于A的、又属于B的所有元素组成的集合。\n",
    "![交集](../images/set_intersection2.png)"
   ]
  },
  {
   "cell_type": "code",
   "execution_count": 9,
   "metadata": {
    "slideshow": {
     "slide_type": "slide"
    }
   },
   "outputs": [
    {
     "name": "stdout",
     "output_type": "stream",
     "text": [
      "{'a', 'c'}\n",
      "{'a', 'c'}\n"
     ]
    }
   ],
   "source": [
    "# set intersection\n",
    "sa = set('abracadabra')\n",
    "sb = set('alacazam')\n",
    "print(sa & sb)\n",
    "print(sa.intersection(sb))"
   ]
  },
  {
   "cell_type": "markdown",
   "metadata": {
    "slideshow": {
     "slide_type": "slide"
    }
   },
   "source": [
    "## 遍历集合"
   ]
  },
  {
   "cell_type": "code",
   "execution_count": 10,
   "metadata": {
    "slideshow": {
     "slide_type": "-"
    }
   },
   "outputs": [
    {
     "name": "stdout",
     "output_type": "stream",
     "text": [
      "走起\n",
      "走起\n",
      "停下来\n"
     ]
    }
   ],
   "source": [
    "colors = {'红', '绿', '黄'}\n",
    "for color in colors:\n",
    "    if color == '红':\n",
    "        print('停下来')\n",
    "    else:\n",
    "        print('走起')        "
   ]
  },
  {
   "cell_type": "markdown",
   "metadata": {
    "slideshow": {
     "slide_type": "slide"
    }
   },
   "source": [
    "## 转换\n",
    "\n",
    "使用内置`set`类构造对象:\n",
    "- 不传入参数，返回空集合；\n",
    "- 传入迭代对象，返回新的集合对象。"
   ]
  },
  {
   "cell_type": "code",
   "execution_count": 11,
   "metadata": {
    "slideshow": {
     "slide_type": "-"
    }
   },
   "outputs": [
    {
     "name": "stdout",
     "output_type": "stream",
     "text": [
      "{0, 1, 2, 3, 4, 5, 6, 7, 8}\n"
     ]
    }
   ],
   "source": [
    "digits = set(range(9))\n",
    "print(digits)"
   ]
  }
 ],
 "metadata": {
  "celltoolbar": "幻灯片",
  "kernelspec": {
   "display_name": "Python 3",
   "language": "python",
   "name": "python3"
  },
  "language_info": {
   "codemirror_mode": {
    "name": "ipython",
    "version": 3
   },
   "file_extension": ".py",
   "mimetype": "text/x-python",
   "name": "python",
   "nbconvert_exporter": "python",
   "pygments_lexer": "ipython3",
   "version": "3.7.3"
  },
  "toc": {
   "base_numbering": 1,
   "nav_menu": {},
   "number_sections": true,
   "sideBar": true,
   "skip_h1_title": false,
   "title_cell": "Table of Contents",
   "title_sidebar": "Contents",
   "toc_cell": false,
   "toc_position": {
    "height": "calc(100% - 180px)",
    "left": "10px",
    "top": "150px",
    "width": "253px"
   },
   "toc_section_display": true,
   "toc_window_display": true
  }
 },
 "nbformat": 4,
 "nbformat_minor": 1
}
