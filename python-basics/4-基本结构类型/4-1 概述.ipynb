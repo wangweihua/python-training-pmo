{
 "cells": [
  {
   "cell_type": "markdown",
   "metadata": {
    "slideshow": {
     "slide_type": "slide"
    }
   },
   "source": [
    "# 基本结构类型概述\n",
    "\n",
    "Python 基本数据类型：\n",
    "- 数字型\n",
    "    - 整数（int）、布尔数（bool）、浮点数（float）、复数（complex）\n",
    "- 文本：    \n",
    "    - 字符串（str）\n",
    "- 空（NoneType）"
   ]
  },
  {
   "cell_type": "markdown",
   "metadata": {
    "slideshow": {
     "slide_type": "slide"
    }
   },
   "source": [
    "很多数据组织在一起，可以成为数据集。根据数据集的数据情况可以用如下几个维度来描述：\n",
    "- 同质（Homogeneous）或异质（inhomogeneous），数据集中的数据类型一样或不一样\n",
    "- 可变（mutable）或不可变（immutable），数据集可以更改还是不允许更改\n",
    "- 独一（unique）或重复（duplicated），数据集中的元素是独一或可重复\n",
    "- 有序（ordered）或无序（unordered），数据集中的元素有序或无序\n",
    "- 映射（mapping）或无映射（no mapping），数据集中的元素有映射或无映射"
   ]
  },
  {
   "cell_type": "markdown",
   "metadata": {
    "slideshow": {
     "slide_type": "slide"
    }
   },
   "source": [
    "Python 内置提供一些常用数据结构类型\n",
    "- 序列（sequences）  \n",
    "    - 列表（list）\n",
    "    - 元祖（tuple）\n",
    "    - 集合（set）    \n",
    "- 映射（mapping）  \n",
    "    - 字典（dict）    "
   ]
  },
  {
   "cell_type": "markdown",
   "metadata": {
    "slideshow": {
     "slide_type": "slide"
    }
   },
   "source": [
    "字符串也算是一种可结构类型。\n",
    "\n",
    "下表列出了这些数据结构类型在上述几个维度的描述： \n",
    "\n",
    "| 结构      | 同质 | 可变 | 重复 |  有序  | 映射 |\n",
    "|------------:|-----:|-----:|-----:|-----:|-----:|\n",
    "|列表（list） | 否   |  是 | 是   | 是 |  否  |\n",
    "|元组（tuple）| 否   |  否 | 是   | 是 |  否  |\n",
    "|集合（set）  | 否   |  是 | 否   | 否 |  否  |\n",
    "|字典（dict） | 否   |  是 | 是   | 否 |  是  |\n",
    "|字符串（str）| 是   |  否 | 是   | 是 |  否  |"
   ]
  }
 ],
 "metadata": {
  "celltoolbar": "幻灯片",
  "kernelspec": {
   "display_name": "Python 3",
   "language": "python",
   "name": "python3"
  },
  "language_info": {
   "codemirror_mode": {
    "name": "ipython",
    "version": 3
   },
   "file_extension": ".py",
   "mimetype": "text/x-python",
   "name": "python",
   "nbconvert_exporter": "python",
   "pygments_lexer": "ipython3",
   "version": "3.7.3"
  },
  "toc": {
   "base_numbering": 1,
   "nav_menu": {},
   "number_sections": true,
   "sideBar": true,
   "skip_h1_title": false,
   "title_cell": "Table of Contents",
   "title_sidebar": "Contents",
   "toc_cell": false,
   "toc_position": {},
   "toc_section_display": true,
   "toc_window_display": false
  }
 },
 "nbformat": 4,
 "nbformat_minor": 2
}
