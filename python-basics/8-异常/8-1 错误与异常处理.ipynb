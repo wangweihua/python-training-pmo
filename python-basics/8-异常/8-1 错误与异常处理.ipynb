{
 "cells": [
  {
   "cell_type": "markdown",
   "metadata": {
    "slideshow": {
     "slide_type": "slide"
    }
   },
   "source": [
    "# 错误和异常处理\n",
    "\n",
    "- 写程序的时候尽量少写容易出错的代码；\n",
    "- 代码出错的时候能够认识出错信息，尽快找到出错原因。"
   ]
  },
  {
   "cell_type": "markdown",
   "metadata": {
    "slideshow": {
     "slide_type": "-"
    }
   },
   "source": [
    "> 像硬币一样，任何事物都具有两重性或两面性。  "
   ]
  },
  {
   "cell_type": "markdown",
   "metadata": {
    "slideshow": {
     "slide_type": "slide"
    }
   },
   "source": [
    "## 错误和异常\n",
    "\n",
    "1. 编写代码时出的错误，称之为语法错误；\n",
    "2. 语法正确，在运行期检测到的错误，称之为异常；\n",
    "3. 语法正确且运行无异常，但结果与预期的不同，称之为理解错误。"
   ]
  },
  {
   "cell_type": "markdown",
   "metadata": {
    "slideshow": {
     "slide_type": "slide"
    }
   },
   "source": [
    "### 语法错误\n",
    "\n",
    "在初学 Python 时会经常碰到 Python 语法错误，例如在变量命名时使用了 Python 关键词："
   ]
  },
  {
   "cell_type": "code",
   "execution_count": 1,
   "metadata": {
    "slideshow": {
     "slide_type": "-"
    }
   },
   "outputs": [
    {
     "ename": "SyntaxError",
     "evalue": "invalid syntax (<ipython-input-1-8a281da2a97a>, line 1)",
     "output_type": "error",
     "traceback": [
      "\u001b[0;36m  File \u001b[0;32m\"<ipython-input-1-8a281da2a97a>\"\u001b[0;36m, line \u001b[0;32m1\u001b[0m\n\u001b[0;31m    global = 10\u001b[0m\n\u001b[0m           ^\u001b[0m\n\u001b[0;31mSyntaxError\u001b[0m\u001b[0;31m:\u001b[0m invalid syntax\n"
     ]
    }
   ],
   "source": [
    "global = 10"
   ]
  },
  {
   "cell_type": "code",
   "execution_count": null,
   "metadata": {
    "slideshow": {
     "slide_type": "slide"
    }
   },
   "outputs": [],
   "source": [
    "if kilometer == 1000:\n",
    "    print('Unit is km')\n",
    "else\n",
    "    print('No happen!')"
   ]
  },
  {
   "cell_type": "code",
   "execution_count": null,
   "metadata": {
    "slideshow": {
     "slide_type": "-"
    }
   },
   "outputs": [],
   "source": [
    "xlist = [1, 2, 3， 'Hello']"
   ]
  },
  {
   "cell_type": "markdown",
   "metadata": {
    "slideshow": {
     "slide_type": "slide"
    }
   },
   "source": [
    "### 异常\n",
    "\n",
    "Python 用异常对象（except object）来表示异常情况:"
   ]
  },
  {
   "cell_type": "code",
   "execution_count": null,
   "metadata": {
    "slideshow": {
     "slide_type": "-"
    }
   },
   "outputs": [],
   "source": [
    "for item in ['red', 'green', 'yellow']:\n",
    "    print(item + 1)"
   ]
  },
  {
   "cell_type": "markdown",
   "metadata": {
    "slideshow": {
     "slide_type": "slide"
    }
   },
   "source": [
    "常见的内置异常类以及对应的可能出错原因：\n",
    "\n",
    "| 异常类   | 出错原因  |\n",
    "|:----------:|-------------------:|\n",
    "|`AssertionError` |\t断言语句（assert）失败 |\n",
    "|`AttributeError` |\t尝试访问未知的对象属性 |\n",
    "|`EOFError` |\t用户输入文件末尾标志EOF |\n",
    "|`FloatingPointError` |\t浮点计算错误 |\n",
    "|`GeneratorExit` |\t`generator.close()`方法被调用的时候 |\n",
    "|`ImportError` |\t导入模块失败的时候 |\n",
    "|`IndexError` |\t索引超出序列的范围 |\n",
    "|`KeyError` |\t字典中查找一个不存在的关键字 |\n",
    "|`KeyboardInterrupt` |\t用户输入中断键 (Ctrl+c or delete). |\n",
    "|`MemoryError` |\t内存溢出 |\n",
    "|`NameError` |\t尝试访问一个未定义变量 |\n",
    "|`NotImplementedError` |\t尚未实现的方法 |\n",
    "|`OSError` |\t操作系统产生的异常 |\n",
    "|`OverflowError` |\t数值运算最大限制溢出 |\n",
    "|`ReferenceError` |\t弱引用（weak reference）试图访问一个已经被垃圾回收机制回收了的对象 |\n",
    "|`RuntimeError` |\t一般的运行时错误 |\n",
    "|`SyntaxError` |\tPython的语法错误 |\n",
    "|`IndentationError` |\t缩进错误 |\n",
    "|`TabError` |\tTab和空格混合使用 |\n",
    "|`SystemError` |\tPython编译器系统错误 |\n",
    "|`SystemExit` |\tPython编译器进程被关闭 |\n",
    "|`TypeError` |\t不同类型间的无效操作 |\n",
    "|`UnboundLocalError` |\t访问一个未初始化的本地变量 |\n",
    "|`UnicodeError` |\tUnicode相关的错误 |\n",
    "|`UnicodeEncodeError` |\tUnicode编码时的错误 |\n",
    "|`UnicodeDecodeError` |\tUnicode解码时的错误 |\n",
    "|`UnicodeTranslateError` |\tUnicode转换时的错误 |\n",
    "|`ValueError` |\t传入参数类型不正确 |\n",
    "|`ZeroDivisionError` |\t除数为零 |"
   ]
  },
  {
   "cell_type": "markdown",
   "metadata": {
    "slideshow": {
     "slide_type": "slide"
    }
   },
   "source": [
    "### 理解错误\n",
    "\n",
    "理解错误包括对 Python 语言理解的偏差，对项目需求理解的偏差。"
   ]
  },
  {
   "cell_type": "code",
   "execution_count": null,
   "metadata": {
    "slideshow": {
     "slide_type": "-"
    }
   },
   "outputs": [],
   "source": [
    "xlist = [[]] * 3\n",
    "xlist[0].append(0)\n",
    "xlist[1].append(1)\n",
    "xlist[2].append(2)"
   ]
  },
  {
   "cell_type": "markdown",
   "metadata": {
    "slideshow": {
     "slide_type": "-"
    }
   },
   "source": [
    "在上述代码中，原本意图是创建三个空列表组成的列表，然后在第1个空列表中添加0，在第2个空列表中添加1，在第3个空列表中添加2。预期结果是：\n",
    "```python\n",
    "[[0], [1], [2]]\n",
    "```"
   ]
  },
  {
   "cell_type": "markdown",
   "metadata": {
    "slideshow": {
     "slide_type": "slide"
    }
   },
   "source": [
    "然而最终的结果却是："
   ]
  },
  {
   "cell_type": "code",
   "execution_count": null,
   "metadata": {
    "slideshow": {
     "slide_type": "-"
    }
   },
   "outputs": [],
   "source": [
    "xlist"
   ]
  },
  {
   "cell_type": "markdown",
   "metadata": {
    "slideshow": {
     "slide_type": "slide"
    }
   },
   "source": [
    "理解偏差在于，对列表使用乘法运算符运行时，返回的列表中有3个元素，每个元素确实是列表对象，但这3个元素指向同一个空列表：\n",
    "![列表乘法](../images/except_error_list_mul.png)\n",
    "当依次对这三个元素指向的列表进行添加时，实际是对同一个列表添加了三次，导致最终结果如上所示。"
   ]
  },
  {
   "cell_type": "code",
   "execution_count": null,
   "metadata": {
    "slideshow": {
     "slide_type": "slide"
    }
   },
   "outputs": [],
   "source": [
    "xlist = [[], [], []]\n",
    "xlist[0].append(0)\n",
    "xlist[1].append(1)\n",
    "xlist[2].append(2)\n",
    "xlist"
   ]
  },
  {
   "cell_type": "markdown",
   "metadata": {
    "slideshow": {
     "slide_type": "slide"
    }
   },
   "source": [
    "在书面代码中，定义变量`xlist`时使用字面常数来创建嵌套列表，此时列表的三个元素分别指向一个空列表：\n",
    "![列表乘法](../images/except_nest_list.png)\n",
    "故而结果就符合预期。"
   ]
  },
  {
   "cell_type": "markdown",
   "metadata": {
    "slideshow": {
     "slide_type": "slide"
    }
   },
   "source": [
    "## 抛出异常\n",
    "\n",
    "### 异常类和对象\n",
    "\n",
    "使用内置异常类可以创建一个实例对象，也就是一个异常。"
   ]
  },
  {
   "cell_type": "code",
   "execution_count": null,
   "metadata": {
    "slideshow": {
     "slide_type": "-"
    }
   },
   "outputs": [],
   "source": [
    "err = ZeroDivisionError('零除错误')\n",
    "err2 = ZeroDivisionError('浮点数零除错误')"
   ]
  },
  {
   "cell_type": "code",
   "execution_count": null,
   "metadata": {
    "slideshow": {
     "slide_type": "-"
    }
   },
   "outputs": [],
   "source": [
    "print(type(err), type(err2))"
   ]
  },
  {
   "cell_type": "markdown",
   "metadata": {
    "slideshow": {
     "slide_type": "slide"
    }
   },
   "source": [
    "### `raise` 语句\n",
    "\n",
    "异常是一个异常类的实例。使用 `raise` 语句可以引发一个异常，也就是抛出指定异常。`raise` 语句语法是\n",
    "```\n",
    "raise exception\n",
    "```"
   ]
  },
  {
   "cell_type": "code",
   "execution_count": null,
   "metadata": {
    "slideshow": {
     "slide_type": "-"
    }
   },
   "outputs": [],
   "source": [
    "var = ''\n",
    "if isinstance(var, int):\n",
    "    raise err\n",
    "elif isinstance(var, float):\n",
    "    raise err2  \n",
    "else:\n",
    "    raise ZeroDivisionError"
   ]
  },
  {
   "cell_type": "markdown",
   "metadata": {
    "slideshow": {
     "slide_type": "slide"
    }
   },
   "source": [
    "## 捕获异常\n",
    "\n",
    "出了错怎么办？兵来将挡水来土掩，可以使用`try...except`语句块捕获异常，进行相应处理，以避免程序中断退出。语法具体为：\n",
    "```python\n",
    "try:\n",
    "    try suite\n",
    "except exception1 as var1:\n",
    "    except suite1\n",
    "except exception2 as var2:\n",
    "    except suite2\n",
    "else:\n",
    "    suite\n",
    "finally:\n",
    "    finally suite\n",
    "```"
   ]
  },
  {
   "cell_type": "markdown",
   "metadata": {
    "slideshow": {
     "slide_type": "slide"
    }
   },
   "source": [
    "Python 程序基本规则是自上而下顺序执行代码的。与条件语句和循环语句一样，`try...except`语句也会改变运行流程。其具体步骤是：\n",
    "1. 执行`try`语句下的代码块；\n",
    "2. 如果没有引发异常，代码块执行完后会跳过`except`子句；\n",
    "3. 如果引发异常，那么会跳过余下语句。开始对`except`语句指定的类型与所引发异常对象的类型进行比对。\n",
    "    - 如果符合则执行该`except`语句下的语句块；\n",
    "    - 如果引发异常与任何的`except`均不匹配，那么会把这个异常传递给上层。"
   ]
  },
  {
   "cell_type": "code",
   "execution_count": 2,
   "metadata": {
    "slideshow": {
     "slide_type": "slide"
    }
   },
   "outputs": [
    {
     "name": "stdout",
     "output_type": "stream",
     "text": [
      "item 0: a\n",
      "捕获 ValueError 异常\n",
      "This is always printed.\n",
      "item 1: 0\n",
      "捕获 ZeroDivisionError 异常\n",
      "This is always printed.\n",
      "item 2: 3.1314\n",
      "the reciprocal: 0.3333333333333333\n",
      "This is always printed.\n"
     ]
    }
   ],
   "source": [
    "alist = ['a', 0, 3.1314]\n",
    "for i, item in enumerate(alist):\n",
    "    try:\n",
    "        print('item {0}: {1}'.format(i, item))\n",
    "        result = 1 / int(item)\n",
    "        print('the reciprocal: {0}'.format(result))\n",
    "    except ZeroDivisionError:\n",
    "        print('捕获 ZeroDivisionError 异常')\n",
    "    except ValueError:\n",
    "        print('捕获 ValueError 异常')\n",
    "\n",
    "    print('This is always printed.')"
   ]
  },
  {
   "cell_type": "code",
   "execution_count": 3,
   "metadata": {
    "slideshow": {
     "slide_type": "slide"
    }
   },
   "outputs": [
    {
     "name": "stdout",
     "output_type": "stream",
     "text": [
      "item 0: a\n",
      "捕获  ZeroDivisionError 或 ValueError 异常\n",
      "item 1: 0\n",
      "捕获  ZeroDivisionError 或 ValueError 异常\n",
      "item 2: 3.1314\n",
      "the reciprocal: 0.3333333333333333\n",
      "This is always printed.\n"
     ]
    }
   ],
   "source": [
    "alist = ['a', 0, 3.1314]\n",
    "for i, item in enumerate(alist):\n",
    "    try:\n",
    "        print('item {0}: {1}'.format(i, item))\n",
    "        result = 1 / int(item)\n",
    "        print('the reciprocal: {0}'.format(result))\n",
    "    except (ValueError, ZeroDivisionError):\n",
    "        print('捕获  ZeroDivisionError 或 ValueError 异常')\n",
    "print('This is always printed.')"
   ]
  },
  {
   "cell_type": "code",
   "execution_count": 4,
   "metadata": {
    "slideshow": {
     "slide_type": "slide"
    }
   },
   "outputs": [
    {
     "name": "stdout",
     "output_type": "stream",
     "text": [
      "item 0: a\n",
      "catch a exception\n",
      "This is always printed.\n",
      "item 1: 0\n",
      "catch a exception\n",
      "This is always printed.\n",
      "item 2: 3.1314\n",
      "the reciprocal: 0.3333333333333333\n",
      "This is always printed.\n"
     ]
    }
   ],
   "source": [
    "alist = ['a', 0, 3.1314]\n",
    "for i, item in enumerate(alist):\n",
    "    try:\n",
    "        print('item {0}: {1}'.format(i, item))\n",
    "        result = 1 / int(item)\n",
    "        print('the reciprocal: {0}'.format(result))\n",
    "    except Exception:\n",
    "        print('catch a exception')\n",
    "    \n",
    "    print('This is always printed.')"
   ]
  },
  {
   "cell_type": "code",
   "execution_count": 5,
   "metadata": {
    "scrolled": true,
    "slideshow": {
     "slide_type": "slide"
    }
   },
   "outputs": [
    {
     "name": "stdout",
     "output_type": "stream",
     "text": [
      "item 0: a\n",
      "catch a exception\n",
      "This is always printed.\n",
      "item 1: 0\n",
      "catch a exception\n",
      "This is always printed.\n",
      "item 2: 3.1314\n",
      "the reciprocal: 0.3333333333333333\n",
      "This is always printed.\n"
     ]
    }
   ],
   "source": [
    "alist = ['a', 0, 3.1314]\n",
    "for i, item in enumerate(alist):\n",
    "    try:\n",
    "        print('item {0}: {1}'.format(i, item))\n",
    "        result = 1 / int(item)\n",
    "        print('the reciprocal: {0}'.format(result))\n",
    "    except:\n",
    "        print('catch a exception')\n",
    "    print('This is always printed.')"
   ]
  },
  {
   "cell_type": "markdown",
   "metadata": {
    "slideshow": {
     "slide_type": "slide"
    }
   },
   "source": [
    "### 捕获异常对象\n",
    "\n",
    "在捕获到异常对象后，如果想要访问异常本身，可以使用`as`来指定变量来指向异常对象。"
   ]
  },
  {
   "cell_type": "code",
   "execution_count": 6,
   "metadata": {
    "slideshow": {
     "slide_type": "-"
    }
   },
   "outputs": [
    {
     "name": "stdout",
     "output_type": "stream",
     "text": [
      "item 0: a\n",
      "捕获异常 <class 'ValueError'>: invalid literal for int() with base 10: 'a'\n",
      "item 1: 0\n",
      "捕获异常 <class 'ZeroDivisionError'>: division by zero\n",
      "item 2: 3.1314\n",
      "结果: 0.3333333333333333\n",
      "This is always printed.\n"
     ]
    }
   ],
   "source": [
    "alist = ['a', 0, 3.1314]\n",
    "for i, item in enumerate(alist):\n",
    "    try:\n",
    "        print('item {0}: {1}'.format(i, item))\n",
    "        result = 1 / int(item)\n",
    "        print('结果: {0}'.format(result))\n",
    "    except ZeroDivisionError as e:\n",
    "        print('捕获异常 {0}: {1}'.format(type(e), e))\n",
    "    except ValueError as e:\n",
    "        print('捕获异常 {0}: {1}'.format(type(e), e))\n",
    "print('This is always printed.')"
   ]
  }
 ],
 "metadata": {
  "celltoolbar": "幻灯片",
  "kernelspec": {
   "display_name": "Python 3",
   "language": "python",
   "name": "python3"
  },
  "language_info": {
   "codemirror_mode": {
    "name": "ipython",
    "version": 3
   },
   "file_extension": ".py",
   "mimetype": "text/x-python",
   "name": "python",
   "nbconvert_exporter": "python",
   "pygments_lexer": "ipython3",
   "version": "3.7.3"
  },
  "toc": {
   "base_numbering": 1,
   "nav_menu": {},
   "number_sections": true,
   "sideBar": true,
   "skip_h1_title": false,
   "title_cell": "Table of Contents",
   "title_sidebar": "Contents",
   "toc_cell": false,
   "toc_position": {
    "height": "calc(100% - 180px)",
    "left": "10px",
    "top": "150px",
    "width": "384px"
   },
   "toc_section_display": true,
   "toc_window_display": false
  }
 },
 "nbformat": 4,
 "nbformat_minor": 1
}
