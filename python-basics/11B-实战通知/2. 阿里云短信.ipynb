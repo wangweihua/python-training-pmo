{
 "cells": [
  {
   "cell_type": "markdown",
   "metadata": {
    "slideshow": {
     "slide_type": "slide"
    }
   },
   "source": [
    "# 阿里云短信\n",
    "\n",
    "短信服务（Short Message Service）是阿里云为用户提供的一种通信服务的能力。"
   ]
  },
  {
   "cell_type": "markdown",
   "metadata": {
    "slideshow": {
     "slide_type": "slide"
    }
   },
   "source": [
    "## 用户指南\n",
    "\n",
    "- 添加签名\n",
    "- 添加模板\n",
    "- 发送短信"
   ]
  },
  {
   "cell_type": "markdown",
   "metadata": {
    "slideshow": {
     "slide_type": "-"
    }
   },
   "source": [
    "### AccessKey\n",
    "\n",
    "- AccessKeyId用于标识用户。\n",
    "- AccessKeySecret是用来验证用户的密钥。AccessKeySecret必须保密。"
   ]
  },
  {
   "cell_type": "markdown",
   "metadata": {
    "slideshow": {
     "slide_type": "-"
    }
   },
   "source": [
    "## SDK简介\n",
    "\n",
    "```sh\n",
    "pip install aliyun-python-sdk-core\n",
    "```"
   ]
  },
  {
   "cell_type": "code",
   "execution_count": 1,
   "metadata": {
    "slideshow": {
     "slide_type": "-"
    }
   },
   "outputs": [],
   "source": [
    "from aliyunsdkcore.client import AcsClient\n",
    "from aliyunsdkcore.request import CommonRequest"
   ]
  },
  {
   "cell_type": "code",
   "execution_count": 9,
   "metadata": {
    "slideshow": {
     "slide_type": "slide"
    }
   },
   "outputs": [],
   "source": [
    "accesskey_id = '你的'\n",
    "access_secret = '你的'\n",
    "signname = '天步信息'\n",
    "template_code = '你的'\n",
    "phone_number = 'xxx'"
   ]
  },
  {
   "cell_type": "code",
   "execution_count": 10,
   "metadata": {
    "slideshow": {
     "slide_type": "slide"
    }
   },
   "outputs": [],
   "source": [
    "client = AcsClient(accesskey_id, access_secret)\n",
    "request = CommonRequest()\n",
    "request.set_accept_format('json')\n",
    "request.set_domain('dysmsapi.aliyuncs.com')\n",
    "request.set_method('POST')\n",
    "request.set_protocol_type('https') # https | http\n",
    "request.set_version('2017-05-25')\n",
    "request.set_action_name('SendSms')"
   ]
  },
  {
   "cell_type": "code",
   "execution_count": 11,
   "metadata": {
    "slideshow": {
     "slide_type": "slide"
    }
   },
   "outputs": [],
   "source": [
    "request.add_query_param('PhoneNumbers', phone_number)\n",
    "request.add_query_param('SignName', signname)\n",
    "request.add_query_param('TemplateCode', template_code)"
   ]
  },
  {
   "cell_type": "code",
   "execution_count": 12,
   "metadata": {
    "slideshow": {
     "slide_type": "slide"
    }
   },
   "outputs": [],
   "source": [
    "params = {\n",
    "    'filter': '支撑线',\n",
    "    'code': '000001.XSHE',\n",
    "    'time': '10:20',\n",
    "    'cond': '上轨',\n",
    "    'oper': '买入',\n",
    "}"
   ]
  },
  {
   "cell_type": "code",
   "execution_count": 13,
   "metadata": {
    "slideshow": {
     "slide_type": "-"
    }
   },
   "outputs": [
    {
     "name": "stdout",
     "output_type": "stream",
     "text": [
      "{\"filter\": \"支撑线\", \"code\": \"000001.XSHE\", \"time\": \"10:20\", \"cond\": \"上轨\", \"oper\": \"买入\"}\n"
     ]
    }
   ],
   "source": [
    "import json\n",
    "\n",
    "template_params = json.dumps(params, ensure_ascii=False)\n",
    "print(template_params)"
   ]
  },
  {
   "cell_type": "markdown",
   "metadata": {
    "slideshow": {
     "slide_type": "slide"
    }
   },
   "source": [
    "```\n",
    "事项${filter}：自定义的${code}在时间${time}其状态触发条件${cond}，提醒进行${oper}操作，执行是王道！\n",
    "```"
   ]
  },
  {
   "cell_type": "code",
   "execution_count": 14,
   "metadata": {
    "slideshow": {
     "slide_type": "-"
    }
   },
   "outputs": [
    {
     "data": {
      "text/plain": [
       "b'{\"Message\":\"OK\",\"RequestId\":\"E4504A2E-729B-464D-A4E8-2CFCFCCFD4B9\",\"BizId\":\"234613263728764533^0\",\"Code\":\"OK\"}'"
      ]
     },
     "execution_count": 14,
     "metadata": {},
     "output_type": "execute_result"
    }
   ],
   "source": [
    "request.add_query_param('TemplateParam', template_params)\n",
    "\n",
    "response = client.do_action(request)\n",
    "response"
   ]
  },
  {
   "cell_type": "code",
   "execution_count": 17,
   "metadata": {
    "slideshow": {
     "slide_type": "slide"
    }
   },
   "outputs": [],
   "source": [
    "import json\n",
    "from aliyunsdkcore.client import AcsClient\n",
    "from aliyunsdkcore.request import CommonRequest\n",
    "\n",
    "\n",
    "class AliSmsSender(object):\n",
    "    \"\"\"阿里云短信发送\"\"\"\n",
    "    def __init__(self, accesskey_id, access_secret, signname, template_code):\n",
    "        self.client = AcsClient(accesskey_id, access_secret)\n",
    "        self.signname = signname\n",
    "        self.template_code = template_code\n",
    "\n",
    "        self.request = CommonRequest()\n",
    "        self.request.set_accept_format('json')\n",
    "        self.request.set_domain('dysmsapi.aliyuncs.com')\n",
    "        self.request.set_method('POST')\n",
    "        self.request.set_protocol_type('https')  # https | http\n",
    "        self.request.set_version('2017-05-25')\n",
    "        self.request.set_action_name('SendSms')\n",
    "\n",
    "    def send(self, phone_numbe, params):\n",
    "        \"\"\"发送\"\"\"\n",
    "        self.request.add_query_param('PhoneNumbers', phone_number)\n",
    "        self.request.add_query_param('SignName', self.signname)\n",
    "        self.request.add_query_param('TemplateCode', self.template_code)\n",
    "        template_params = json.dumps(params, ensure_ascii=False)\n",
    "        self.request.add_query_param('TemplateParam', template_params)\n",
    "\n",
    "        response = self.client.do_action_with_exception(self.request)\n",
    "        return json.loads(response)"
   ]
  },
  {
   "cell_type": "code",
   "execution_count": 19,
   "metadata": {
    "slideshow": {
     "slide_type": "slide"
    }
   },
   "outputs": [
    {
     "data": {
      "text/plain": [
       "{'Message': 'OK',\n",
       " 'RequestId': '0634E136-9A76-4925-B8E4-87349AC3FF7C',\n",
       " 'BizId': '759113263729129447^0',\n",
       " 'Code': 'OK'}"
      ]
     },
     "execution_count": 19,
     "metadata": {},
     "output_type": "execute_result"
    }
   ],
   "source": [
    "alisms = AliSmsSender(accesskey_id, access_secret, signname, template_code)\n",
    "result = alisms.send(phone_number, params)\n",
    "result"
   ]
  }
 ],
 "metadata": {
  "celltoolbar": "幻灯片",
  "kernelspec": {
   "display_name": "Python 3",
   "language": "python",
   "name": "python3"
  },
  "language_info": {
   "codemirror_mode": {
    "name": "ipython",
    "version": 3
   },
   "file_extension": ".py",
   "mimetype": "text/x-python",
   "name": "python",
   "nbconvert_exporter": "python",
   "pygments_lexer": "ipython3",
   "version": "3.7.3"
  }
 },
 "nbformat": 4,
 "nbformat_minor": 2
}
