{
 "cells": [
  {
   "cell_type": "markdown",
   "metadata": {
    "slideshow": {
     "slide_type": "slide"
    }
   },
   "source": [
    "# 文本语音合成\n",
    "\n",
    "- 语音播放\n",
    "- 文本到语音"
   ]
  },
  {
   "cell_type": "markdown",
   "metadata": {
    "slideshow": {
     "slide_type": "slide"
    }
   },
   "source": [
    "## 使用 simpleaudio播放wav文件\n",
    "\n",
    "<https://simpleaudio.readthedocs.io/en/latest/tutorial.html>\n",
    "\n",
    "```sh\n",
    "pip install simpleaudio\n",
    "```"
   ]
  },
  {
   "cell_type": "code",
   "execution_count": null,
   "metadata": {
    "slideshow": {
     "slide_type": "-"
    }
   },
   "outputs": [],
   "source": [
    "import simpleaudio as sa"
   ]
  },
  {
   "cell_type": "markdown",
   "metadata": {
    "slideshow": {
     "slide_type": "slide"
    }
   },
   "source": [
    "在Windows系统，因为缺乏编译器，通常为安装失败，可以到<https://www.lfd.uci.edu/~gohlke/pythonlibs/>下载wheel版本，并安装。例如对于Python3.7，64为操作系统，则下载\n",
    "```\n",
    "simpleaudio-1.0.2-cp37-cp37m-win_amd64.whl\n",
    "```\n",
    "\n",
    "然后使用pip安装：\n",
    "```sh\n",
    "pip instlal simpleaudio-1.0.2-cp37-cp37m-win_amd64.whl\n",
    "```"
   ]
  },
  {
   "cell_type": "markdown",
   "metadata": {
    "slideshow": {
     "slide_type": "slide"
    }
   },
   "source": [
    "从一个wav文件中创建`WaveObject`对象："
   ]
  },
  {
   "cell_type": "code",
   "execution_count": null,
   "metadata": {
    "slideshow": {
     "slide_type": "-"
    }
   },
   "outputs": [],
   "source": [
    "wavfile = 'audio.wav'\n",
    "wave_obj = sa.WaveObject.from_wave_file(wavfile)"
   ]
  },
  {
   "cell_type": "markdown",
   "metadata": {
    "slideshow": {
     "slide_type": "slide"
    }
   },
   "source": [
    "调用`play()`返回一个`PlayObject `对象"
   ]
  },
  {
   "cell_type": "code",
   "execution_count": null,
   "metadata": {
    "slideshow": {
     "slide_type": "-"
    }
   },
   "outputs": [],
   "source": [
    "play_obj = wave_obj.play()"
   ]
  },
  {
   "cell_type": "code",
   "execution_count": null,
   "metadata": {
    "slideshow": {
     "slide_type": "-"
    }
   },
   "outputs": [],
   "source": [
    "play_obj.wait_done()"
   ]
  },
  {
   "cell_type": "code",
   "execution_count": null,
   "metadata": {
    "slideshow": {
     "slide_type": "slide"
    }
   },
   "outputs": [],
   "source": [
    "import simpleaudio as sa\n",
    "\n",
    "\n",
    "def playwavfile(wavfile):\n",
    "    \"使用simpleaudio播放wav文件\"\n",
    "    wave_obj = sa.WaveObject.from_wave_file(wavfile)\n",
    "    play_obj = wave_obj.play()\n",
    "    play_obj.wait_done()    "
   ]
  },
  {
   "cell_type": "code",
   "execution_count": null,
   "metadata": {
    "slideshow": {
     "slide_type": "slide"
    }
   },
   "outputs": [],
   "source": [
    "playwavfile(wavfile)"
   ]
  },
  {
   "cell_type": "markdown",
   "metadata": {
    "slideshow": {
     "slide_type": "slide"
    }
   },
   "source": [
    "## 文本到语音"
   ]
  },
  {
   "cell_type": "markdown",
   "metadata": {
    "slideshow": {
     "slide_type": "-"
    }
   },
   "source": [
    "### 百度语音\n",
    "\n",
    "<https://cloud.baidu.com/>\n",
    "\n",
    "选择【人工智能】 =》【百度语音 】 ，然后创建新应用。"
   ]
  },
  {
   "cell_type": "markdown",
   "metadata": {
    "slideshow": {
     "slide_type": "slide"
    }
   },
   "source": [
    "### 获得用户Key\n",
    "\n",
    "- AppID\n",
    "- API Key\n",
    "- Secret Key"
   ]
  },
  {
   "cell_type": "markdown",
   "metadata": {
    "slideshow": {
     "slide_type": "slide"
    }
   },
   "source": [
    "### 安装Python SDK客户\n",
    "\n",
    "```\n",
    "pip install baidu-aip\n",
    "```"
   ]
  },
  {
   "cell_type": "markdown",
   "metadata": {
    "slideshow": {
     "slide_type": "slide"
    }
   },
   "source": [
    "### 语音合成\n",
    "\n",
    "新建AipSpeech\n",
    "\n",
    "AipSpeech是语音合成的Python SDK客户端，为使用语音合成的开发人员提供了一系列的交互方法。"
   ]
  },
  {
   "cell_type": "markdown",
   "metadata": {
    "slideshow": {
     "slide_type": "slide"
    }
   },
   "source": [
    "```\n",
    "from aip import AipSpeech\n",
    "\n",
    "\"\"\" 你的 APPID AK SK \"\"\"\n",
    "APP_ID = '你的 App ID'\n",
    "API_KEY = '你的 Api Key'\n",
    "SECRET_KEY = '你的 Secret Key'\n",
    "\n",
    "client = AipSpeech(APP_ID, API_KEY, SECRET_KEY)\n",
    "```"
   ]
  },
  {
   "cell_type": "markdown",
   "metadata": {
    "slideshow": {
     "slide_type": "slide"
    }
   },
   "source": [
    "- 合成文本长度必须小于1024字节\n",
    "- spd: 语速，取值0-15，默认为5\n",
    "- pit: 音调，取值0-15，默认为5\n",
    "- vol: 音量，取值0-15，默认为5\n",
    "- per：发音人选择, 0为女声，1为男声\n",
    "- aue: 3为mp3格式(默认)； 4为pcm-16k；5为pcm-8k；6为wav"
   ]
  },
  {
   "cell_type": "markdown",
   "metadata": {
    "slideshow": {
     "slide_type": "slide"
    }
   },
   "source": [
    "```python\n",
    "result  = client.synthesis('你好百度', 'zh', 1, {\n",
    "    'vol': 5,\n",
    "})\n",
    "\n",
    "# 识别正确返回语音二进制 错误则返回dict 参照下面错误码\n",
    "if not isinstance(result, dict):\n",
    "    with open('auido.mp3', 'wb') as f:\n",
    "        f.write(result)\n",
    "```        "
   ]
  },
  {
   "cell_type": "code",
   "execution_count": null,
   "metadata": {
    "slideshow": {
     "slide_type": "slide"
    }
   },
   "outputs": [],
   "source": [
    "from aip import AipSpeech\n",
    "\n",
    "\n",
    "def baidu_synthesis(text, voicefile='baidu_audio.wav', lang='zh', aue=6, per='0'):\n",
    "    \"\"\"百度语音合成\"\"\"\n",
    "    APP_ID = '你的'\n",
    "    API_KEY = '你的'\n",
    "    SECRET_KEY = '你的'\n",
    "    client = AipSpeech(APP_ID, API_KEY, SECRET_KEY)    \n",
    "    \n",
    "    options = {'aue': 6, 'per': per}\n",
    "    result = client.synthesis(text, lang=lang, options=options)\n",
    "\n",
    "    if not isinstance(result, dict):\n",
    "        with open(voicefile, 'wb') as fh:\n",
    "            fh.write(result)\n",
    "        return voicefile\n",
    "    else:\n",
    "        return None          "
   ]
  },
  {
   "cell_type": "code",
   "execution_count": null,
   "metadata": {
    "slideshow": {
     "slide_type": "slide"
    }
   },
   "outputs": [],
   "source": [
    "wavfile = baidu_synthesis('欢迎来到猜数字游戏')    \n",
    "wavfile"
   ]
  },
  {
   "cell_type": "code",
   "execution_count": null,
   "metadata": {
    "slideshow": {
     "slide_type": "slide"
    }
   },
   "outputs": [],
   "source": [
    "def speak(text, lang='zh', per='0'):\n",
    "    \"\"\"朗读文本\"\"\"\n",
    "    wavfile = baidu_synthesis(text, lang=lang, per=per)    \n",
    "    if wavfile is not None:\n",
    "        playwavfile(wavfile)"
   ]
  },
  {
   "cell_type": "code",
   "execution_count": null,
   "metadata": {
    "slideshow": {
     "slide_type": "-"
    }
   },
   "outputs": [],
   "source": [
    "speak('欢迎来到猜数字游戏')"
   ]
  }
 ],
 "metadata": {
  "celltoolbar": "幻灯片",
  "kernelspec": {
   "display_name": "Python 3",
   "language": "python",
   "name": "python3"
  },
  "language_info": {
   "codemirror_mode": {
    "name": "ipython",
    "version": 3
   },
   "file_extension": ".py",
   "mimetype": "text/x-python",
   "name": "python",
   "nbconvert_exporter": "python",
   "pygments_lexer": "ipython3",
   "version": "3.7.3"
  },
  "toc": {
   "base_numbering": 1,
   "nav_menu": {},
   "number_sections": true,
   "sideBar": true,
   "skip_h1_title": false,
   "title_cell": "Table of Contents",
   "title_sidebar": "Contents",
   "toc_cell": false,
   "toc_position": {},
   "toc_section_display": true,
   "toc_window_display": false
  }
 },
 "nbformat": 4,
 "nbformat_minor": 2
}
