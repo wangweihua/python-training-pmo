{
 "cells": [
  {
   "cell_type": "markdown",
   "metadata": {
    "slideshow": {
     "slide_type": "slide"
    }
   },
   "source": [
    "# 论文朗读者\n",
    "\n",
    "\n",
    "```\n",
    "大声读出来\n",
    "```"
   ]
  },
  {
   "cell_type": "markdown",
   "metadata": {
    "slideshow": {
     "slide_type": "slide"
    }
   },
   "source": [
    "## 紫台新闻"
   ]
  },
  {
   "cell_type": "code",
   "execution_count": 22,
   "metadata": {
    "slideshow": {
     "slide_type": "-"
    }
   },
   "outputs": [
    {
     "name": "stdout",
     "output_type": "stream",
     "text": [
      "Overwriting pmonews.txt\n"
     ]
    }
   ],
   "source": [
    "%%writefile pmonews.txt\n",
    "青海观测站\n",
    "\n",
    "紫金山天文台青海站始建于20世纪80年代初，位于美丽的青藏高原、青海省第三大城市德令哈，这里海拔3200米，东经97°33'.6，北纬37°22'.4。故青海站也被称为德令哈天文观测基地。\n",
    "德令哈是蒙古语，意思是“太阳升起的地方”。\n",
    "\n",
    "青海站拥有我国最先进的射电望远镜，它的口径为13.7米，运行在毫米波波段13.7米射电望远镜是完全对外开放的设备。\n",
    "\n",
    "青海站的科学目标是：使望远镜能在国际同类望远镜的运行水平上进行CO等谱线及连续谱的观测，提供用户进行银河系内分子云与恒星形成区、行星状星云、拱星包层、星际介质、分子谱线巡天、以及太阳连续谱和河外星系等观测研究。\n",
    "\n",
    "青海站的中心任务是维护好该望远镜的正常运行，保证天文观测任务的完成，同时努力把基地建成国际水平的天文观测基地。 青海站还拥有光学望远镜，它能使您更直观地观测我们太阳系内外的天体及其运动…… 1999年青海站进入中国科学院首批知识创新工程行列，进入了新的发展时期。"
   ]
  },
  {
   "cell_type": "markdown",
   "metadata": {
    "slideshow": {
     "slide_type": "slide"
    }
   },
   "source": [
    "## 程序过程\n",
    "\n",
    "- 获取文件名\n",
    "- 打开文件\n",
    "- 分段与分句\n",
    "- 使用百度函数朗读句子"
   ]
  },
  {
   "cell_type": "markdown",
   "metadata": {
    "slideshow": {
     "slide_type": "slide"
    }
   },
   "source": [
    "## 提示\n",
    "\n",
    "- 字符串的`split`\n",
    "- 正则表达式的`split`"
   ]
  },
  {
   "cell_type": "code",
   "execution_count": 23,
   "metadata": {
    "slideshow": {
     "slide_type": "slide"
    }
   },
   "outputs": [],
   "source": [
    "with open('pmonews.txt') as fh:\n",
    "    text = fh.read()"
   ]
  },
  {
   "cell_type": "code",
   "execution_count": 24,
   "metadata": {
    "slideshow": {
     "slide_type": "-"
    }
   },
   "outputs": [
    {
     "data": {
      "text/plain": [
       "\"青海观测站\\n\\n紫金山天文台青海站始建于20世纪80年代初，位于美丽的青藏高原、青海省第三大城市德令哈，这里海拔3200米，东经97°33'.6，北纬37°22'.4。故青海站也被称为德令哈天文观测基地。\\n德令哈是蒙古语，意思是“太阳升起的地方”。\\n\\n青海站拥有我国最先进的射电望远镜，它的口径为13.7米，运行在毫米波波段13.7米射电望远镜是完全对外开放的设备。\\n\\n青海站的科学目标是：使望远镜能在国际同类望远镜的运行水平上进行CO等谱线及连续谱的观测，提供用户进行银河系内分子云与恒星形成区、行星状星云、拱星包层、星际介质、分子谱线巡天、以及太阳连续谱和河外星系等观测研究。\\n\\n青海站的中心任务是维护好该望远镜的正常运行，保证天文观测任务的完成，同时努力把基地建成国际水平的天文观测基地。 青海站还拥有光学望远镜，它能使您更直观地观测我们太阳系内外的天体及其运动…… 1999年青海站进入中国科学院首批知识创新工程行列，进入了新的发展时期。\\n\""
      ]
     },
     "execution_count": 24,
     "metadata": {},
     "output_type": "execute_result"
    }
   ],
   "source": [
    "text"
   ]
  },
  {
   "cell_type": "code",
   "execution_count": 25,
   "metadata": {
    "slideshow": {
     "slide_type": "slide"
    }
   },
   "outputs": [
    {
     "data": {
      "text/plain": [
       "['青海观测站',\n",
       " '',\n",
       " \"紫金山天文台青海站始建于20世纪80年代初，位于美丽的青藏高原、青海省第三大城市德令哈，这里海拔3200米，东经97°33'.6，北纬37°22'.4。故青海站也被称为德令哈天文观测基地。\",\n",
       " '德令哈是蒙古语，意思是“太阳升起的地方”。',\n",
       " '',\n",
       " '青海站拥有我国最先进的射电望远镜，它的口径为13.7米，运行在毫米波波段13.7米射电望远镜是完全对外开放的设备。',\n",
       " '',\n",
       " '青海站的科学目标是：使望远镜能在国际同类望远镜的运行水平上进行CO等谱线及连续谱的观测，提供用户进行银河系内分子云与恒星形成区、行星状星云、拱星包层、星际介质、分子谱线巡天、以及太阳连续谱和河外星系等观测研究。',\n",
       " '',\n",
       " '青海站的中心任务是维护好该望远镜的正常运行，保证天文观测任务的完成，同时努力把基地建成国际水平的天文观测基地。 青海站还拥有光学望远镜，它能使您更直观地观测我们太阳系内外的天体及其运动…… 1999年青海站进入中国科学院首批知识创新工程行列，进入了新的发展时期。',\n",
       " '']"
      ]
     },
     "execution_count": 25,
     "metadata": {},
     "output_type": "execute_result"
    }
   ],
   "source": [
    "text.split('\\n')"
   ]
  },
  {
   "cell_type": "code",
   "execution_count": 26,
   "metadata": {
    "slideshow": {
     "slide_type": "slide"
    }
   },
   "outputs": [
    {
     "data": {
      "text/plain": [
       "['青海观测站',\n",
       " \"紫金山天文台青海站始建于20世纪80年代初，位于美丽的青藏高原、青海省第三大城市德令哈，这里海拔3200米，东经97°33'.6，北纬37°22'.4。故青海站也被称为德令哈天文观测基地。\\n德令哈是蒙古语，意思是“太阳升起的地方”。\",\n",
       " '青海站拥有我国最先进的射电望远镜，它的口径为13.7米，运行在毫米波波段13.7米射电望远镜是完全对外开放的设备。',\n",
       " '青海站的科学目标是：使望远镜能在国际同类望远镜的运行水平上进行CO等谱线及连续谱的观测，提供用户进行银河系内分子云与恒星形成区、行星状星云、拱星包层、星际介质、分子谱线巡天、以及太阳连续谱和河外星系等观测研究。',\n",
       " '青海站的中心任务是维护好该望远镜的正常运行，保证天文观测任务的完成，同时努力把基地建成国际水平的天文观测基地。 青海站还拥有光学望远镜，它能使您更直观地观测我们太阳系内外的天体及其运动…… 1999年青海站进入中国科学院首批知识创新工程行列，进入了新的发展时期。\\n']"
      ]
     },
     "execution_count": 26,
     "metadata": {},
     "output_type": "execute_result"
    }
   ],
   "source": [
    "import re\n",
    "\n",
    "re.split('\\n\\n', text)"
   ]
  },
  {
   "cell_type": "code",
   "execution_count": 27,
   "metadata": {
    "slideshow": {
     "slide_type": "slide"
    }
   },
   "outputs": [
    {
     "data": {
      "text/plain": [
       "'青海站拥有我国最先进的射电望远镜，它的口径为13.7米，运行在毫米波波段13.7米射电望远镜是完全对外开放的设备。'"
      ]
     },
     "execution_count": 27,
     "metadata": {},
     "output_type": "execute_result"
    }
   ],
   "source": [
    "para = re.split('\\n\\n', text)[2]\n",
    "para"
   ]
  },
  {
   "cell_type": "code",
   "execution_count": 28,
   "metadata": {
    "slideshow": {
     "slide_type": "slide"
    }
   },
   "outputs": [
    {
     "data": {
      "text/plain": [
       "['青海站拥有我国最先进的射电望远镜，它的口径为13.7米，运行在毫米波波段13.7米射电望远镜是完全对外开放的设备', '']"
      ]
     },
     "execution_count": 28,
     "metadata": {},
     "output_type": "execute_result"
    }
   ],
   "source": [
    "re.split('[。？?]', para)"
   ]
  },
  {
   "cell_type": "code",
   "execution_count": 29,
   "metadata": {
    "slideshow": {
     "slide_type": "slide"
    }
   },
   "outputs": [],
   "source": [
    " artfile = 'pmonews.txt'"
   ]
  },
  {
   "cell_type": "code",
   "execution_count": 30,
   "metadata": {
    "slideshow": {
     "slide_type": "-"
    }
   },
   "outputs": [
    {
     "name": "stdout",
     "output_type": "stream",
     "text": [
      "青海观测站\n",
      "紫金山天文台青海站始建于20世纪80年代初，位于美丽的青藏高原、青海省第三大城市德令哈，这里海拔3200米，东经97°33'.6，北纬37°22'.4\n",
      "故青海站也被称为德令哈天文观测基地\n",
      "\n",
      "德令哈是蒙古语，意思是“太阳升起的地方”\n",
      "\n",
      "青海站拥有我国最先进的射电望远镜，它的口径为13.7米，运行在毫米波波段13.7米射电望远镜是完全对外开放的设备\n",
      "\n",
      "青海站的科学目标是：使望远镜能在国际同类望远镜的运行水平上进行CO等谱线及连续谱的观测，提供用户进行银河系内分子云与恒星形成区、行星状星云、拱星包层、星际介质、分子谱线巡天、以及太阳连续谱和河外星系等观测研究\n",
      "\n",
      "青海站的中心任务是维护好该望远镜的正常运行，保证天文观测任务的完成，同时努力把基地建成国际水平的天文观测基地\n",
      " 青海站还拥有光学望远镜，它能使您更直观地观测我们太阳系内外的天体及其运动…… 1999年青海站进入中国科学院首批知识创新工程行列，进入了新的发展时期\n",
      "\n",
      "\n"
     ]
    }
   ],
   "source": [
    "import re\n",
    "\n",
    "try:\n",
    "    with open(artfile, encoding='utf-8') as fh:\n",
    "        text = fh.read()\n",
    "        paras = re.split('\\n\\n', text)\n",
    "        for para in paras:\n",
    "            sentences = re.split('[。？?]', para)\n",
    "            for sentence in sentences:\n",
    "                print(sentence)\n",
    "except FileNotFoundError as e:\n",
    "    print('No file {}: e'.format(artfile, e))"
   ]
  }
 ],
 "metadata": {
  "celltoolbar": "幻灯片",
  "kernelspec": {
   "display_name": "Python 3",
   "language": "python",
   "name": "python3"
  },
  "language_info": {
   "codemirror_mode": {
    "name": "ipython",
    "version": 3
   },
   "file_extension": ".py",
   "mimetype": "text/x-python",
   "name": "python",
   "nbconvert_exporter": "python",
   "pygments_lexer": "ipython3",
   "version": "3.7.3"
  }
 },
 "nbformat": 4,
 "nbformat_minor": 2
}
