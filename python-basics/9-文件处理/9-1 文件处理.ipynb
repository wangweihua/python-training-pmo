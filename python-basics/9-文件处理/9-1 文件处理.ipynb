{
 "cells": [
  {
   "cell_type": "markdown",
   "metadata": {
    "slideshow": {
     "slide_type": "slide"
    }
   },
   "source": [
    "# 文件读写\n",
    "\n",
    "程序运行过程大多如下所示：\n",
    "1. 输入  \n",
    "从键盘、硬盘、网络或其它设备获取数据\n",
    "2. 处理  \n",
    "运行各种功能、完成对数据进行处理任务\n",
    "3. 输出  \n",
    "把处理结果在屏幕显示、保存到硬盘，通过网络传送等。"
   ]
  },
  {
   "cell_type": "markdown",
   "metadata": {
    "slideshow": {
     "slide_type": "slide"
    }
   },
   "source": [
    "## 硬盘上的文件\n",
    "\n",
    "硬盘上的文件路径是一个字符串，用来指明一个文件或目录：\n",
    "- Windows系统，`E:\\\\data\\\\scores.csv`\n",
    "- Linux系统，`/home/whwang/data/scores.csv`"
   ]
  },
  {
   "cell_type": "markdown",
   "metadata": {
    "slideshow": {
     "slide_type": "slide"
    }
   },
   "source": [
    "### 文件格式与编码\n",
    "\n",
    "硬盘存储的文件都是二进制的。根据编码逻辑，可以把文件分为文本和二进制文件。\n",
    "- 文本文件是基于字符编码，其内容为人类可以阅读的文字。\n",
    "- 二进制文件是基于值编码的文件，应用不同，遵循的编码也不同。"
   ]
  },
  {
   "cell_type": "markdown",
   "metadata": {
    "slideshow": {
     "slide_type": "-"
    }
   },
   "source": [
    "二进制文件遵循特定的编码格式，要借助特定工具才能为人认识,如：\n",
    "- 可执行文件（exe,dll）\n",
    "- 图像文件（bpm、jpg、gif\n",
    "）\n",
    "- 影像文件（mp3,mp4）\n",
    "- office文件（doc, ppt, xls等）"
   ]
  },
  {
   "cell_type": "markdown",
   "metadata": {
    "slideshow": {
     "slide_type": "slide"
    }
   },
   "source": [
    "## `open()`函数\n",
    "\n",
    "- 使用`open()`函数向操作系统请求打开一个文件对象（也称为文件描述符）；\n",
    "- 然后通过文件对象来读取数据，或者写入数据。"
   ]
  },
  {
   "cell_type": "markdown",
   "metadata": {
    "slideshow": {
     "slide_type": "slide"
    }
   },
   "source": [
    "```\n",
    "open(file, mode='r', buffering=-1, encoding=None, errors=None, newline=None, closefd=True, opener=None)\n",
    "```\n",
    "其中主要参数为：\n",
    "- `file`，位置参数，指定文件路径名\n",
    "- `mode`，打开文件的模式，缺省是只读模式`rt`\n",
    "- `encoding`，指定文件编码方式"
   ]
  },
  {
   "cell_type": "markdown",
   "metadata": {
    "slideshow": {
     "slide_type": "slide"
    }
   },
   "source": [
    "### 打开模式\n",
    "\n",
    "`open`文件的打开模式有如下选项：\n",
    "\n",
    "| 模式  | 操作  | 说明  |\n",
    "|:-----:|:-----:|:------|\t\t\n",
    "| `r` |\t只读\t| 默认模式，打开文件准备读取 |\n",
    "| `w` |\t只写\t| 打开文件准备写入，会先清空文件内容|\n",
    "| `x` |\t新建\t| 新建文件，并打开准备写入，比`w`模式更安全|\n",
    "| `a` |\t追加\t| 打开文件准备写入，如果文件存在，从文件尾追加写入|\n",
    "| `b` |\t二进制模式\t| 以二进制模式操作文件 |\n",
    "| `t` |\t文本文件模式\t| 缺省值，以文本文件操作文件文件 |\n",
    "| `+` |\t读写模式\t| 打开文件准备读写 |"
   ]
  },
  {
   "cell_type": "markdown",
   "metadata": {
    "slideshow": {
     "slide_type": "slide"
    }
   },
   "source": [
    "### 打开文件\n",
    "\n",
    "使用只读模式打开`scores.csv`。"
   ]
  },
  {
   "cell_type": "code",
   "execution_count": 1,
   "metadata": {
    "slideshow": {
     "slide_type": "-"
    }
   },
   "outputs": [],
   "source": [
    "filename = 'scores.csv' \n",
    "fh = open(filename, 'r', encoding='utf-8')"
   ]
  },
  {
   "cell_type": "markdown",
   "metadata": {
    "collapsed": true,
    "slideshow": {
     "slide_type": "slide"
    }
   },
   "source": [
    "`open()`函数会返回一个文件对象。如果文件不存在会引起`FileNotFoundError`的异常。"
   ]
  },
  {
   "cell_type": "code",
   "execution_count": 2,
   "metadata": {
    "slideshow": {
     "slide_type": "-"
    }
   },
   "outputs": [
    {
     "ename": "FileNotFoundError",
     "evalue": "[Errno 2] No such file or directory: 'unknownfile.txt'",
     "output_type": "error",
     "traceback": [
      "\u001b[0;31m---------------------------------------------------------------------------\u001b[0m",
      "\u001b[0;31mFileNotFoundError\u001b[0m                         Traceback (most recent call last)",
      "\u001b[0;32m<ipython-input-2-16a035428e07>\u001b[0m in \u001b[0;36m<module>\u001b[0;34m\u001b[0m\n\u001b[1;32m      1\u001b[0m \u001b[0mfilename\u001b[0m \u001b[0;34m=\u001b[0m \u001b[0;34m'unknownfile.txt'\u001b[0m\u001b[0;34m\u001b[0m\u001b[0;34m\u001b[0m\u001b[0m\n\u001b[0;32m----> 2\u001b[0;31m \u001b[0mfh\u001b[0m \u001b[0;34m=\u001b[0m \u001b[0mopen\u001b[0m\u001b[0;34m(\u001b[0m\u001b[0mfilename\u001b[0m\u001b[0;34m)\u001b[0m\u001b[0;34m\u001b[0m\u001b[0;34m\u001b[0m\u001b[0m\n\u001b[0m",
      "\u001b[0;31mFileNotFoundError\u001b[0m: [Errno 2] No such file or directory: 'unknownfile.txt'"
     ]
    }
   ],
   "source": [
    "filename = 'unknownfile.txt'\n",
    "fh = open(filename)"
   ]
  },
  {
   "cell_type": "code",
   "execution_count": 3,
   "metadata": {
    "slideshow": {
     "slide_type": "slide"
    }
   },
   "outputs": [
    {
     "name": "stdout",
     "output_type": "stream",
     "text": [
      "[Errno 2] No such file or directory: 'unknownfile.txt'\n"
     ]
    }
   ],
   "source": [
    "try:\n",
    "    filename = 'unknownfile.txt'\n",
    "    fh = open(filename)\n",
    "except FileNotFoundError as e:\n",
    "    print('{}'.format(e))    "
   ]
  },
  {
   "cell_type": "code",
   "execution_count": 6,
   "metadata": {
    "slideshow": {
     "slide_type": "slide"
    }
   },
   "outputs": [],
   "source": [
    "try:\n",
    "    filename = 'scores.csv' \n",
    "    with open(filename) as fh:\n",
    "        pass\n",
    "except FileNotFoundError as e:\n",
    "    print('{}'.format(e))        "
   ]
  },
  {
   "cell_type": "markdown",
   "metadata": {
    "slideshow": {
     "slide_type": "slide"
    }
   },
   "source": [
    "## 文件对象\n",
    "\n",
    "`open()`函数打开文件，会返回一个文件对象:"
   ]
  },
  {
   "cell_type": "markdown",
   "metadata": {
    "slideshow": {
     "slide_type": "slide"
    }
   },
   "source": [
    "#### 常用方法\n",
    "\n",
    "| 方法  |  说明       |\t\n",
    "|:------|:---------------|\n",
    "|`f.close()`| 关闭文件。关闭后文件不能再进行读写操作。|\n",
    "|`f.flush()`| 刷新文件内部缓冲，直接把内部缓冲区的数据立刻写入文件, 而不是被动的等待输出缓冲区写入。。|\n",
    "|`f.fileno()`| 返回一个整型的文件描述符(file descriptor FD 整型), 可以用在如os模块的read方法等一些底层操作上。。|\n",
    "|`f.isatty()`| 如果文件连接到一个终端设备返回 True，否则返回 False。。|\n",
    "|`f.next()`| 返回文件下一行。。|\n",
    "|`f.read()`| 从文件读取指定的字节数，如果未给定或为负则读取所有。|\n",
    "|`f.readline()`| 读取整行，包括 \"\\n\" 字符。|\n",
    "|`f.readlines()`| 读取所有行并返回列表，若给定sizeint>0，返回总和大约为sizeint字节的行, 实际读取值可能比 sizeint 较大, 因为需要填充缓冲区。|\n",
    "|`f.seek()`| 设置文件当前位置|\n",
    "|`f.tell()`| 返回文件当前位置。|\n",
    "|`f.truncate([size])`| 从文件的首行首字符开始截断，截断文件为 size 个字符，无 size 表示从当前位置截断；截断之后后面的所有字符被删除，其中 Widnows 系统下的换行代表2个字符大小。|\n",
    "|`f.write()`| 将字符串写入文件，返回的是写入的字符长度。|\n",
    "|`f.writelines()`| 向文件写入一个序列字符串列表，如果需要换行则要自己加入每行的换行符。|"
   ]
  },
  {
   "cell_type": "markdown",
   "metadata": {
    "slideshow": {
     "slide_type": "slide"
    }
   },
   "source": [
    "** 读取文件 **\n",
    "\n",
    "* `f.read()`  \n",
    "读取字节\n",
    "\n",
    "* `f.readline()`  \n",
    "读取一行\n",
    "\n",
    "* `f.readlines()`  \n",
    "读取所有行"
   ]
  },
  {
   "cell_type": "markdown",
   "metadata": {
    "slideshow": {
     "slide_type": "-"
    }
   },
   "source": [
    "** 写入文件**\n",
    "\n",
    "* `f.write()`\n",
    "* `f.writelines()`"
   ]
  },
  {
   "cell_type": "code",
   "execution_count": 5,
   "metadata": {
    "slideshow": {
     "slide_type": "slide"
    }
   },
   "outputs": [
    {
     "name": "stdout",
     "output_type": "stream",
     "text": [
      "Number   Name            Chinese    Math     Python\n",
      "1        FengHaotong     80.0       90.0      62.0\n",
      "2        CuiYuzhu        90.0       88.0      64.0\n",
      "3        Shilingling     70.0       82.0      66.0\n",
      "4        LiuZiang        60.0       76.0      68.0\n"
     ]
    }
   ],
   "source": [
    "filename = 'scores.csv' \n",
    "fh = open(filename)\n",
    "text = fh.read()\n",
    "print(text)\n",
    "fh.close()"
   ]
  },
  {
   "cell_type": "code",
   "execution_count": 6,
   "metadata": {
    "slideshow": {
     "slide_type": "slide"
    }
   },
   "outputs": [
    {
     "name": "stdout",
     "output_type": "stream",
     "text": [
      "Number   Name            Chinese    Math     Python\n",
      "\n",
      "1        FengHaotong     80.0       90.0      62.0\n",
      "\n"
     ]
    }
   ],
   "source": [
    "filename = 'scores.csv' \n",
    "fh = open(filename)\n",
    "line = fh.readline()\n",
    "print(line)\n",
    "line = fh.readline()\n",
    "print(line)\n",
    "fh.close()"
   ]
  },
  {
   "cell_type": "code",
   "execution_count": 7,
   "metadata": {
    "slideshow": {
     "slide_type": "slide"
    }
   },
   "outputs": [
    {
     "name": "stdout",
     "output_type": "stream",
     "text": [
      "Number   Name            Chinese    Math     Python\n",
      "\n",
      "4        LiuZiang        60.0       76.0      68.0\n"
     ]
    }
   ],
   "source": [
    "filename = 'scores.csv' \n",
    "fh = open(filename)\n",
    "lines = fh.readlines()\n",
    "print(lines[0])\n",
    "print(lines[-1])\n",
    "fh.close()"
   ]
  },
  {
   "cell_type": "markdown",
   "metadata": {
    "slideshow": {
     "slide_type": "slide"
    }
   },
   "source": [
    "## 示例-学生成绩单统计\n",
    "\n",
    "学生成绩单保存在`scores.csv`文件里，每个学生一行，每行有学号，姓名，语文成绩，数学成绩，Python成绩，各栏目间用空格分隔。\n",
    "\n",
    "要求统计每个学生的三科总分，并打印出来。"
   ]
  },
  {
   "cell_type": "markdown",
   "metadata": {
    "slideshow": {
     "slide_type": "slide"
    }
   },
   "source": [
    "基本过程：\n",
    "- 从scores.csv里读取学生成绩单；\n",
    "- 统计三科总分（各科成绩均为浮点数）\n",
    "- 打印结果"
   ]
  },
  {
   "cell_type": "code",
   "execution_count": 12,
   "metadata": {
    "slideshow": {
     "slide_type": "slide"
    }
   },
   "outputs": [
    {
     "name": "stdout",
     "output_type": "stream",
     "text": [
      "1 FengHaotong 232.0\n",
      "2 CuiYuzhu 242.0\n",
      "3 Shilingling 218.0\n",
      "4 LiuZiang 204.0\n"
     ]
    }
   ],
   "source": [
    "try:\n",
    "    filename = 'assets/scores.csv' \n",
    "    with open(filename) as fh:\n",
    "        # read the first line\n",
    "        line = fh.readline()\n",
    "        # read the data lines\n",
    "        for line in fh.readlines():\n",
    "            words = line.split()\n",
    "            student_number = int(words[0])\n",
    "            name = words[1]\n",
    "            chinese = float(words[2])\n",
    "            math = float(words[3])\n",
    "            python = float(words[4])\n",
    "            total = chinese + math + python\n",
    "            print(student_number, name, total)\n",
    "except FileNotFoundError as e:\n",
    "    print('{}'.format(e))        "
   ]
  },
  {
   "cell_type": "markdown",
   "metadata": {
    "collapsed": true,
    "slideshow": {
     "slide_type": "slide"
    }
   },
   "source": [
    "## 实例2\n",
    "\n",
    "* 打开`scores.csv`，并读取文件；\n",
    "* 对每一行进行解析，统计总分；\n",
    "* 打开`scores.done.csv'`，并写入"
   ]
  },
  {
   "cell_type": "code",
   "execution_count": 9,
   "metadata": {
    "slideshow": {
     "slide_type": "slide"
    }
   },
   "outputs": [
    {
     "name": "stdout",
     "output_type": "stream",
     "text": [
      "Writing sumscore.py\n"
     ]
    }
   ],
   "source": [
    "%%writefile sumscore.py\n",
    "# Open the input and output file\n",
    "inpfile = 'assets/scores.csv'\n",
    "outfile = 'assets/scores.done.csv'\n",
    "\n",
    "with open(inpfile, 'r') as inpfh, open(outfile, 'w') as outfh:\n",
    "    # the first line\n",
    "    headline = inpfh.readline()\n",
    "    s = '{0}   total\\n'.format(headline.strip())\n",
    "    outfh.write(s)\n",
    "\n",
    "    # for data lines\n",
    "    s = '{0:>4}   {1:<16}  {2:4.1f}  {3:4.1f}  {4:4.1f}  {5:4.1f}\\n'\n",
    "    for line in inpfh:\n",
    "        words = line.split()\n",
    "        studentNumber = int(words[0])\n",
    "        name = words[1]\n",
    "        chinese = float(words[2])\n",
    "        math = float(words[3])\n",
    "        python = float(words[4])\n",
    "        total = chinese + math + python\n",
    "        outline = s.format(studentNumber, name, chinese, math, python, total)\n",
    "        outfh.write(outline)"
   ]
  },
  {
   "cell_type": "code",
   "execution_count": 10,
   "metadata": {
    "slideshow": {
     "slide_type": "slide"
    }
   },
   "outputs": [],
   "source": [
    "%run sumscore.py"
   ]
  },
  {
   "cell_type": "code",
   "execution_count": 11,
   "metadata": {
    "slideshow": {
     "slide_type": "-"
    }
   },
   "outputs": [],
   "source": [
    "%more assets/scores.done.csv"
   ]
  }
 ],
 "metadata": {
  "celltoolbar": "幻灯片",
  "kernelspec": {
   "display_name": "Python 3",
   "language": "python",
   "name": "python3"
  },
  "language_info": {
   "codemirror_mode": {
    "name": "ipython",
    "version": 3
   },
   "file_extension": ".py",
   "mimetype": "text/x-python",
   "name": "python",
   "nbconvert_exporter": "python",
   "pygments_lexer": "ipython3",
   "version": "3.7.3"
  },
  "toc": {
   "base_numbering": 1,
   "nav_menu": {},
   "number_sections": true,
   "sideBar": true,
   "skip_h1_title": false,
   "title_cell": "Table of Contents",
   "title_sidebar": "Contents",
   "toc_cell": false,
   "toc_position": {},
   "toc_section_display": true,
   "toc_window_display": false
  }
 },
 "nbformat": 4,
 "nbformat_minor": 1
}
