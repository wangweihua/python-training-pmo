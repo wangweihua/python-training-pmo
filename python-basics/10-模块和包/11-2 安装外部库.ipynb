{
 "cells": [
  {
   "cell_type": "markdown",
   "metadata": {
    "slideshow": {
     "slide_type": "slide"
    }
   },
   "source": [
    "# 安装外部库\n",
    "\n",
    "- 标准库。\n",
    "- 第三方库和软件。"
   ]
  },
  {
   "cell_type": "markdown",
   "metadata": {
    "slideshow": {
     "slide_type": "-"
    }
   },
   "source": [
    "## 使用 `pip` 安装\n",
    "\n",
    "[PyPi（Python Package Index）](https://pypi.org/)是 Python 语言开发的软件包的仓库。"
   ]
  },
  {
   "cell_type": "markdown",
   "metadata": {
    "slideshow": {
     "slide_type": "slide"
    }
   },
   "source": [
    "**使用PyPi国内镜像（清华大学）**\n",
    "\n",
    "- Linux操作系统   \n",
    "新建或修改`~/.pip/pip.conf`，添加内容：\n",
    "```\n",
    "[global]\n",
    "index-url = https://pypi.tuna.tsinghua.edu.cn/simple\n",
    "```\n",
    "- Windows操作系统  \n",
    "在用户主目录下新建文件`C:\\Users\\xxx\\pip\\pip.ini`，添加内容\n",
    "```\n",
    "[global]\n",
    "index-url = https://pypi.tuna.tsinghua.edu.cn/simple\n",
    "```"
   ]
  },
  {
   "cell_type": "markdown",
   "metadata": {
    "slideshow": {
     "slide_type": "slide"
    }
   },
   "source": [
    "`pip`命令的使用语法如下：\n",
    "```\n",
    "pip <command> [options]\n",
    "```"
   ]
  },
  {
   "cell_type": "markdown",
   "metadata": {
    "slideshow": {
     "slide_type": "-"
    }
   },
   "source": [
    "| 子命令  | 说明 |\n",
    "|:-------:|:-------|\n",
    "|`install` | 安装软件包|\n",
    "|`download` | 下载软件包 |\n",
    "|`uninstall` |卸载软件包 |\n",
    "|`freeze` | 导出依赖文件列表 |\n",
    "|`list` | 查看已安装软件包 |\n",
    "|`show` | 显示软件包的详细安装信息（文件及路径） |\n",
    "|`search` | 搜索 PyPi 仓库的软件包 |\n",
    "|`help` | 帮助 |"
   ]
  },
  {
   "cell_type": "markdown",
   "metadata": {
    "slideshow": {
     "slide_type": "slide"
    }
   },
   "source": [
    "从缺省PyPi仓库安装指定软件包的当前版本\n",
    "```\n",
    "$ pip install packagename\n",
    "```\n",
    "\n",
    "可以使用`==, >=, <=, >, <`操作符，安装指定版本号的软件包：\n",
    "```\n",
    "$ pip install packagename==1.0.4     # 指定版本号\n",
    "pip install packagename>=1,<2       # 指定版本范围\n",
    "$ pip install packagename>=1.0.4     # 指定最小版本\n",
    "```"
   ]
  },
  {
   "cell_type": "markdown",
   "metadata": {
    "slideshow": {
     "slide_type": "slide"
    }
   },
   "source": [
    "更新已安装软件包：\n",
    "```\n",
    "pip install --upgrade packagename\n",
    "```"
   ]
  },
  {
   "cell_type": "markdown",
   "metadata": {
    "slideshow": {
     "slide_type": "slide"
    }
   },
   "source": [
    "### `pip uninstall`卸载软件包\n",
    "\n",
    "可以轻松卸载指定软件包\n",
    "```\n",
    "pip uninstall packagename\n",
    "```"
   ]
  },
  {
   "cell_type": "markdown",
   "metadata": {
    "slideshow": {
     "slide_type": "slide"
    }
   },
   "source": [
    "### `pip freeze`导出依赖文件列表\n",
    "\n",
    "`pip freeze`子命令会把当前环境安装的库导出到一个列表文件中：\n",
    "\n",
    "```\n",
    "pip freeze > requirements.txt\n",
    "```"
   ]
  },
  {
   "cell_type": "code",
   "execution_count": 18,
   "metadata": {
    "slideshow": {
     "slide_type": "-"
    }
   },
   "outputs": [],
   "source": [
    "!pip freeze > requirements.txt"
   ]
  },
  {
   "cell_type": "code",
   "execution_count": 19,
   "metadata": {
    "slideshow": {
     "slide_type": "slide"
    }
   },
   "outputs": [
    {
     "name": "stdout",
     "output_type": "stream",
     "text": [
      "alabaster==0.7.10\r\n",
      "alembic==0.9.7\r\n",
      "anaconda-client==1.6.9\r\n",
      "anaconda-navigator==1.7.0\r\n",
      "anaconda-project==0.8.2\r\n",
      "asn1crypto==0.24.0\r\n",
      "astroid==1.6.1\r\n",
      "astropy==2.0.3\r\n",
      "attrs==17.4.0\r\n",
      "Babel==2.5.3\r\n",
      "backports.shutil-get-terminal-size==1.0.0\r\n",
      "beautifulsoup4==4.6.0\r\n",
      "bitarray==0.8.1\r\n",
      "bkcharts==0.2\r\n",
      "blaze==0.11.3\r\n",
      "bleach==2.1.3\r\n",
      "bokeh==0.12.13\r\n",
      "boto==2.48.0\r\n",
      "Bottleneck==1.2.1\r\n",
      "certifi==2018.1.18\r\n",
      "cffi==1.11.4\r\n",
      "chardet==3.0.4\r\n",
      "click==6.7\r\n",
      "cloudpickle==0.5.2\r\n",
      "clyent==1.2.2\r\n",
      "cntk==2.3.1\r\n",
      "colorama==0.3.9\r\n",
      "conda==4.4.10\r\n",
      "conda-build==3.4.1\r\n",
      "conda-verify==2.0.0\r\n",
      "contextlib2==0.5.5\r\n",
      "cryptography==2.1.4\r\n",
      "cycler==0.10.0\r\n",
      "Cython==0.27.3\r\n",
      "cytoolz==0.9.0\r\n",
      "dask==0.16.1\r\n",
      "datashape==0.5.4\r\n",
      "decorator==4.2.1\r\n",
      "distributed==1.20.2\r\n",
      "docutils==0.14\r\n",
      "entrypoints==0.2.3\r\n",
      "et-xmlfile==1.0.1\r\n",
      "fastcache==1.0.2\r\n",
      "filelock==2.0.13\r\n",
      "Flask==0.12.2\r\n",
      "Flask-Cors==3.0.3\r\n",
      "gevent==1.2.2\r\n",
      "glob2==0.6\r\n",
      "gmpy2==2.0.8\r\n",
      "googletrans==2.2.0\r\n",
      "graphviz==0.8.2\r\n",
      "greenlet==0.4.12\r\n",
      "h5py==2.7.1\r\n",
      "heapdict==1.0.0\r\n",
      "html5lib==1.0.1\r\n",
      "idna==2.6\r\n",
      "imageio==2.2.0\r\n",
      "imagesize==0.7.1\r\n",
      "ipykernel==4.8.2\r\n",
      "ipython==6.2.1\r\n",
      "ipython-genutils==0.2.0\r\n",
      "ipywidgets==7.1.1\r\n",
      "isort==4.2.15\r\n",
      "itsdangerous==0.24\r\n",
      "jdcal==1.3\r\n",
      "jedi==0.11.1\r\n",
      "Jinja2==2.10\r\n",
      "jsonschema==2.6.0\r\n",
      "jupyter==1.0.0\r\n",
      "jupyter-client==5.2.3\r\n",
      "jupyter-console==5.2.0\r\n",
      "jupyter-contrib-core==0.3.3\r\n",
      "jupyter-contrib-nbextensions==0.5.0\r\n",
      "jupyter-core==4.4.0\r\n",
      "jupyter-highlight-selected-word==0.1.1\r\n",
      "jupyter-latex-envs==1.4.4\r\n",
      "jupyter-nbextensions-configurator==0.4.0\r\n",
      "jupyterhub==0.8.1\r\n",
      "jupyterlab==0.31.5\r\n",
      "jupyterlab-launcher==0.10.2\r\n",
      "Keras==2.1.5\r\n",
      "lazy-object-proxy==1.3.1\r\n",
      "llvmlite==0.21.0\r\n",
      "locket==0.2.0\r\n",
      "lxml==4.1.1\r\n",
      "Mako==1.0.7\r\n",
      "MarkupSafe==1.0\r\n",
      "matplotlib==2.1.2\r\n",
      "mccabe==0.6.1\r\n",
      "mistune==0.8.3\r\n",
      "mock==2.0.0\r\n",
      "mpmath==1.0.0\r\n",
      "msgpack-python==0.5.1\r\n",
      "multipledispatch==0.4.9\r\n",
      "navigator-updater==0.1.0\r\n",
      "nbconvert==5.3.1\r\n",
      "nbformat==4.4.0\r\n",
      "networkx==2.1\r\n",
      "nltk==3.2.5\r\n",
      "nose==1.3.7\r\n",
      "notebook==5.4.1\r\n",
      "numba==0.36.2\r\n",
      "numexpr==2.6.4\r\n",
      "numpy==1.14.0\r\n",
      "numpydoc==0.7.0\r\n",
      "odo==0.5.1\r\n",
      "olefile==0.45.1\r\n",
      "openpyxl==2.4.10\r\n",
      "packaging==16.8\r\n",
      "pamela==0.3.0\r\n",
      "pandas==0.22.0\r\n",
      "pandocfilters==1.4.2\r\n",
      "parso==0.1.1\r\n",
      "partd==0.3.8\r\n",
      "path.py==10.5\r\n",
      "pathlib2==2.3.0\r\n",
      "patsy==0.5.0\r\n",
      "pbr==3.1.1\r\n",
      "pdf2image==0.1.11\r\n",
      "pdfminer.six==20170720\r\n",
      "pep8==1.7.1\r\n",
      "pexpect==4.4.0\r\n",
      "pickleshare==0.7.4\r\n",
      "Pillow==5.0.0\r\n",
      "pkginfo==1.4.1\r\n",
      "pluggy==0.6.0\r\n",
      "ply==3.10\r\n",
      "prompt-toolkit==1.0.15\r\n",
      "protobuf==3.5.1\r\n",
      "psutil==5.4.3\r\n",
      "ptyprocess==0.5.2\r\n",
      "py==1.5.2\r\n",
      "pycodestyle==2.3.1\r\n",
      "pycosat==0.6.3\r\n",
      "pycparser==2.18\r\n",
      "pycrypto==2.6.1\r\n",
      "pycryptodome==3.6.1\r\n",
      "pycurl==7.43.0.1\r\n",
      "pyflakes==1.6.0\r\n",
      "Pygments==2.2.0\r\n",
      "pylint==1.8.2\r\n",
      "pymssql==2.1.3\r\n",
      "PyMuPDF==1.13.8\r\n",
      "pyodbc==4.0.22\r\n",
      "pyOpenSSL==17.5.0\r\n",
      "pyparsing==2.2.0\r\n",
      "PyPDF2==1.26.0\r\n",
      "PySocks==1.6.7\r\n",
      "pytdx==1.65\r\n",
      "pytest==3.3.2\r\n",
      "python-dateutil==2.7.2\r\n",
      "python-editor==1.0.3\r\n",
      "python-oauth2==1.0.1\r\n",
      "pytz==2017.3\r\n",
      "PyWavelets==0.5.2\r\n",
      "PyYAML==3.12\r\n",
      "pyzmq==17.0.0\r\n",
      "QtAwesome==0.4.4\r\n",
      "qtconsole==4.3.1\r\n",
      "QtPy==1.3.1\r\n",
      "requests==2.18.4\r\n",
      "rise==5.2.0\r\n",
      "rope==0.10.7\r\n",
      "ruamel-yaml==0.15.35\r\n",
      "scikit-image==0.13.1\r\n",
      "scikit-learn==0.19.1\r\n",
      "scipy==1.0.0\r\n",
      "seaborn==0.8.1\r\n",
      "Send2Trash==1.5.0\r\n",
      "simplegeneric==0.8.1\r\n",
      "singledispatch==3.4.0.3\r\n",
      "six==1.11.0\r\n",
      "snowballstemmer==1.2.1\r\n",
      "sortedcollections==0.5.3\r\n",
      "sortedcontainers==1.5.9\r\n",
      "Sphinx==1.6.6\r\n",
      "sphinxcontrib-websupport==1.0.1\r\n",
      "spyder==3.2.6\r\n",
      "SQLAlchemy==1.2.1\r\n",
      "statsmodels==0.8.0\r\n",
      "sympy==1.1.1\r\n",
      "TA-Lib==0.4.17\r\n",
      "tables==3.4.2\r\n",
      "tblib==1.3.2\r\n",
      "tensorflow==1.1.0\r\n",
      "terminado==0.8.1\r\n",
      "testpath==0.3.1\r\n",
      "toolz==0.9.0\r\n",
      "tornado==5.0.1\r\n",
      "traitlets==4.3.2\r\n",
      "tushare==1.1.6\r\n",
      "typing==3.6.2\r\n",
      "unicodecsv==0.14.1\r\n",
      "urllib3==1.22\r\n",
      "wcwidth==0.1.7\r\n",
      "webencodings==0.5.1\r\n",
      "Werkzeug==0.14.1\r\n",
      "widgetsnbextension==3.1.0\r\n",
      "wrapt==1.10.11\r\n",
      "xlrd==1.1.0\r\n",
      "XlsxWriter==1.0.2\r\n",
      "xlwt==1.3.0\r\n",
      "zict==0.1.3\r\n"
     ]
    }
   ],
   "source": [
    "%cat requirements.txt"
   ]
  },
  {
   "cell_type": "markdown",
   "metadata": {
    "slideshow": {
     "slide_type": "slide"
    }
   },
   "source": [
    "反之，使用`requirements.txt`文件可以批处理安装软件包：\n",
    "```\n",
    "pip install -r requirements.txt\n",
    "```"
   ]
  }
 ],
 "metadata": {
  "celltoolbar": "幻灯片",
  "kernelspec": {
   "display_name": "Python 3",
   "language": "python",
   "name": "python3"
  },
  "language_info": {
   "codemirror_mode": {
    "name": "ipython",
    "version": 3
   },
   "file_extension": ".py",
   "mimetype": "text/x-python",
   "name": "python",
   "nbconvert_exporter": "python",
   "pygments_lexer": "ipython3",
   "version": "3.7.3"
  },
  "toc": {
   "base_numbering": 1,
   "nav_menu": {},
   "number_sections": true,
   "sideBar": true,
   "skip_h1_title": false,
   "title_cell": "Table of Contents",
   "title_sidebar": "Contents",
   "toc_cell": false,
   "toc_position": {
    "height": "calc(100% - 180px)",
    "left": "10px",
    "top": "150px",
    "width": "384px"
   },
   "toc_section_display": true,
   "toc_window_display": false
  }
 },
 "nbformat": 4,
 "nbformat_minor": 1
}
