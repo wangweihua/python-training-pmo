{
 "cells": [
  {
   "cell_type": "markdown",
   "metadata": {
    "slideshow": {
     "slide_type": "slide"
    }
   },
   "source": [
    "# 流程控制\n",
    "\n",
    "- 条件语句\n",
    "- 循环语句\n",
    "    - `for`循环\n",
    "    - `while`循环\n",
    "    - `break`与`continue`语句\n",
    "- `pass`语句"
   ]
  },
  {
   "cell_type": "markdown",
   "metadata": {
    "slideshow": {
     "slide_type": "slide"
    }
   },
   "source": [
    "## 条件语句\n",
    "\n",
    "当要根据不同条件来执行不同的代码时，就需要条件语句来实现不同的分支。在 Python 中，可以使用`if…elif…else`语句来实现条件分支。其语法为：\n",
    "```python\n",
    "if expression1:\n",
    "   statement(s)\n",
    "elif expression2:\n",
    "   statement(s)\n",
    "elif expression3:\n",
    "   statement(s)\n",
    "else:\n",
    "   statement(s)\n",
    "```"
   ]
  },
  {
   "cell_type": "markdown",
   "metadata": {
    "slideshow": {
     "slide_type": "slide"
    }
   },
   "source": [
    "- 条件表达式后面要有冒号`:`\n",
    "- 使用缩进来表示分支语句块要缩进"
   ]
  },
  {
   "cell_type": "markdown",
   "metadata": {
    "slideshow": {
     "slide_type": "slide"
    }
   },
   "source": [
    "### `if` 语句\n",
    "\n",
    "先介绍最简单条件语句，就是只用 `if` 语句，其语法为：\n",
    "```\n",
    "if condition:\n",
    "    statement(s)\n",
    "```"
   ]
  },
  {
   "cell_type": "code",
   "execution_count": 1,
   "metadata": {
    "slideshow": {
     "slide_type": "-"
    }
   },
   "outputs": [
    {
     "name": "stdout",
     "output_type": "stream",
     "text": [
      "Be careful not to fall off!\n",
      "This is always printed.\n"
     ]
    }
   ],
   "source": [
    "earth_is_flat = True\n",
    "if earth_is_flat:\n",
    "    print('Be careful not to fall off!')\n",
    "print(\"This is always printed.\")"
   ]
  },
  {
   "cell_type": "markdown",
   "metadata": {
    "slideshow": {
     "slide_type": "slide"
    }
   },
   "source": [
    "当条件表达式为 `False` 时，其缩进的语句块不会执行。\n",
    "\n",
    "没有语法错误，Python 并不会抛出其它异常错误。"
   ]
  },
  {
   "cell_type": "code",
   "execution_count": 2,
   "metadata": {
    "slideshow": {
     "slide_type": "-"
    }
   },
   "outputs": [],
   "source": [
    "if False:\n",
    "    x = 1 / 0     # ZeroDivisionError\n",
    "    syntax        # NameError"
   ]
  },
  {
   "cell_type": "markdown",
   "metadata": {
    "slideshow": {
     "slide_type": "slide"
    }
   },
   "source": [
    "由于条件表达式为假，所以 Python 会对这些错误视而不见。但是，一旦该条件表达式为真时，Python 就会抛出异常错误，导致软件无法中断："
   ]
  },
  {
   "cell_type": "code",
   "execution_count": 4,
   "metadata": {
    "slideshow": {
     "slide_type": "-"
    }
   },
   "outputs": [
    {
     "ename": "ZeroDivisionError",
     "evalue": "division by zero",
     "output_type": "error",
     "traceback": [
      "\u001b[0;31m---------------------------------------------------------------------------\u001b[0m",
      "\u001b[0;31mZeroDivisionError\u001b[0m                         Traceback (most recent call last)",
      "\u001b[0;32m<ipython-input-4-1a2e275243f5>\u001b[0m in \u001b[0;36m<module>\u001b[0;34m\u001b[0m\n\u001b[1;32m      1\u001b[0m \u001b[0;32mif\u001b[0m \u001b[0;32mTrue\u001b[0m\u001b[0;34m:\u001b[0m\u001b[0;34m\u001b[0m\u001b[0;34m\u001b[0m\u001b[0m\n\u001b[0;32m----> 2\u001b[0;31m     \u001b[0mx\u001b[0m \u001b[0;34m=\u001b[0m \u001b[0;36m1\u001b[0m \u001b[0;34m/\u001b[0m \u001b[0;36m0\u001b[0m     \u001b[0;31m# ZeroDivisionError\u001b[0m\u001b[0;34m\u001b[0m\u001b[0;34m\u001b[0m\u001b[0m\n\u001b[0m\u001b[1;32m      3\u001b[0m     \u001b[0msyntax\u001b[0m          \u001b[0;31m# NameError\u001b[0m\u001b[0;34m\u001b[0m\u001b[0;34m\u001b[0m\u001b[0m\n",
      "\u001b[0;31mZeroDivisionError\u001b[0m: division by zero"
     ]
    }
   ],
   "source": [
    "if True:\n",
    "    x = 1 / 0     # ZeroDivisionError\n",
    "    syntax          # NameError"
   ]
  },
  {
   "cell_type": "markdown",
   "metadata": {
    "slideshow": {
     "slide_type": "slide"
    }
   },
   "source": [
    "### `if...else...` 语句\n",
    "\n",
    "使用 `if` 与 `else` 语句可以实现流程的两个分支。：\n",
    "```\n",
    "if condition:\n",
    "    statement(s) of if\n",
    "else:\n",
    "    statement(s) of else\n",
    "```"
   ]
  },
  {
   "cell_type": "code",
   "execution_count": null,
   "metadata": {
    "slideshow": {
     "slide_type": "slide"
    }
   },
   "outputs": [],
   "source": [
    "# Try different number\n",
    "num = 3   \n",
    "# num = -5\n",
    "# num = 0\n",
    "\n",
    "if num >= 0:\n",
    "    print(\"自然数\")\n",
    "else:\n",
    "    print(\"负整数\")"
   ]
  },
  {
   "cell_type": "markdown",
   "metadata": {
    "slideshow": {
     "slide_type": "slide"
    }
   },
   "source": [
    "### 多个分支\n",
    "\n",
    "使用if…elif…else语句可以实现多个条件分支。\n",
    "\n",
    "`sys` 模块的变量`sys.platform`存放所在操作系统的名称，不同操作系统会有不同的值：\n",
    "- `win`，代表Windows系统\n",
    "- `linux`，代表Linux系统\n",
    "- `darwin`，代表苹果系统"
   ]
  },
  {
   "cell_type": "code",
   "execution_count": null,
   "metadata": {
    "slideshow": {
     "slide_type": "slide"
    }
   },
   "outputs": [],
   "source": [
    "import sys\n",
    "\n",
    "if sys.platform.startswith('win'):\n",
    "    print('Windows system')\n",
    "elif sys.platform.startswith('linux'):\n",
    "    print('Linux system')\n",
    "elif sys.platform.startswith('darwin'):\n",
    "    print('Apple system')\n",
    "else:\n",
    "    print('Unknown system')"
   ]
  },
  {
   "cell_type": "markdown",
   "metadata": {
    "slideshow": {
     "slide_type": "slide"
    }
   },
   "source": [
    "### 三元运算符替代\n",
    "\n",
    "在其它语言，例如 C 语言中有三元运算符可以实现轻量级的 `if...else...` 表达式：\n",
    "```c\n",
    "X ? V1:V2\n",
    "```\n",
    "\n",
    "Python 把`if...else...`语句缩减为单一表达式：\n",
    "```pyhton\n",
    "expression1 if boolean_expression else expression2\n",
    "```"
   ]
  },
  {
   "cell_type": "code",
   "execution_count": null,
   "metadata": {
    "slideshow": {
     "slide_type": "-"
    }
   },
   "outputs": [],
   "source": [
    "sex = 'male'\n",
    "address = 'Gentleman' if sex == 'male' else 'Lady'\n",
    "'Hi, {0}'.format(address)"
   ]
  },
  {
   "cell_type": "markdown",
   "metadata": {
    "slideshow": {
     "slide_type": "slide"
    }
   },
   "source": [
    "### 嵌套条件语句\n"
   ]
  },
  {
   "cell_type": "code",
   "execution_count": 5,
   "metadata": {
    "slideshow": {
     "slide_type": "-"
    }
   },
   "outputs": [
    {
     "name": "stdout",
     "output_type": "stream",
     "text": [
      "正整数\n"
     ]
    }
   ],
   "source": [
    "# Try different number\n",
    "num = 3   \n",
    "# num = -5\n",
    "# num = 0\n",
    "\n",
    "if num >= 0:\n",
    "    if num == 0:\n",
    "        print(\"零\")\n",
    "    else:\n",
    "        print(\"正整数\")\n",
    "else:\n",
    "    print(\"负整数\")"
   ]
  },
  {
   "cell_type": "markdown",
   "metadata": {
    "slideshow": {
     "slide_type": "slide"
    }
   },
   "source": [
    "## 循环语句\n",
    "\n",
    "循环语句包括\n",
    "- `for`语句\n",
    "- `while`语句"
   ]
  },
  {
   "cell_type": "markdown",
   "metadata": {
    "slideshow": {
     "slide_type": "slide"
    }
   },
   "source": [
    "### `for`循环语句\n",
    "\n",
    "前面提过，计算机很笨但是计算的快。在进行大量计算时计算机比人的优势要显著得多。使用循环语句来运行指定语句块，能充分发挥计算机的优势。在 Python 中提供了 `for` 循环语句。`for`语句语法为：\n",
    "```pyhton\n",
    "for <variable> in <iterable>:\n",
    "    <statement(s)>\n",
    "else:\n",
    "    <statement(s)>\n",
    "```\n",
    "其中else分支是可选的。\n",
    "\n",
    "与条件语句一样，序号语句使用冒号`:`与缩进来实现。冒号之后缩进的语句块称为循环体。"
   ]
  },
  {
   "cell_type": "markdown",
   "metadata": {
    "slideshow": {
     "slide_type": "slide"
    }
   },
   "source": [
    "- 实现 `__getitem__()` 魔术方法的对象称为序列对象\n",
    "- 实现 `__iter__()` 魔术方法的对象称为可迭代对象。\n",
    "\n",
    "可以使用 `for` 语句来遍历序列中的所有元素："
   ]
  },
  {
   "cell_type": "code",
   "execution_count": 6,
   "metadata": {
    "slideshow": {
     "slide_type": "-"
    }
   },
   "outputs": [
    {
     "name": "stdout",
     "output_type": "stream",
     "text": [
      "1\n",
      "2\n",
      "3\n",
      "This is always printed.\n"
     ]
    }
   ],
   "source": [
    "datatypes = [1, 2, 3]\n",
    "for datatype in datatypes:\n",
    "    print(datatype)\n",
    "\n",
    "print(\"This is always printed.\")"
   ]
  },
  {
   "cell_type": "code",
   "execution_count": 7,
   "metadata": {
    "slideshow": {
     "slide_type": "slide"
    }
   },
   "outputs": [
    {
     "name": "stdout",
     "output_type": "stream",
     "text": [
      "72 101 108 108 111 80 121 116 104 111 110 33 "
     ]
    }
   ],
   "source": [
    "# a string\n",
    "for char in 'HelloPython!':\n",
    "    print(ord(char), end=' ')"
   ]
  },
  {
   "cell_type": "code",
   "execution_count": 8,
   "metadata": {
    "slideshow": {
     "slide_type": "slide"
    }
   },
   "outputs": [
    {
     "name": "stdout",
     "output_type": "stream",
     "text": [
      "Current color is  red\n",
      "Current color is  green\n",
      "Current color is  blue\n"
     ]
    }
   ],
   "source": [
    "# a tuple\n",
    "for color in ('red', 'green', 'blue'):\n",
    "    print('Current color is ', color)"
   ]
  },
  {
   "cell_type": "code",
   "execution_count": 9,
   "metadata": {
    "slideshow": {
     "slide_type": "slide"
    }
   },
   "outputs": [
    {
     "name": "stdout",
     "output_type": "stream",
     "text": [
      "code=600519\n",
      "name=贵州茅台\n",
      "listing_date=20010827\n",
      "issue_price=34.51\n",
      "low_price=25.88\n"
     ]
    }
   ],
   "source": [
    "stock = {\n",
    "    'code': 600519 , \n",
    "    'name': '贵州茅台', \n",
    "    'listing_date': 20010827,\n",
    "    'issue_price': 34.51,\n",
    "    'low_price': 25.88,    \n",
    "}\n",
    "for key, value in stock.items():\n",
    "    print('{0}={1}'.format(key, value))"
   ]
  },
  {
   "cell_type": "markdown",
   "metadata": {
    "slideshow": {
     "slide_type": "slide"
    }
   },
   "source": [
    "#### 内置函数`range()`\n",
    "\n",
    "如果需要简单遍历数字序列，可以使用 Python 内置函数 `range()` 函数："
   ]
  },
  {
   "cell_type": "code",
   "execution_count": 10,
   "metadata": {
    "slideshow": {
     "slide_type": "-"
    }
   },
   "outputs": [
    {
     "name": "stdout",
     "output_type": "stream",
     "text": [
      "90\n",
      "92\n",
      "94\n",
      "96\n",
      "98\n"
     ]
    }
   ],
   "source": [
    "for i in range(90, 100, 2):\n",
    "    print(i)"
   ]
  },
  {
   "cell_type": "markdown",
   "metadata": {
    "slideshow": {
     "slide_type": "slide"
    }
   },
   "source": [
    "#### 内置函数 `enumerate()`\n",
    "\n",
    "Python 内置函数 `enumerate()` 把一个序列组合为一个索引序列，即包括元素索引和元素。索引缺省从 0 开始，可以设置起始数："
   ]
  },
  {
   "cell_type": "code",
   "execution_count": 11,
   "metadata": {
    "slideshow": {
     "slide_type": "-"
    }
   },
   "outputs": [
    {
     "name": "stdout",
     "output_type": "stream",
     "text": [
      "大城市 0: 北\n",
      "大城市 1: 上\n",
      "大城市 2: 广\n",
      "大城市 3: 深\n"
     ]
    }
   ],
   "source": [
    "# a list \n",
    "citylist = ['北', '上', '广', '深']\n",
    "for index, city in enumerate(citylist):\n",
    "    print('大城市 {0}: {1}'.format(index, city))  \n",
    "    "
   ]
  },
  {
   "cell_type": "code",
   "execution_count": 12,
   "metadata": {
    "slideshow": {
     "slide_type": "slide"
    }
   },
   "outputs": [
    {
     "name": "stdout",
     "output_type": "stream",
     "text": [
      "大城市 1: 北\n",
      "大城市 2: 上\n",
      "大城市 3: 广\n",
      "大城市 4: 深\n"
     ]
    }
   ],
   "source": [
    "for index, city in enumerate(citylist, start=1):\n",
    "    print('大城市 {0}: {1}'.format(index, city))"
   ]
  },
  {
   "cell_type": "markdown",
   "metadata": {
    "slideshow": {
     "slide_type": "slide"
    }
   },
   "source": [
    "#### 内置函数 `zip()`\n",
    "\n",
    "使用 Python 内置函数 `zip()`，可以把多个序列的元素打包为元组，并把元组组成新的序列。下面实例使用 `zip()`函数实现两个序列的循环： "
   ]
  },
  {
   "cell_type": "code",
   "execution_count": 13,
   "metadata": {
    "slideshow": {
     "slide_type": "-"
    }
   },
   "outputs": [
    {
     "name": "stdout",
     "output_type": "stream",
     "text": [
      "东邪\n",
      "西毒\n",
      "南帝\n",
      "北丐\n"
     ]
    }
   ],
   "source": [
    "# two list\n",
    "alist = ['东', '西', '南', '北']\n",
    "blist = ['邪', '毒', '帝', '丐']\n",
    "for w1, w2 in zip(alist, blist):\n",
    "    print('{}{}'.format(w1, w2))"
   ]
  },
  {
   "cell_type": "markdown",
   "metadata": {
    "slideshow": {
     "slide_type": "slide"
    }
   },
   "source": [
    "### while 循环\n",
    "\n",
    "Python 还提供了 `while` 循环语句，其使用语法为：\n",
    "```pyhton\n",
    "while condition_expression:\n",
    "    while_suite\n",
    "else:\n",
    "    else_suite\n",
    "```\n",
    "其中`else`分支是可选的。"
   ]
  },
  {
   "cell_type": "code",
   "execution_count": 14,
   "metadata": {
    "slideshow": {
     "slide_type": "slide"
    }
   },
   "outputs": [
    {
     "name": "stdout",
     "output_type": "stream",
     "text": [
      "count =  1\n",
      "count =  2\n",
      "count =  3\n",
      "count =  4\n",
      "count =  5\n",
      "This is always printed.\n"
     ]
    }
   ],
   "source": [
    "count = 0\n",
    "while count < 5:\n",
    "    count += 1\n",
    "    print('count = ', count)\n",
    "    \n",
    "print(\"This is always printed.\")"
   ]
  },
  {
   "cell_type": "markdown",
   "metadata": {
    "slideshow": {
     "slide_type": "slide"
    }
   },
   "source": [
    "### 中断跳转语句（break 与continue）\n",
    "\n",
    "在 `for` 或 `while` 循环中，在循环体中使用 `break` 语句，会中断循环。如果循环语句执行了 `break` 语句，则循环语句中的 `else` 语句不会执行。"
   ]
  },
  {
   "cell_type": "code",
   "execution_count": 15,
   "metadata": {
    "slideshow": {
     "slide_type": "-"
    }
   },
   "outputs": [
    {
     "name": "stdout",
     "output_type": "stream",
     "text": [
      "大城市 1: 上\n"
     ]
    }
   ],
   "source": [
    "citylist = ['北', '上', '广', '深']\n",
    "for index, city in enumerate(citylist):\n",
    "    if city == '上':\n",
    "        print('大城市 {0}: {1}'.format(index, city))\n",
    "        break\n",
    "else:\n",
    "    print('没有运行 break')"
   ]
  },
  {
   "cell_type": "markdown",
   "metadata": {
    "slideshow": {
     "slide_type": "slide"
    }
   },
   "source": [
    "使用 `continue` 语句，则会跳过循环体余下的语句，进入下一循环："
   ]
  },
  {
   "cell_type": "code",
   "execution_count": 16,
   "metadata": {
    "slideshow": {
     "slide_type": "-"
    }
   },
   "outputs": [
    {
     "name": "stdout",
     "output_type": "stream",
     "text": [
      "I don't like city 北\n",
      "I don't like city 广\n",
      "I don't like city 深\n"
     ]
    }
   ],
   "source": [
    "citylist = ['北', '上', '广', '深']\n",
    "for city in citylist:\n",
    "    if city == '上':\n",
    "        continue\n",
    "        \n",
    "    print(\"I don't like city {0}\".format(city))"
   ]
  },
  {
   "cell_type": "markdown",
   "metadata": {
    "slideshow": {
     "slide_type": "slide"
    }
   },
   "source": [
    "## pass 语句\n",
    "\n",
    "Python 中的 `pass` 是一个空语句，顾名思义,啥也不做。一般用来做占位语句，目的是保持程序结构的完整性。"
   ]
  },
  {
   "cell_type": "code",
   "execution_count": 17,
   "metadata": {
    "slideshow": {
     "slide_type": "-"
    }
   },
   "outputs": [],
   "source": [
    "citylist = ['北', '上', '广', '深']\n",
    "for index, city in enumerate(citylist):\n",
    "    pass"
   ]
  }
 ],
 "metadata": {
  "celltoolbar": "幻灯片",
  "kernelspec": {
   "display_name": "Python 3",
   "language": "python",
   "name": "python3"
  },
  "language_info": {
   "codemirror_mode": {
    "name": "ipython",
    "version": 3
   },
   "file_extension": ".py",
   "mimetype": "text/x-python",
   "name": "python",
   "nbconvert_exporter": "python",
   "pygments_lexer": "ipython3",
   "version": "3.7.3"
  },
  "toc": {
   "base_numbering": 1,
   "nav_menu": {},
   "number_sections": true,
   "sideBar": true,
   "skip_h1_title": false,
   "title_cell": "Table of Contents",
   "title_sidebar": "Contents",
   "toc_cell": false,
   "toc_position": {},
   "toc_section_display": true,
   "toc_window_display": true
  }
 },
 "nbformat": 4,
 "nbformat_minor": 1
}
